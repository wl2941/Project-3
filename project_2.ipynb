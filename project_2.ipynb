{
 "cells": [
  {
   "cell_type": "markdown",
   "id": "52bff896",
   "metadata": {},
   "source": [
    "# Project 2: Investigating the relationship between development finance and carbon emissions"
   ]
  },
  {
   "cell_type": "markdown",
   "id": "f5f9cffc-bdd7-4763-8ef6-200359cd58ff",
   "metadata": {
    "editable": true,
    "slideshow": {
     "slide_type": ""
    },
    "tags": []
   },
   "source": [
    "Indonesia is a fascinating case for exploring the unintended consequences of development finance. While international funding often aims to boost economic growth and improve livelihoods, it can also have environmental side effects—like an increase in carbon emissions.\n",
    "\n",
    "Using publicly available data on international development finance and carbon emissions in Indonesia, I performed a rudimentary analysis to uncover how financial inflows correlate with changes in greenhouse gas outputs. \n",
    "\n",
    "I wanted to know: Does more development finance lead to higher emissions, or can it support greener growth? My hypothesis is that in general, development finance leads to higher economic growth, which increases emission intensity. "
   ]
  },
  {
   "cell_type": "markdown",
   "id": "b16258d2-298d-459e-8d7b-ef83ee7569b3",
   "metadata": {},
   "source": [
    "## I. About the Data"
   ]
  },
  {
   "cell_type": "markdown",
   "id": "6272c517-64f4-48c9-8b39-efe41a08a74c",
   "metadata": {},
   "source": [
    "### Dataset 1: oecd_finance\n",
    "The first dataset focuses on development finance receipts in Indonesia, sourced from DAC countries. It includes total financial inflows measured in current prices and reported in millions of US dollars, from the period 1960 - 2022. The only filter I performed was filtering for recipient country on the OECD website. \n",
    "\n",
    "Dataset link: https://data-explorer.oecd.org/vis?fs[0]=Topic%2C1%7CDevelopment%23DEV%23%7COfficial%20Development%20Assistance%20%28ODA%29%23DEV_ODA%23&fs[1]=Topic%2C2%7CDevelopment%23DEV%23%7COfficial%20Development%20Assistance%20%28ODA%29%23DEV_ODA%23%7CFlows%20by%20provider%20and%20recipient%23DEV_ODA_FPR%23&pg=0&fc=Topic&snb=7&vw=tb&df[ds]=dsDisseminateFinalDMZ&df[id]=DSD_DAC2%40DF_RECPTS&df[ag]=OECD.DCD.FSD&df[vs]=1.1&dq=DAC.IDN..USD.&pd=%2C&to[TIME_PERIOD]=false\n",
    "\n",
    "### Dataset 2: emission_intensity\n",
    "The second dataset shows CO2 emissons per capita in Indonesia, from the period 2000 - 2022. No filter was performed on the data.\n",
    "\n",
    "Dataset link: https://www.iea.org/countries/indonesia/emissions"
   ]
  },
  {
   "cell_type": "markdown",
   "id": "6a1a6d17-31a6-4e53-8b9e-ffe051cc08cd",
   "metadata": {},
   "source": [
    "## II. Data Manipulation"
   ]
  },
  {
   "cell_type": "markdown",
   "id": "87d89cb8-3b5e-4d06-bcf6-772457bd4156",
   "metadata": {},
   "source": [
    "### 1. Import modules and read data"
   ]
  },
  {
   "cell_type": "code",
   "execution_count": 20,
   "id": "e3808b74-2ca0-4f52-bda0-6c5b20f5ec21",
   "metadata": {},
   "outputs": [],
   "source": [
    "import pandas as pd\n",
    "import plotly.express as px\n",
    "\n",
    "filex_path = '/Users/wanqi/Desktop/oecd_finance.csv'\n",
    "filey_path = '/Users/wanqi/Desktop/emission_intensity.csv'"
   ]
  },
  {
   "cell_type": "code",
   "execution_count": 21,
   "id": "6101386e-dd88-429d-94d9-f3cb31f4a5d8",
   "metadata": {},
   "outputs": [
    {
     "ename": "FileNotFoundError",
     "evalue": "[Errno 2] No such file or directory: '/Users/wanqi/Desktop/oecd_finance.csv'",
     "output_type": "error",
     "traceback": [
      "\u001b[0;31m---------------------------------------------------------------------------\u001b[0m",
      "\u001b[0;31mFileNotFoundError\u001b[0m                         Traceback (most recent call last)",
      "Cell \u001b[0;32mIn[21], line 1\u001b[0m\n\u001b[0;32m----> 1\u001b[0m finance_data \u001b[38;5;241m=\u001b[39m pd\u001b[38;5;241m.\u001b[39mread_csv(filex_path)\n\u001b[1;32m      2\u001b[0m finance_data\u001b[38;5;241m.\u001b[39minfo()\n",
      "File \u001b[0;32m/opt/anaconda3/lib/python3.12/site-packages/pandas/io/parsers/readers.py:1026\u001b[0m, in \u001b[0;36mread_csv\u001b[0;34m(filepath_or_buffer, sep, delimiter, header, names, index_col, usecols, dtype, engine, converters, true_values, false_values, skipinitialspace, skiprows, skipfooter, nrows, na_values, keep_default_na, na_filter, verbose, skip_blank_lines, parse_dates, infer_datetime_format, keep_date_col, date_parser, date_format, dayfirst, cache_dates, iterator, chunksize, compression, thousands, decimal, lineterminator, quotechar, quoting, doublequote, escapechar, comment, encoding, encoding_errors, dialect, on_bad_lines, delim_whitespace, low_memory, memory_map, float_precision, storage_options, dtype_backend)\u001b[0m\n\u001b[1;32m   1013\u001b[0m kwds_defaults \u001b[38;5;241m=\u001b[39m _refine_defaults_read(\n\u001b[1;32m   1014\u001b[0m     dialect,\n\u001b[1;32m   1015\u001b[0m     delimiter,\n\u001b[0;32m   (...)\u001b[0m\n\u001b[1;32m   1022\u001b[0m     dtype_backend\u001b[38;5;241m=\u001b[39mdtype_backend,\n\u001b[1;32m   1023\u001b[0m )\n\u001b[1;32m   1024\u001b[0m kwds\u001b[38;5;241m.\u001b[39mupdate(kwds_defaults)\n\u001b[0;32m-> 1026\u001b[0m \u001b[38;5;28;01mreturn\u001b[39;00m _read(filepath_or_buffer, kwds)\n",
      "File \u001b[0;32m/opt/anaconda3/lib/python3.12/site-packages/pandas/io/parsers/readers.py:620\u001b[0m, in \u001b[0;36m_read\u001b[0;34m(filepath_or_buffer, kwds)\u001b[0m\n\u001b[1;32m    617\u001b[0m _validate_names(kwds\u001b[38;5;241m.\u001b[39mget(\u001b[38;5;124m\"\u001b[39m\u001b[38;5;124mnames\u001b[39m\u001b[38;5;124m\"\u001b[39m, \u001b[38;5;28;01mNone\u001b[39;00m))\n\u001b[1;32m    619\u001b[0m \u001b[38;5;66;03m# Create the parser.\u001b[39;00m\n\u001b[0;32m--> 620\u001b[0m parser \u001b[38;5;241m=\u001b[39m TextFileReader(filepath_or_buffer, \u001b[38;5;241m*\u001b[39m\u001b[38;5;241m*\u001b[39mkwds)\n\u001b[1;32m    622\u001b[0m \u001b[38;5;28;01mif\u001b[39;00m chunksize \u001b[38;5;129;01mor\u001b[39;00m iterator:\n\u001b[1;32m    623\u001b[0m     \u001b[38;5;28;01mreturn\u001b[39;00m parser\n",
      "File \u001b[0;32m/opt/anaconda3/lib/python3.12/site-packages/pandas/io/parsers/readers.py:1620\u001b[0m, in \u001b[0;36mTextFileReader.__init__\u001b[0;34m(self, f, engine, **kwds)\u001b[0m\n\u001b[1;32m   1617\u001b[0m     \u001b[38;5;28mself\u001b[39m\u001b[38;5;241m.\u001b[39moptions[\u001b[38;5;124m\"\u001b[39m\u001b[38;5;124mhas_index_names\u001b[39m\u001b[38;5;124m\"\u001b[39m] \u001b[38;5;241m=\u001b[39m kwds[\u001b[38;5;124m\"\u001b[39m\u001b[38;5;124mhas_index_names\u001b[39m\u001b[38;5;124m\"\u001b[39m]\n\u001b[1;32m   1619\u001b[0m \u001b[38;5;28mself\u001b[39m\u001b[38;5;241m.\u001b[39mhandles: IOHandles \u001b[38;5;241m|\u001b[39m \u001b[38;5;28;01mNone\u001b[39;00m \u001b[38;5;241m=\u001b[39m \u001b[38;5;28;01mNone\u001b[39;00m\n\u001b[0;32m-> 1620\u001b[0m \u001b[38;5;28mself\u001b[39m\u001b[38;5;241m.\u001b[39m_engine \u001b[38;5;241m=\u001b[39m \u001b[38;5;28mself\u001b[39m\u001b[38;5;241m.\u001b[39m_make_engine(f, \u001b[38;5;28mself\u001b[39m\u001b[38;5;241m.\u001b[39mengine)\n",
      "File \u001b[0;32m/opt/anaconda3/lib/python3.12/site-packages/pandas/io/parsers/readers.py:1880\u001b[0m, in \u001b[0;36mTextFileReader._make_engine\u001b[0;34m(self, f, engine)\u001b[0m\n\u001b[1;32m   1878\u001b[0m     \u001b[38;5;28;01mif\u001b[39;00m \u001b[38;5;124m\"\u001b[39m\u001b[38;5;124mb\u001b[39m\u001b[38;5;124m\"\u001b[39m \u001b[38;5;129;01mnot\u001b[39;00m \u001b[38;5;129;01min\u001b[39;00m mode:\n\u001b[1;32m   1879\u001b[0m         mode \u001b[38;5;241m+\u001b[39m\u001b[38;5;241m=\u001b[39m \u001b[38;5;124m\"\u001b[39m\u001b[38;5;124mb\u001b[39m\u001b[38;5;124m\"\u001b[39m\n\u001b[0;32m-> 1880\u001b[0m \u001b[38;5;28mself\u001b[39m\u001b[38;5;241m.\u001b[39mhandles \u001b[38;5;241m=\u001b[39m get_handle(\n\u001b[1;32m   1881\u001b[0m     f,\n\u001b[1;32m   1882\u001b[0m     mode,\n\u001b[1;32m   1883\u001b[0m     encoding\u001b[38;5;241m=\u001b[39m\u001b[38;5;28mself\u001b[39m\u001b[38;5;241m.\u001b[39moptions\u001b[38;5;241m.\u001b[39mget(\u001b[38;5;124m\"\u001b[39m\u001b[38;5;124mencoding\u001b[39m\u001b[38;5;124m\"\u001b[39m, \u001b[38;5;28;01mNone\u001b[39;00m),\n\u001b[1;32m   1884\u001b[0m     compression\u001b[38;5;241m=\u001b[39m\u001b[38;5;28mself\u001b[39m\u001b[38;5;241m.\u001b[39moptions\u001b[38;5;241m.\u001b[39mget(\u001b[38;5;124m\"\u001b[39m\u001b[38;5;124mcompression\u001b[39m\u001b[38;5;124m\"\u001b[39m, \u001b[38;5;28;01mNone\u001b[39;00m),\n\u001b[1;32m   1885\u001b[0m     memory_map\u001b[38;5;241m=\u001b[39m\u001b[38;5;28mself\u001b[39m\u001b[38;5;241m.\u001b[39moptions\u001b[38;5;241m.\u001b[39mget(\u001b[38;5;124m\"\u001b[39m\u001b[38;5;124mmemory_map\u001b[39m\u001b[38;5;124m\"\u001b[39m, \u001b[38;5;28;01mFalse\u001b[39;00m),\n\u001b[1;32m   1886\u001b[0m     is_text\u001b[38;5;241m=\u001b[39mis_text,\n\u001b[1;32m   1887\u001b[0m     errors\u001b[38;5;241m=\u001b[39m\u001b[38;5;28mself\u001b[39m\u001b[38;5;241m.\u001b[39moptions\u001b[38;5;241m.\u001b[39mget(\u001b[38;5;124m\"\u001b[39m\u001b[38;5;124mencoding_errors\u001b[39m\u001b[38;5;124m\"\u001b[39m, \u001b[38;5;124m\"\u001b[39m\u001b[38;5;124mstrict\u001b[39m\u001b[38;5;124m\"\u001b[39m),\n\u001b[1;32m   1888\u001b[0m     storage_options\u001b[38;5;241m=\u001b[39m\u001b[38;5;28mself\u001b[39m\u001b[38;5;241m.\u001b[39moptions\u001b[38;5;241m.\u001b[39mget(\u001b[38;5;124m\"\u001b[39m\u001b[38;5;124mstorage_options\u001b[39m\u001b[38;5;124m\"\u001b[39m, \u001b[38;5;28;01mNone\u001b[39;00m),\n\u001b[1;32m   1889\u001b[0m )\n\u001b[1;32m   1890\u001b[0m \u001b[38;5;28;01massert\u001b[39;00m \u001b[38;5;28mself\u001b[39m\u001b[38;5;241m.\u001b[39mhandles \u001b[38;5;129;01mis\u001b[39;00m \u001b[38;5;129;01mnot\u001b[39;00m \u001b[38;5;28;01mNone\u001b[39;00m\n\u001b[1;32m   1891\u001b[0m f \u001b[38;5;241m=\u001b[39m \u001b[38;5;28mself\u001b[39m\u001b[38;5;241m.\u001b[39mhandles\u001b[38;5;241m.\u001b[39mhandle\n",
      "File \u001b[0;32m/opt/anaconda3/lib/python3.12/site-packages/pandas/io/common.py:873\u001b[0m, in \u001b[0;36mget_handle\u001b[0;34m(path_or_buf, mode, encoding, compression, memory_map, is_text, errors, storage_options)\u001b[0m\n\u001b[1;32m    868\u001b[0m \u001b[38;5;28;01melif\u001b[39;00m \u001b[38;5;28misinstance\u001b[39m(handle, \u001b[38;5;28mstr\u001b[39m):\n\u001b[1;32m    869\u001b[0m     \u001b[38;5;66;03m# Check whether the filename is to be opened in binary mode.\u001b[39;00m\n\u001b[1;32m    870\u001b[0m     \u001b[38;5;66;03m# Binary mode does not support 'encoding' and 'newline'.\u001b[39;00m\n\u001b[1;32m    871\u001b[0m     \u001b[38;5;28;01mif\u001b[39;00m ioargs\u001b[38;5;241m.\u001b[39mencoding \u001b[38;5;129;01mand\u001b[39;00m \u001b[38;5;124m\"\u001b[39m\u001b[38;5;124mb\u001b[39m\u001b[38;5;124m\"\u001b[39m \u001b[38;5;129;01mnot\u001b[39;00m \u001b[38;5;129;01min\u001b[39;00m ioargs\u001b[38;5;241m.\u001b[39mmode:\n\u001b[1;32m    872\u001b[0m         \u001b[38;5;66;03m# Encoding\u001b[39;00m\n\u001b[0;32m--> 873\u001b[0m         handle \u001b[38;5;241m=\u001b[39m \u001b[38;5;28mopen\u001b[39m(\n\u001b[1;32m    874\u001b[0m             handle,\n\u001b[1;32m    875\u001b[0m             ioargs\u001b[38;5;241m.\u001b[39mmode,\n\u001b[1;32m    876\u001b[0m             encoding\u001b[38;5;241m=\u001b[39mioargs\u001b[38;5;241m.\u001b[39mencoding,\n\u001b[1;32m    877\u001b[0m             errors\u001b[38;5;241m=\u001b[39merrors,\n\u001b[1;32m    878\u001b[0m             newline\u001b[38;5;241m=\u001b[39m\u001b[38;5;124m\"\u001b[39m\u001b[38;5;124m\"\u001b[39m,\n\u001b[1;32m    879\u001b[0m         )\n\u001b[1;32m    880\u001b[0m     \u001b[38;5;28;01melse\u001b[39;00m:\n\u001b[1;32m    881\u001b[0m         \u001b[38;5;66;03m# Binary mode\u001b[39;00m\n\u001b[1;32m    882\u001b[0m         handle \u001b[38;5;241m=\u001b[39m \u001b[38;5;28mopen\u001b[39m(handle, ioargs\u001b[38;5;241m.\u001b[39mmode)\n",
      "\u001b[0;31mFileNotFoundError\u001b[0m: [Errno 2] No such file or directory: '/Users/wanqi/Desktop/oecd_finance.csv'"
     ]
    }
   ],
   "source": [
    "finance_data = pd.read_csv(filex_path)\n",
    "finance_data.info()"
   ]
  },
  {
   "cell_type": "code",
   "execution_count": null,
   "id": "142a5d01-2f79-4364-9538-c443e55a9dec",
   "metadata": {},
   "outputs": [
    {
     "name": "stdout",
     "output_type": "stream",
     "text": [
      "<class 'pandas.core.frame.DataFrame'>\n",
      "RangeIndex: 23 entries, 0 to 22\n",
      "Data columns (total 3 columns):\n",
      " #   Column                               Non-Null Count  Dtype  \n",
      "---  ------                               --------------  -----  \n",
      " 0   Year                                 23 non-null     int64  \n",
      " 1   CO2 emissions per capita, Indonesia  23 non-null     float64\n",
      " 2   Units                                23 non-null     object \n",
      "dtypes: float64(1), int64(1), object(1)\n",
      "memory usage: 684.0+ bytes\n"
     ]
    }
   ],
   "source": [
    "emissions_data = pd.read_csv(filey_path)\n",
    "emissions_data.info()"
   ]
  },
  {
   "cell_type": "markdown",
   "id": "eb123f73-561a-4ee0-9a13-a48e9796b61f",
   "metadata": {},
   "source": [
    "### 2. Data cleaning"
   ]
  },
  {
   "cell_type": "code",
   "execution_count": null,
   "id": "c3edd9b1-2539-4a96-a51e-29fb66582a0b",
   "metadata": {},
   "outputs": [
    {
     "data": {
      "text/html": [
       "<div>\n",
       "<style scoped>\n",
       "    .dataframe tbody tr th:only-of-type {\n",
       "        vertical-align: middle;\n",
       "    }\n",
       "\n",
       "    .dataframe tbody tr th {\n",
       "        vertical-align: top;\n",
       "    }\n",
       "\n",
       "    .dataframe thead th {\n",
       "        text-align: right;\n",
       "    }\n",
       "</style>\n",
       "<table border=\"1\" class=\"dataframe\">\n",
       "  <thead>\n",
       "    <tr style=\"text-align: right;\">\n",
       "      <th></th>\n",
       "      <th>TIME_PERIOD</th>\n",
       "      <th>OBS_VALUE</th>\n",
       "    </tr>\n",
       "  </thead>\n",
       "  <tbody>\n",
       "    <tr>\n",
       "      <th>56</th>\n",
       "      <td>1960</td>\n",
       "      <td>81.06</td>\n",
       "    </tr>\n",
       "    <tr>\n",
       "      <th>57</th>\n",
       "      <td>1961</td>\n",
       "      <td>109.95</td>\n",
       "    </tr>\n",
       "    <tr>\n",
       "      <th>58</th>\n",
       "      <td>1962</td>\n",
       "      <td>152.94</td>\n",
       "    </tr>\n",
       "    <tr>\n",
       "      <th>59</th>\n",
       "      <td>1963</td>\n",
       "      <td>104.33</td>\n",
       "    </tr>\n",
       "    <tr>\n",
       "      <th>60</th>\n",
       "      <td>1964</td>\n",
       "      <td>63.24</td>\n",
       "    </tr>\n",
       "  </tbody>\n",
       "</table>\n",
       "</div>"
      ],
      "text/plain": [
       "    TIME_PERIOD  OBS_VALUE\n",
       "56         1960      81.06\n",
       "57         1961     109.95\n",
       "58         1962     152.94\n",
       "59         1963     104.33\n",
       "60         1964      63.24"
      ]
     },
     "execution_count": 146,
     "metadata": {},
     "output_type": "execute_result"
    }
   ],
   "source": [
    "selected_columns = ['TIME_PERIOD', 'OBS_VALUE']\n",
    "finance_data = finance_data[selected_columns].sort_values('TIME_PERIOD')\n",
    "finance_data.head()"
   ]
  },
  {
   "cell_type": "markdown",
   "id": "13aa9676-3ad4-485e-8d12-ddfc06d29201",
   "metadata": {},
   "source": [
    "Though both datasets appeared to be clean, I still performed manipulations to change years to int and values to float."
   ]
  },
  {
   "cell_type": "code",
   "execution_count": null,
   "id": "3eff5fa5-15e5-4b57-8c5c-5d926e3b7091",
   "metadata": {},
   "outputs": [
    {
     "name": "stdout",
     "output_type": "stream",
     "text": [
      "<class 'pandas.core.frame.DataFrame'>\n",
      "Index: 63 entries, 56 to 2\n",
      "Data columns (total 2 columns):\n",
      " #   Column                        Non-Null Count  Dtype  \n",
      "---  ------                        --------------  -----  \n",
      " 0   Year                          63 non-null     int64  \n",
      " 1   ODA received in USD millions  63 non-null     float64\n",
      "dtypes: float64(1), int64(1)\n",
      "memory usage: 1.5 KB\n"
     ]
    }
   ],
   "source": [
    "finance_data['TIME_PERIOD'] = finance_data['TIME_PERIOD'].astype(int)\n",
    "finance_data['OBS_VALUE'] = finance_data['OBS_VALUE'].fillna(0).astype(float)\n",
    "finance_data = finance_data.rename(columns={'TIME_PERIOD' : 'Year','OBS_VALUE' : 'ODA received in USD millions'})\n",
    "finance_data.info()"
   ]
  },
  {
   "cell_type": "code",
   "execution_count": null,
   "id": "1960a12b-e210-49d1-ab95-8b43beb9c6f7",
   "metadata": {},
   "outputs": [
    {
     "name": "stdout",
     "output_type": "stream",
     "text": [
      "<class 'pandas.core.frame.DataFrame'>\n",
      "RangeIndex: 23 entries, 0 to 22\n",
      "Data columns (total 2 columns):\n",
      " #   Column                                   Non-Null Count  Dtype  \n",
      "---  ------                                   --------------  -----  \n",
      " 0   Year                                     23 non-null     int64  \n",
      " 1   CO2 emissions per capita in tCO2/Capita  23 non-null     float64\n",
      "dtypes: float64(1), int64(1)\n",
      "memory usage: 500.0 bytes\n"
     ]
    }
   ],
   "source": [
    "emissions_data = emissions_data[['Year','CO2 emissions per capita, Indonesia']].sort_values('Year')\n",
    "emissions_data['Year'] = emissions_data['Year'].astype(int)\n",
    "emissions_data['CO2 emissions per capita, Indonesia'] = emissions_data['CO2 emissions per capita, Indonesia'].fillna(0).astype(float)\n",
    "emissions_data = emissions_data.rename(\n",
    "    columns={'CO2 emissions per capita, Indonesia' : 'CO2 emissions per capita in tCO2/Capita'}\n",
    ")\n",
    "emissions_data.info()"
   ]
  },
  {
   "cell_type": "markdown",
   "id": "2b1b212c-83f5-448e-948b-223867e191ff",
   "metadata": {},
   "source": [
    "### 3. Data Merging"
   ]
  },
  {
   "cell_type": "code",
   "execution_count": null,
   "id": "3fd8cc11-5eb1-4ba0-9704-b45c9edce79e",
   "metadata": {},
   "outputs": [
    {
     "data": {
      "text/html": [
       "<div>\n",
       "<style scoped>\n",
       "    .dataframe tbody tr th:only-of-type {\n",
       "        vertical-align: middle;\n",
       "    }\n",
       "\n",
       "    .dataframe tbody tr th {\n",
       "        vertical-align: top;\n",
       "    }\n",
       "\n",
       "    .dataframe thead th {\n",
       "        text-align: right;\n",
       "    }\n",
       "</style>\n",
       "<table border=\"1\" class=\"dataframe\">\n",
       "  <thead>\n",
       "    <tr style=\"text-align: right;\">\n",
       "      <th></th>\n",
       "      <th>Year</th>\n",
       "      <th>ODA received in USD millions</th>\n",
       "      <th>CO2 emissions per capita in tCO2/Capita</th>\n",
       "    </tr>\n",
       "  </thead>\n",
       "  <tbody>\n",
       "    <tr>\n",
       "      <th>0</th>\n",
       "      <td>2000</td>\n",
       "      <td>1532.880000</td>\n",
       "      <td>1.191</td>\n",
       "    </tr>\n",
       "    <tr>\n",
       "      <th>1</th>\n",
       "      <td>2001</td>\n",
       "      <td>-81.170000</td>\n",
       "      <td>1.263</td>\n",
       "    </tr>\n",
       "    <tr>\n",
       "      <th>2</th>\n",
       "      <td>2002</td>\n",
       "      <td>101.600000</td>\n",
       "      <td>1.272</td>\n",
       "    </tr>\n",
       "    <tr>\n",
       "      <th>3</th>\n",
       "      <td>2003</td>\n",
       "      <td>4622.500000</td>\n",
       "      <td>1.384</td>\n",
       "    </tr>\n",
       "    <tr>\n",
       "      <th>4</th>\n",
       "      <td>2004</td>\n",
       "      <td>389.860000</td>\n",
       "      <td>1.398</td>\n",
       "    </tr>\n",
       "    <tr>\n",
       "      <th>5</th>\n",
       "      <td>2005</td>\n",
       "      <td>8040.480000</td>\n",
       "      <td>1.388</td>\n",
       "    </tr>\n",
       "    <tr>\n",
       "      <th>6</th>\n",
       "      <td>2006</td>\n",
       "      <td>3146.740000</td>\n",
       "      <td>1.462</td>\n",
       "    </tr>\n",
       "    <tr>\n",
       "      <th>7</th>\n",
       "      <td>2007</td>\n",
       "      <td>1101.730000</td>\n",
       "      <td>1.512</td>\n",
       "    </tr>\n",
       "    <tr>\n",
       "      <th>8</th>\n",
       "      <td>2008</td>\n",
       "      <td>2055.300000</td>\n",
       "      <td>1.473</td>\n",
       "    </tr>\n",
       "    <tr>\n",
       "      <th>9</th>\n",
       "      <td>2009</td>\n",
       "      <td>3965.290000</td>\n",
       "      <td>1.518</td>\n",
       "    </tr>\n",
       "    <tr>\n",
       "      <th>10</th>\n",
       "      <td>2010</td>\n",
       "      <td>4978.580000</td>\n",
       "      <td>1.605</td>\n",
       "    </tr>\n",
       "    <tr>\n",
       "      <th>11</th>\n",
       "      <td>2011</td>\n",
       "      <td>10437.830000</td>\n",
       "      <td>1.822</td>\n",
       "    </tr>\n",
       "    <tr>\n",
       "      <th>12</th>\n",
       "      <td>2012</td>\n",
       "      <td>7436.663592</td>\n",
       "      <td>1.804</td>\n",
       "    </tr>\n",
       "    <tr>\n",
       "      <th>13</th>\n",
       "      <td>2013</td>\n",
       "      <td>7075.354789</td>\n",
       "      <td>1.669</td>\n",
       "    </tr>\n",
       "    <tr>\n",
       "      <th>14</th>\n",
       "      <td>2014</td>\n",
       "      <td>10973.031523</td>\n",
       "      <td>1.767</td>\n",
       "    </tr>\n",
       "    <tr>\n",
       "      <th>15</th>\n",
       "      <td>2015</td>\n",
       "      <td>10191.435784</td>\n",
       "      <td>1.770</td>\n",
       "    </tr>\n",
       "    <tr>\n",
       "      <th>16</th>\n",
       "      <td>2016</td>\n",
       "      <td>11987.128634</td>\n",
       "      <td>1.720</td>\n",
       "    </tr>\n",
       "    <tr>\n",
       "      <th>17</th>\n",
       "      <td>2017</td>\n",
       "      <td>13135.601778</td>\n",
       "      <td>1.797</td>\n",
       "    </tr>\n",
       "    <tr>\n",
       "      <th>18</th>\n",
       "      <td>2018</td>\n",
       "      <td>9042.144594</td>\n",
       "      <td>1.985</td>\n",
       "    </tr>\n",
       "    <tr>\n",
       "      <th>19</th>\n",
       "      <td>2019</td>\n",
       "      <td>12995.457007</td>\n",
       "      <td>2.112</td>\n",
       "    </tr>\n",
       "    <tr>\n",
       "      <th>20</th>\n",
       "      <td>2020</td>\n",
       "      <td>6984.326853</td>\n",
       "      <td>1.956</td>\n",
       "    </tr>\n",
       "    <tr>\n",
       "      <th>21</th>\n",
       "      <td>2021</td>\n",
       "      <td>9773.469996</td>\n",
       "      <td>2.025</td>\n",
       "    </tr>\n",
       "    <tr>\n",
       "      <th>22</th>\n",
       "      <td>2022</td>\n",
       "      <td>-221.416042</td>\n",
       "      <td>2.365</td>\n",
       "    </tr>\n",
       "  </tbody>\n",
       "</table>\n",
       "</div>"
      ],
      "text/plain": [
       "    Year  ODA received in USD millions  \\\n",
       "0   2000                   1532.880000   \n",
       "1   2001                    -81.170000   \n",
       "2   2002                    101.600000   \n",
       "3   2003                   4622.500000   \n",
       "4   2004                    389.860000   \n",
       "5   2005                   8040.480000   \n",
       "6   2006                   3146.740000   \n",
       "7   2007                   1101.730000   \n",
       "8   2008                   2055.300000   \n",
       "9   2009                   3965.290000   \n",
       "10  2010                   4978.580000   \n",
       "11  2011                  10437.830000   \n",
       "12  2012                   7436.663592   \n",
       "13  2013                   7075.354789   \n",
       "14  2014                  10973.031523   \n",
       "15  2015                  10191.435784   \n",
       "16  2016                  11987.128634   \n",
       "17  2017                  13135.601778   \n",
       "18  2018                   9042.144594   \n",
       "19  2019                  12995.457007   \n",
       "20  2020                   6984.326853   \n",
       "21  2021                   9773.469996   \n",
       "22  2022                   -221.416042   \n",
       "\n",
       "    CO2 emissions per capita in tCO2/Capita  \n",
       "0                                     1.191  \n",
       "1                                     1.263  \n",
       "2                                     1.272  \n",
       "3                                     1.384  \n",
       "4                                     1.398  \n",
       "5                                     1.388  \n",
       "6                                     1.462  \n",
       "7                                     1.512  \n",
       "8                                     1.473  \n",
       "9                                     1.518  \n",
       "10                                    1.605  \n",
       "11                                    1.822  \n",
       "12                                    1.804  \n",
       "13                                    1.669  \n",
       "14                                    1.767  \n",
       "15                                    1.770  \n",
       "16                                    1.720  \n",
       "17                                    1.797  \n",
       "18                                    1.985  \n",
       "19                                    2.112  \n",
       "20                                    1.956  \n",
       "21                                    2.025  \n",
       "22                                    2.365  "
      ]
     },
     "execution_count": 139,
     "metadata": {},
     "output_type": "execute_result"
    }
   ],
   "source": [
    "indo_data = pd.merge(finance_data, emissions_data, on='Year', how='inner')\n",
    "indo_data"
   ]
  },
  {
   "cell_type": "markdown",
   "id": "fc8de0e1-54b0-4e65-8d0a-4d205d15b480",
   "metadata": {},
   "source": [
    "## III. Data Visualization"
   ]
  },
  {
   "cell_type": "code",
   "execution_count": null,
   "id": "cf9a96cf",
   "metadata": {},
   "outputs": [],
   "source": [
    "import plotly.io as pio\n",
    "pio.renderers.default = \"vscode+jupyterlab+notebook_connected\""
   ]
  },
  {
   "cell_type": "markdown",
   "id": "0120416a-e937-4d79-b7ff-a64b395cb8e7",
   "metadata": {},
   "source": [
    "### 1. Visualization for individual datasets\n",
    "\n",
    "I first made a scatterplot of the finance data from 2000 - 2022 to observe trends across time. Generally, ODA to Indonesia has increased from 2000-2022, save for the steep drop during COVID."
   ]
  },
  {
   "cell_type": "code",
   "execution_count": null,
   "id": "c0aa5e5a-5db1-486a-aa85-47a3eec79d84",
   "metadata": {},
   "outputs": [
    {
     "data": {
      "application/vnd.plotly.v1+json": {
       "config": {
        "plotlyServerURL": "https://plot.ly"
       },
       "data": [
        {
         "hovertemplate": "Year=%{x}<br>ODA received in USD millions=%{y}<extra></extra>",
         "legendgroup": "",
         "marker": {
          "color": "#636efa",
          "symbol": "circle"
         },
         "mode": "markers",
         "name": "",
         "orientation": "v",
         "showlegend": false,
         "type": "scatter",
         "x": [
          2000,
          2001,
          2002,
          2003,
          2004,
          2005,
          2006,
          2007,
          2008,
          2009,
          2010,
          2011,
          2012,
          2013,
          2014,
          2015,
          2016,
          2017,
          2018,
          2019,
          2020,
          2021,
          2022
         ],
         "xaxis": "x",
         "y": [
          1532.88,
          -81.17,
          101.6,
          4622.5,
          389.86,
          8040.48,
          3146.74,
          1101.73,
          2055.3,
          3965.29,
          4978.58,
          10437.83,
          7436.663592,
          7075.354789,
          10973.031523,
          10191.435784,
          11987.128634,
          13135.601778,
          9042.144594,
          12995.457007,
          6984.326853,
          9773.469996,
          -221.416042
         ],
         "yaxis": "y"
        },
        {
         "hovertemplate": "<b>OLS trendline</b><br>ODA received in USD millions = 410.382 * Year + -819205<br>R<sup>2</sup>=0.382053<br><br>Year=%{x}<br>ODA received in USD millions=%{y} <b>(trend)</b><extra></extra>",
         "legendgroup": "",
         "marker": {
          "color": "#636efa",
          "symbol": "circle"
         },
         "mode": "lines",
         "name": "",
         "showlegend": false,
         "type": "scatter",
         "x": [
          2000,
          2001,
          2002,
          2003,
          2004,
          2005,
          2006,
          2007,
          2008,
          2009,
          2010,
          2011,
          2012,
          2013,
          2014,
          2015,
          2016,
          2017,
          2018,
          2019,
          2020,
          2021,
          2022
         ],
         "xaxis": "x",
         "y": [
          1558.1851731518982,
          1968.5668313554488,
          2378.9484895589994,
          2789.3301477626665,
          3199.711805966217,
          3610.0934641697677,
          4020.4751223733183,
          4430.856780576869,
          4841.2384387804195,
          5251.62009698397,
          5662.001755187521,
          6072.383413391071,
          6482.765071594622,
          6893.146729798289,
          7303.52838800184,
          7713.91004620539,
          8124.291704408941,
          8534.673362612491,
          8945.055020816042,
          9355.436679019593,
          9765.818337223143,
          10176.199995426694,
          10586.581653630245
         ],
         "yaxis": "y"
        }
       ],
       "layout": {
        "autosize": true,
        "legend": {
         "tracegroupgap": 0
        },
        "template": {
         "data": {
          "bar": [
           {
            "error_x": {
             "color": "#2a3f5f"
            },
            "error_y": {
             "color": "#2a3f5f"
            },
            "marker": {
             "line": {
              "color": "#E5ECF6",
              "width": 0.5
             },
             "pattern": {
              "fillmode": "overlay",
              "size": 10,
              "solidity": 0.2
             }
            },
            "type": "bar"
           }
          ],
          "barpolar": [
           {
            "marker": {
             "line": {
              "color": "#E5ECF6",
              "width": 0.5
             },
             "pattern": {
              "fillmode": "overlay",
              "size": 10,
              "solidity": 0.2
             }
            },
            "type": "barpolar"
           }
          ],
          "carpet": [
           {
            "aaxis": {
             "endlinecolor": "#2a3f5f",
             "gridcolor": "white",
             "linecolor": "white",
             "minorgridcolor": "white",
             "startlinecolor": "#2a3f5f"
            },
            "baxis": {
             "endlinecolor": "#2a3f5f",
             "gridcolor": "white",
             "linecolor": "white",
             "minorgridcolor": "white",
             "startlinecolor": "#2a3f5f"
            },
            "type": "carpet"
           }
          ],
          "choropleth": [
           {
            "colorbar": {
             "outlinewidth": 0,
             "ticks": ""
            },
            "type": "choropleth"
           }
          ],
          "contour": [
           {
            "colorbar": {
             "outlinewidth": 0,
             "ticks": ""
            },
            "colorscale": [
             [
              0,
              "#0d0887"
             ],
             [
              0.1111111111111111,
              "#46039f"
             ],
             [
              0.2222222222222222,
              "#7201a8"
             ],
             [
              0.3333333333333333,
              "#9c179e"
             ],
             [
              0.4444444444444444,
              "#bd3786"
             ],
             [
              0.5555555555555556,
              "#d8576b"
             ],
             [
              0.6666666666666666,
              "#ed7953"
             ],
             [
              0.7777777777777778,
              "#fb9f3a"
             ],
             [
              0.8888888888888888,
              "#fdca26"
             ],
             [
              1,
              "#f0f921"
             ]
            ],
            "type": "contour"
           }
          ],
          "contourcarpet": [
           {
            "colorbar": {
             "outlinewidth": 0,
             "ticks": ""
            },
            "type": "contourcarpet"
           }
          ],
          "heatmap": [
           {
            "colorbar": {
             "outlinewidth": 0,
             "ticks": ""
            },
            "colorscale": [
             [
              0,
              "#0d0887"
             ],
             [
              0.1111111111111111,
              "#46039f"
             ],
             [
              0.2222222222222222,
              "#7201a8"
             ],
             [
              0.3333333333333333,
              "#9c179e"
             ],
             [
              0.4444444444444444,
              "#bd3786"
             ],
             [
              0.5555555555555556,
              "#d8576b"
             ],
             [
              0.6666666666666666,
              "#ed7953"
             ],
             [
              0.7777777777777778,
              "#fb9f3a"
             ],
             [
              0.8888888888888888,
              "#fdca26"
             ],
             [
              1,
              "#f0f921"
             ]
            ],
            "type": "heatmap"
           }
          ],
          "heatmapgl": [
           {
            "colorbar": {
             "outlinewidth": 0,
             "ticks": ""
            },
            "colorscale": [
             [
              0,
              "#0d0887"
             ],
             [
              0.1111111111111111,
              "#46039f"
             ],
             [
              0.2222222222222222,
              "#7201a8"
             ],
             [
              0.3333333333333333,
              "#9c179e"
             ],
             [
              0.4444444444444444,
              "#bd3786"
             ],
             [
              0.5555555555555556,
              "#d8576b"
             ],
             [
              0.6666666666666666,
              "#ed7953"
             ],
             [
              0.7777777777777778,
              "#fb9f3a"
             ],
             [
              0.8888888888888888,
              "#fdca26"
             ],
             [
              1,
              "#f0f921"
             ]
            ],
            "type": "heatmapgl"
           }
          ],
          "histogram": [
           {
            "marker": {
             "pattern": {
              "fillmode": "overlay",
              "size": 10,
              "solidity": 0.2
             }
            },
            "type": "histogram"
           }
          ],
          "histogram2d": [
           {
            "colorbar": {
             "outlinewidth": 0,
             "ticks": ""
            },
            "colorscale": [
             [
              0,
              "#0d0887"
             ],
             [
              0.1111111111111111,
              "#46039f"
             ],
             [
              0.2222222222222222,
              "#7201a8"
             ],
             [
              0.3333333333333333,
              "#9c179e"
             ],
             [
              0.4444444444444444,
              "#bd3786"
             ],
             [
              0.5555555555555556,
              "#d8576b"
             ],
             [
              0.6666666666666666,
              "#ed7953"
             ],
             [
              0.7777777777777778,
              "#fb9f3a"
             ],
             [
              0.8888888888888888,
              "#fdca26"
             ],
             [
              1,
              "#f0f921"
             ]
            ],
            "type": "histogram2d"
           }
          ],
          "histogram2dcontour": [
           {
            "colorbar": {
             "outlinewidth": 0,
             "ticks": ""
            },
            "colorscale": [
             [
              0,
              "#0d0887"
             ],
             [
              0.1111111111111111,
              "#46039f"
             ],
             [
              0.2222222222222222,
              "#7201a8"
             ],
             [
              0.3333333333333333,
              "#9c179e"
             ],
             [
              0.4444444444444444,
              "#bd3786"
             ],
             [
              0.5555555555555556,
              "#d8576b"
             ],
             [
              0.6666666666666666,
              "#ed7953"
             ],
             [
              0.7777777777777778,
              "#fb9f3a"
             ],
             [
              0.8888888888888888,
              "#fdca26"
             ],
             [
              1,
              "#f0f921"
             ]
            ],
            "type": "histogram2dcontour"
           }
          ],
          "mesh3d": [
           {
            "colorbar": {
             "outlinewidth": 0,
             "ticks": ""
            },
            "type": "mesh3d"
           }
          ],
          "parcoords": [
           {
            "line": {
             "colorbar": {
              "outlinewidth": 0,
              "ticks": ""
             }
            },
            "type": "parcoords"
           }
          ],
          "pie": [
           {
            "automargin": true,
            "type": "pie"
           }
          ],
          "scatter": [
           {
            "fillpattern": {
             "fillmode": "overlay",
             "size": 10,
             "solidity": 0.2
            },
            "type": "scatter"
           }
          ],
          "scatter3d": [
           {
            "line": {
             "colorbar": {
              "outlinewidth": 0,
              "ticks": ""
             }
            },
            "marker": {
             "colorbar": {
              "outlinewidth": 0,
              "ticks": ""
             }
            },
            "type": "scatter3d"
           }
          ],
          "scattercarpet": [
           {
            "marker": {
             "colorbar": {
              "outlinewidth": 0,
              "ticks": ""
             }
            },
            "type": "scattercarpet"
           }
          ],
          "scattergeo": [
           {
            "marker": {
             "colorbar": {
              "outlinewidth": 0,
              "ticks": ""
             }
            },
            "type": "scattergeo"
           }
          ],
          "scattergl": [
           {
            "marker": {
             "colorbar": {
              "outlinewidth": 0,
              "ticks": ""
             }
            },
            "type": "scattergl"
           }
          ],
          "scattermapbox": [
           {
            "marker": {
             "colorbar": {
              "outlinewidth": 0,
              "ticks": ""
             }
            },
            "type": "scattermapbox"
           }
          ],
          "scatterpolar": [
           {
            "marker": {
             "colorbar": {
              "outlinewidth": 0,
              "ticks": ""
             }
            },
            "type": "scatterpolar"
           }
          ],
          "scatterpolargl": [
           {
            "marker": {
             "colorbar": {
              "outlinewidth": 0,
              "ticks": ""
             }
            },
            "type": "scatterpolargl"
           }
          ],
          "scatterternary": [
           {
            "marker": {
             "colorbar": {
              "outlinewidth": 0,
              "ticks": ""
             }
            },
            "type": "scatterternary"
           }
          ],
          "surface": [
           {
            "colorbar": {
             "outlinewidth": 0,
             "ticks": ""
            },
            "colorscale": [
             [
              0,
              "#0d0887"
             ],
             [
              0.1111111111111111,
              "#46039f"
             ],
             [
              0.2222222222222222,
              "#7201a8"
             ],
             [
              0.3333333333333333,
              "#9c179e"
             ],
             [
              0.4444444444444444,
              "#bd3786"
             ],
             [
              0.5555555555555556,
              "#d8576b"
             ],
             [
              0.6666666666666666,
              "#ed7953"
             ],
             [
              0.7777777777777778,
              "#fb9f3a"
             ],
             [
              0.8888888888888888,
              "#fdca26"
             ],
             [
              1,
              "#f0f921"
             ]
            ],
            "type": "surface"
           }
          ],
          "table": [
           {
            "cells": {
             "fill": {
              "color": "#EBF0F8"
             },
             "line": {
              "color": "white"
             }
            },
            "header": {
             "fill": {
              "color": "#C8D4E3"
             },
             "line": {
              "color": "white"
             }
            },
            "type": "table"
           }
          ]
         },
         "layout": {
          "annotationdefaults": {
           "arrowcolor": "#2a3f5f",
           "arrowhead": 0,
           "arrowwidth": 1
          },
          "autotypenumbers": "strict",
          "coloraxis": {
           "colorbar": {
            "outlinewidth": 0,
            "ticks": ""
           }
          },
          "colorscale": {
           "diverging": [
            [
             0,
             "#8e0152"
            ],
            [
             0.1,
             "#c51b7d"
            ],
            [
             0.2,
             "#de77ae"
            ],
            [
             0.3,
             "#f1b6da"
            ],
            [
             0.4,
             "#fde0ef"
            ],
            [
             0.5,
             "#f7f7f7"
            ],
            [
             0.6,
             "#e6f5d0"
            ],
            [
             0.7,
             "#b8e186"
            ],
            [
             0.8,
             "#7fbc41"
            ],
            [
             0.9,
             "#4d9221"
            ],
            [
             1,
             "#276419"
            ]
           ],
           "sequential": [
            [
             0,
             "#0d0887"
            ],
            [
             0.1111111111111111,
             "#46039f"
            ],
            [
             0.2222222222222222,
             "#7201a8"
            ],
            [
             0.3333333333333333,
             "#9c179e"
            ],
            [
             0.4444444444444444,
             "#bd3786"
            ],
            [
             0.5555555555555556,
             "#d8576b"
            ],
            [
             0.6666666666666666,
             "#ed7953"
            ],
            [
             0.7777777777777778,
             "#fb9f3a"
            ],
            [
             0.8888888888888888,
             "#fdca26"
            ],
            [
             1,
             "#f0f921"
            ]
           ],
           "sequentialminus": [
            [
             0,
             "#0d0887"
            ],
            [
             0.1111111111111111,
             "#46039f"
            ],
            [
             0.2222222222222222,
             "#7201a8"
            ],
            [
             0.3333333333333333,
             "#9c179e"
            ],
            [
             0.4444444444444444,
             "#bd3786"
            ],
            [
             0.5555555555555556,
             "#d8576b"
            ],
            [
             0.6666666666666666,
             "#ed7953"
            ],
            [
             0.7777777777777778,
             "#fb9f3a"
            ],
            [
             0.8888888888888888,
             "#fdca26"
            ],
            [
             1,
             "#f0f921"
            ]
           ]
          },
          "colorway": [
           "#636efa",
           "#EF553B",
           "#00cc96",
           "#ab63fa",
           "#FFA15A",
           "#19d3f3",
           "#FF6692",
           "#B6E880",
           "#FF97FF",
           "#FECB52"
          ],
          "font": {
           "color": "#2a3f5f"
          },
          "geo": {
           "bgcolor": "white",
           "lakecolor": "white",
           "landcolor": "#E5ECF6",
           "showlakes": true,
           "showland": true,
           "subunitcolor": "white"
          },
          "hoverlabel": {
           "align": "left"
          },
          "hovermode": "closest",
          "mapbox": {
           "style": "light"
          },
          "paper_bgcolor": "white",
          "plot_bgcolor": "#E5ECF6",
          "polar": {
           "angularaxis": {
            "gridcolor": "white",
            "linecolor": "white",
            "ticks": ""
           },
           "bgcolor": "#E5ECF6",
           "radialaxis": {
            "gridcolor": "white",
            "linecolor": "white",
            "ticks": ""
           }
          },
          "scene": {
           "xaxis": {
            "backgroundcolor": "#E5ECF6",
            "gridcolor": "white",
            "gridwidth": 2,
            "linecolor": "white",
            "showbackground": true,
            "ticks": "",
            "zerolinecolor": "white"
           },
           "yaxis": {
            "backgroundcolor": "#E5ECF6",
            "gridcolor": "white",
            "gridwidth": 2,
            "linecolor": "white",
            "showbackground": true,
            "ticks": "",
            "zerolinecolor": "white"
           },
           "zaxis": {
            "backgroundcolor": "#E5ECF6",
            "gridcolor": "white",
            "gridwidth": 2,
            "linecolor": "white",
            "showbackground": true,
            "ticks": "",
            "zerolinecolor": "white"
           }
          },
          "shapedefaults": {
           "line": {
            "color": "#2a3f5f"
           }
          },
          "ternary": {
           "aaxis": {
            "gridcolor": "white",
            "linecolor": "white",
            "ticks": ""
           },
           "baxis": {
            "gridcolor": "white",
            "linecolor": "white",
            "ticks": ""
           },
           "bgcolor": "#E5ECF6",
           "caxis": {
            "gridcolor": "white",
            "linecolor": "white",
            "ticks": ""
           }
          },
          "title": {
           "x": 0.05
          },
          "xaxis": {
           "automargin": true,
           "gridcolor": "white",
           "linecolor": "white",
           "ticks": "",
           "title": {
            "standoff": 15
           },
           "zerolinecolor": "white",
           "zerolinewidth": 2
          },
          "yaxis": {
           "automargin": true,
           "gridcolor": "white",
           "linecolor": "white",
           "ticks": "",
           "title": {
            "standoff": 15
           },
           "zerolinecolor": "white",
           "zerolinewidth": 2
          }
         }
        },
        "title": {
         "text": "ODA received by Indonesia from 2000-2022 (USD millions)"
        },
        "xaxis": {
         "anchor": "y",
         "autorange": true,
         "domain": [
          0,
          1
         ],
         "range": [
          1998.6564774381368,
          2023.3435225618632
         ],
         "title": {
          "text": "Year"
         },
         "type": "linear"
        },
        "yaxis": {
         "anchor": "x",
         "autorange": true,
         "domain": [
          0,
          1
         ],
         "range": [
          -1323.6942116116506,
          14237.879947611651
         ],
         "title": {
          "text": "ODA received in USD millions"
         },
         "type": "linear"
        }
       }
      },
      "image/png": "[encoded data removed]",
      "text/html": [
       "<div>                            <div id=\"911d87ce-f9f9-4020-b4dc-c6c3ed945a83\" class=\"plotly-graph-div\" style=\"height:525px; width:100%;\"></div>            <script type=\"text/javascript\">                require([\"plotly\"], function(Plotly) {                    window.PLOTLYENV=window.PLOTLYENV || {};                                    if (document.getElementById(\"911d87ce-f9f9-4020-b4dc-c6c3ed945a83\")) {                    Plotly.newPlot(                        \"911d87ce-f9f9-4020-b4dc-c6c3ed945a83\",                        [{\"hovertemplate\":\"Year=%{x}\\u003cbr\\u003eODA received in USD millions=%{y}\\u003cextra\\u003e\\u003c\\u002fextra\\u003e\",\"legendgroup\":\"\",\"marker\":{\"color\":\"#636efa\",\"symbol\":\"circle\"},\"mode\":\"markers\",\"name\":\"\",\"orientation\":\"v\",\"showlegend\":false,\"x\":[2000,2001,2002,2003,2004,2005,2006,2007,2008,2009,2010,2011,2012,2013,2014,2015,2016,2017,2018,2019,2020,2021,2022],\"xaxis\":\"x\",\"y\":[1532.88,-81.17,101.6,4622.5,389.86,8040.48,3146.74,1101.73,2055.3,3965.29,4978.58,10437.83,7436.663592,7075.354789,10973.031523,10191.435784,11987.128634,13135.601778,9042.144594,12995.457007,6984.326853,9773.469996,-221.416042],\"yaxis\":\"y\",\"type\":\"scatter\"},{\"hovertemplate\":\"\\u003cb\\u003eOLS trendline\\u003c\\u002fb\\u003e\\u003cbr\\u003eODA received in USD millions = 410.382 * Year + -819205\\u003cbr\\u003eR\\u003csup\\u003e2\\u003c\\u002fsup\\u003e=0.382053\\u003cbr\\u003e\\u003cbr\\u003eYear=%{x}\\u003cbr\\u003eODA received in USD millions=%{y} \\u003cb\\u003e(trend)\\u003c\\u002fb\\u003e\\u003cextra\\u003e\\u003c\\u002fextra\\u003e\",\"legendgroup\":\"\",\"marker\":{\"color\":\"#636efa\",\"symbol\":\"circle\"},\"mode\":\"lines\",\"name\":\"\",\"showlegend\":false,\"x\":[2000,2001,2002,2003,2004,2005,2006,2007,2008,2009,2010,2011,2012,2013,2014,2015,2016,2017,2018,2019,2020,2021,2022],\"xaxis\":\"x\",\"y\":[1558.1851731518982,1968.5668313554488,2378.9484895589994,2789.3301477626665,3199.711805966217,3610.0934641697677,4020.4751223733183,4430.856780576869,4841.2384387804195,5251.62009698397,5662.001755187521,6072.383413391071,6482.765071594622,6893.146729798289,7303.52838800184,7713.91004620539,8124.291704408941,8534.673362612491,8945.055020816042,9355.436679019593,9765.818337223143,10176.199995426694,10586.581653630245],\"yaxis\":\"y\",\"type\":\"scatter\"}],                        {\"template\":{\"data\":{\"histogram2dcontour\":[{\"type\":\"histogram2dcontour\",\"colorbar\":{\"outlinewidth\":0,\"ticks\":\"\"},\"colorscale\":[[0.0,\"#0d0887\"],[0.1111111111111111,\"#46039f\"],[0.2222222222222222,\"#7201a8\"],[0.3333333333333333,\"#9c179e\"],[0.4444444444444444,\"#bd3786\"],[0.5555555555555556,\"#d8576b\"],[0.6666666666666666,\"#ed7953\"],[0.7777777777777778,\"#fb9f3a\"],[0.8888888888888888,\"#fdca26\"],[1.0,\"#f0f921\"]]}],\"choropleth\":[{\"type\":\"choropleth\",\"colorbar\":{\"outlinewidth\":0,\"ticks\":\"\"}}],\"histogram2d\":[{\"type\":\"histogram2d\",\"colorbar\":{\"outlinewidth\":0,\"ticks\":\"\"},\"colorscale\":[[0.0,\"#0d0887\"],[0.1111111111111111,\"#46039f\"],[0.2222222222222222,\"#7201a8\"],[0.3333333333333333,\"#9c179e\"],[0.4444444444444444,\"#bd3786\"],[0.5555555555555556,\"#d8576b\"],[0.6666666666666666,\"#ed7953\"],[0.7777777777777778,\"#fb9f3a\"],[0.8888888888888888,\"#fdca26\"],[1.0,\"#f0f921\"]]}],\"heatmap\":[{\"type\":\"heatmap\",\"colorbar\":{\"outlinewidth\":0,\"ticks\":\"\"},\"colorscale\":[[0.0,\"#0d0887\"],[0.1111111111111111,\"#46039f\"],[0.2222222222222222,\"#7201a8\"],[0.3333333333333333,\"#9c179e\"],[0.4444444444444444,\"#bd3786\"],[0.5555555555555556,\"#d8576b\"],[0.6666666666666666,\"#ed7953\"],[0.7777777777777778,\"#fb9f3a\"],[0.8888888888888888,\"#fdca26\"],[1.0,\"#f0f921\"]]}],\"heatmapgl\":[{\"type\":\"heatmapgl\",\"colorbar\":{\"outlinewidth\":0,\"ticks\":\"\"},\"colorscale\":[[0.0,\"#0d0887\"],[0.1111111111111111,\"#46039f\"],[0.2222222222222222,\"#7201a8\"],[0.3333333333333333,\"#9c179e\"],[0.4444444444444444,\"#bd3786\"],[0.5555555555555556,\"#d8576b\"],[0.6666666666666666,\"#ed7953\"],[0.7777777777777778,\"#fb9f3a\"],[0.8888888888888888,\"#fdca26\"],[1.0,\"#f0f921\"]]}],\"contourcarpet\":[{\"type\":\"contourcarpet\",\"colorbar\":{\"outlinewidth\":0,\"ticks\":\"\"}}],\"contour\":[{\"type\":\"contour\",\"colorbar\":{\"outlinewidth\":0,\"ticks\":\"\"},\"colorscale\":[[0.0,\"#0d0887\"],[0.1111111111111111,\"#46039f\"],[0.2222222222222222,\"#7201a8\"],[0.3333333333333333,\"#9c179e\"],[0.4444444444444444,\"#bd3786\"],[0.5555555555555556,\"#d8576b\"],[0.6666666666666666,\"#ed7953\"],[0.7777777777777778,\"#fb9f3a\"],[0.8888888888888888,\"#fdca26\"],[1.0,\"#f0f921\"]]}],\"surface\":[{\"type\":\"surface\",\"colorbar\":{\"outlinewidth\":0,\"ticks\":\"\"},\"colorscale\":[[0.0,\"#0d0887\"],[0.1111111111111111,\"#46039f\"],[0.2222222222222222,\"#7201a8\"],[0.3333333333333333,\"#9c179e\"],[0.4444444444444444,\"#bd3786\"],[0.5555555555555556,\"#d8576b\"],[0.6666666666666666,\"#ed7953\"],[0.7777777777777778,\"#fb9f3a\"],[0.8888888888888888,\"#fdca26\"],[1.0,\"#f0f921\"]]}],\"mesh3d\":[{\"type\":\"mesh3d\",\"colorbar\":{\"outlinewidth\":0,\"ticks\":\"\"}}],\"scatter\":[{\"fillpattern\":{\"fillmode\":\"overlay\",\"size\":10,\"solidity\":0.2},\"type\":\"scatter\"}],\"parcoords\":[{\"type\":\"parcoords\",\"line\":{\"colorbar\":{\"outlinewidth\":0,\"ticks\":\"\"}}}],\"scatterpolargl\":[{\"type\":\"scatterpolargl\",\"marker\":{\"colorbar\":{\"outlinewidth\":0,\"ticks\":\"\"}}}],\"bar\":[{\"error_x\":{\"color\":\"#2a3f5f\"},\"error_y\":{\"color\":\"#2a3f5f\"},\"marker\":{\"line\":{\"color\":\"#E5ECF6\",\"width\":0.5},\"pattern\":{\"fillmode\":\"overlay\",\"size\":10,\"solidity\":0.2}},\"type\":\"bar\"}],\"scattergeo\":[{\"type\":\"scattergeo\",\"marker\":{\"colorbar\":{\"outlinewidth\":0,\"ticks\":\"\"}}}],\"scatterpolar\":[{\"type\":\"scatterpolar\",\"marker\":{\"colorbar\":{\"outlinewidth\":0,\"ticks\":\"\"}}}],\"histogram\":[{\"marker\":{\"pattern\":{\"fillmode\":\"overlay\",\"size\":10,\"solidity\":0.2}},\"type\":\"histogram\"}],\"scattergl\":[{\"type\":\"scattergl\",\"marker\":{\"colorbar\":{\"outlinewidth\":0,\"ticks\":\"\"}}}],\"scatter3d\":[{\"type\":\"scatter3d\",\"line\":{\"colorbar\":{\"outlinewidth\":0,\"ticks\":\"\"}},\"marker\":{\"colorbar\":{\"outlinewidth\":0,\"ticks\":\"\"}}}],\"scattermapbox\":[{\"type\":\"scattermapbox\",\"marker\":{\"colorbar\":{\"outlinewidth\":0,\"ticks\":\"\"}}}],\"scatterternary\":[{\"type\":\"scatterternary\",\"marker\":{\"colorbar\":{\"outlinewidth\":0,\"ticks\":\"\"}}}],\"scattercarpet\":[{\"type\":\"scattercarpet\",\"marker\":{\"colorbar\":{\"outlinewidth\":0,\"ticks\":\"\"}}}],\"carpet\":[{\"aaxis\":{\"endlinecolor\":\"#2a3f5f\",\"gridcolor\":\"white\",\"linecolor\":\"white\",\"minorgridcolor\":\"white\",\"startlinecolor\":\"#2a3f5f\"},\"baxis\":{\"endlinecolor\":\"#2a3f5f\",\"gridcolor\":\"white\",\"linecolor\":\"white\",\"minorgridcolor\":\"white\",\"startlinecolor\":\"#2a3f5f\"},\"type\":\"carpet\"}],\"table\":[{\"cells\":{\"fill\":{\"color\":\"#EBF0F8\"},\"line\":{\"color\":\"white\"}},\"header\":{\"fill\":{\"color\":\"#C8D4E3\"},\"line\":{\"color\":\"white\"}},\"type\":\"table\"}],\"barpolar\":[{\"marker\":{\"line\":{\"color\":\"#E5ECF6\",\"width\":0.5},\"pattern\":{\"fillmode\":\"overlay\",\"size\":10,\"solidity\":0.2}},\"type\":\"barpolar\"}],\"pie\":[{\"automargin\":true,\"type\":\"pie\"}]},\"layout\":{\"autotypenumbers\":\"strict\",\"colorway\":[\"#636efa\",\"#EF553B\",\"#00cc96\",\"#ab63fa\",\"#FFA15A\",\"#19d3f3\",\"#FF6692\",\"#B6E880\",\"#FF97FF\",\"#FECB52\"],\"font\":{\"color\":\"#2a3f5f\"},\"hovermode\":\"closest\",\"hoverlabel\":{\"align\":\"left\"},\"paper_bgcolor\":\"white\",\"plot_bgcolor\":\"#E5ECF6\",\"polar\":{\"bgcolor\":\"#E5ECF6\",\"angularaxis\":{\"gridcolor\":\"white\",\"linecolor\":\"white\",\"ticks\":\"\"},\"radialaxis\":{\"gridcolor\":\"white\",\"linecolor\":\"white\",\"ticks\":\"\"}},\"ternary\":{\"bgcolor\":\"#E5ECF6\",\"aaxis\":{\"gridcolor\":\"white\",\"linecolor\":\"white\",\"ticks\":\"\"},\"baxis\":{\"gridcolor\":\"white\",\"linecolor\":\"white\",\"ticks\":\"\"},\"caxis\":{\"gridcolor\":\"white\",\"linecolor\":\"white\",\"ticks\":\"\"}},\"coloraxis\":{\"colorbar\":{\"outlinewidth\":0,\"ticks\":\"\"}},\"colorscale\":{\"sequential\":[[0.0,\"#0d0887\"],[0.1111111111111111,\"#46039f\"],[0.2222222222222222,\"#7201a8\"],[0.3333333333333333,\"#9c179e\"],[0.4444444444444444,\"#bd3786\"],[0.5555555555555556,\"#d8576b\"],[0.6666666666666666,\"#ed7953\"],[0.7777777777777778,\"#fb9f3a\"],[0.8888888888888888,\"#fdca26\"],[1.0,\"#f0f921\"]],\"sequentialminus\":[[0.0,\"#0d0887\"],[0.1111111111111111,\"#46039f\"],[0.2222222222222222,\"#7201a8\"],[0.3333333333333333,\"#9c179e\"],[0.4444444444444444,\"#bd3786\"],[0.5555555555555556,\"#d8576b\"],[0.6666666666666666,\"#ed7953\"],[0.7777777777777778,\"#fb9f3a\"],[0.8888888888888888,\"#fdca26\"],[1.0,\"#f0f921\"]],\"diverging\":[[0,\"#8e0152\"],[0.1,\"#c51b7d\"],[0.2,\"#de77ae\"],[0.3,\"#f1b6da\"],[0.4,\"#fde0ef\"],[0.5,\"#f7f7f7\"],[0.6,\"#e6f5d0\"],[0.7,\"#b8e186\"],[0.8,\"#7fbc41\"],[0.9,\"#4d9221\"],[1,\"#276419\"]]},\"xaxis\":{\"gridcolor\":\"white\",\"linecolor\":\"white\",\"ticks\":\"\",\"title\":{\"standoff\":15},\"zerolinecolor\":\"white\",\"automargin\":true,\"zerolinewidth\":2},\"yaxis\":{\"gridcolor\":\"white\",\"linecolor\":\"white\",\"ticks\":\"\",\"title\":{\"standoff\":15},\"zerolinecolor\":\"white\",\"automargin\":true,\"zerolinewidth\":2},\"scene\":{\"xaxis\":{\"backgroundcolor\":\"#E5ECF6\",\"gridcolor\":\"white\",\"linecolor\":\"white\",\"showbackground\":true,\"ticks\":\"\",\"zerolinecolor\":\"white\",\"gridwidth\":2},\"yaxis\":{\"backgroundcolor\":\"#E5ECF6\",\"gridcolor\":\"white\",\"linecolor\":\"white\",\"showbackground\":true,\"ticks\":\"\",\"zerolinecolor\":\"white\",\"gridwidth\":2},\"zaxis\":{\"backgroundcolor\":\"#E5ECF6\",\"gridcolor\":\"white\",\"linecolor\":\"white\",\"showbackground\":true,\"ticks\":\"\",\"zerolinecolor\":\"white\",\"gridwidth\":2}},\"shapedefaults\":{\"line\":{\"color\":\"#2a3f5f\"}},\"annotationdefaults\":{\"arrowcolor\":\"#2a3f5f\",\"arrowhead\":0,\"arrowwidth\":1},\"geo\":{\"bgcolor\":\"white\",\"landcolor\":\"#E5ECF6\",\"subunitcolor\":\"white\",\"showland\":true,\"showlakes\":true,\"lakecolor\":\"white\"},\"title\":{\"x\":0.05},\"mapbox\":{\"style\":\"light\"}}},\"xaxis\":{\"anchor\":\"y\",\"domain\":[0.0,1.0],\"title\":{\"text\":\"Year\"}},\"yaxis\":{\"anchor\":\"x\",\"domain\":[0.0,1.0],\"title\":{\"text\":\"ODA received in USD millions\"}},\"legend\":{\"tracegroupgap\":0},\"title\":{\"text\":\"ODA received by Indonesia from 2000-2022 (USD millions)\"}},                        {\"responsive\": true}                    ).then(function(){\n",
       "                            \n",
       "var gd = document.getElementById('911d87ce-f9f9-4020-b4dc-c6c3ed945a83');\n",
       "var x = new MutationObserver(function (mutations, observer) {{\n",
       "        var display = window.getComputedStyle(gd).display;\n",
       "        if (!display || display === 'none') {{\n",
       "            console.log([gd, 'removed!']);\n",
       "            Plotly.purge(gd);\n",
       "            observer.disconnect();\n",
       "        }}\n",
       "}});\n",
       "\n",
       "// Listen for the removal of the full notebook cells\n",
       "var notebookContainer = gd.closest('#notebook-container');\n",
       "if (notebookContainer) {{\n",
       "    x.observe(notebookContainer, {childList: true});\n",
       "}}\n",
       "\n",
       "// Listen for the clearing of the current output cell\n",
       "var outputEl = gd.closest('.output');\n",
       "if (outputEl) {{\n",
       "    x.observe(outputEl, {childList: true});\n",
       "}}\n",
       "\n",
       "                        })                };                });            </script>        </div>"
      ]
     },
     "metadata": {},
     "output_type": "display_data"
    }
   ],
   "source": [
    "fig1 = px.scatter(\n",
    "    indo_data,\n",
    "    x='Year',\n",
    "    y='ODA received in USD millions',\n",
    "    title='ODA received by Indonesia from 2000-2022 (USD millions)',\n",
    "    trendline=\"ols\",\n",
    ")\n",
    "\n",
    "fig1.show()"
   ]
  },
  {
   "cell_type": "markdown",
   "id": "a694713c-19ae-4b5e-8fe2-1f2de409505c",
   "metadata": {},
   "source": [
    "I then made a scatterplot of the emissions intensity data from 2000 - 2022 to observe trends across time. Generally, emissions intensity in Indonesia increased steadily from 2000 to 2022, showing much less fluctuations than development finance."
   ]
  },
  {
   "cell_type": "code",
   "execution_count": null,
   "id": "483ab50c-832d-4f8c-800a-e9572d99dd26",
   "metadata": {},
   "outputs": [
    {
     "data": {
      "application/vnd.plotly.v1+json": {
       "config": {
        "plotlyServerURL": "https://plot.ly"
       },
       "data": [
        {
         "hovertemplate": "Year=%{x}<br>CO2 emissions per capita in tCO2/Capita=%{y}<extra></extra>",
         "legendgroup": "",
         "marker": {
          "color": "#636efa",
          "symbol": "circle"
         },
         "mode": "markers",
         "name": "",
         "orientation": "v",
         "showlegend": false,
         "type": "scatter",
         "x": [
          2000,
          2001,
          2002,
          2003,
          2004,
          2005,
          2006,
          2007,
          2008,
          2009,
          2010,
          2011,
          2012,
          2013,
          2014,
          2015,
          2016,
          2017,
          2018,
          2019,
          2020,
          2021,
          2022
         ],
         "xaxis": "x",
         "y": [
          1.191,
          1.263,
          1.272,
          1.384,
          1.398,
          1.388,
          1.462,
          1.512,
          1.473,
          1.518,
          1.605,
          1.822,
          1.804,
          1.669,
          1.767,
          1.77,
          1.72,
          1.797,
          1.985,
          2.112,
          1.956,
          2.025,
          2.365
         ],
         "yaxis": "y"
        },
        {
         "hovertemplate": "<b>OLS trendline</b><br>CO2 emissions per capita in tCO2/Capita = 0.0422747 * Year + -83.351<br>R<sup>2</sup>=0.910355<br><br>Year=%{x}<br>CO2 emissions per capita in tCO2/Capita=%{y} <b>(trend)</b><extra></extra>",
         "legendgroup": "",
         "marker": {
          "color": "#636efa",
          "symbol": "circle"
         },
         "mode": "lines",
         "name": "",
         "showlegend": false,
         "type": "scatter",
         "x": [
          2000,
          2001,
          2002,
          2003,
          2004,
          2005,
          2006,
          2007,
          2008,
          2009,
          2010,
          2011,
          2012,
          2013,
          2014,
          2015,
          2016,
          2017,
          2018,
          2019,
          2020,
          2021,
          2022
         ],
         "xaxis": "x",
         "y": [
          1.198369565217348,
          1.240644268774659,
          1.28291897233197,
          1.325193675889281,
          1.3674683794466063,
          1.4097430830039173,
          1.4520177865612283,
          1.4942924901185393,
          1.5365671936758503,
          1.5788418972331613,
          1.6211166007904723,
          1.6633913043477833,
          1.7056660079051085,
          1.7479407114624195,
          1.7902154150197305,
          1.8324901185770415,
          1.8747648221343525,
          1.9170395256916635,
          1.9593142292489745,
          2.0015889328062855,
          2.0438636363636107,
          2.0861383399209217,
          2.1284130434782327
         ],
         "yaxis": "y"
        }
       ],
       "layout": {
        "autosize": true,
        "legend": {
         "tracegroupgap": 0
        },
        "template": {
         "data": {
          "bar": [
           {
            "error_x": {
             "color": "#2a3f5f"
            },
            "error_y": {
             "color": "#2a3f5f"
            },
            "marker": {
             "line": {
              "color": "#E5ECF6",
              "width": 0.5
             },
             "pattern": {
              "fillmode": "overlay",
              "size": 10,
              "solidity": 0.2
             }
            },
            "type": "bar"
           }
          ],
          "barpolar": [
           {
            "marker": {
             "line": {
              "color": "#E5ECF6",
              "width": 0.5
             },
             "pattern": {
              "fillmode": "overlay",
              "size": 10,
              "solidity": 0.2
             }
            },
            "type": "barpolar"
           }
          ],
          "carpet": [
           {
            "aaxis": {
             "endlinecolor": "#2a3f5f",
             "gridcolor": "white",
             "linecolor": "white",
             "minorgridcolor": "white",
             "startlinecolor": "#2a3f5f"
            },
            "baxis": {
             "endlinecolor": "#2a3f5f",
             "gridcolor": "white",
             "linecolor": "white",
             "minorgridcolor": "white",
             "startlinecolor": "#2a3f5f"
            },
            "type": "carpet"
           }
          ],
          "choropleth": [
           {
            "colorbar": {
             "outlinewidth": 0,
             "ticks": ""
            },
            "type": "choropleth"
           }
          ],
          "contour": [
           {
            "colorbar": {
             "outlinewidth": 0,
             "ticks": ""
            },
            "colorscale": [
             [
              0,
              "#0d0887"
             ],
             [
              0.1111111111111111,
              "#46039f"
             ],
             [
              0.2222222222222222,
              "#7201a8"
             ],
             [
              0.3333333333333333,
              "#9c179e"
             ],
             [
              0.4444444444444444,
              "#bd3786"
             ],
             [
              0.5555555555555556,
              "#d8576b"
             ],
             [
              0.6666666666666666,
              "#ed7953"
             ],
             [
              0.7777777777777778,
              "#fb9f3a"
             ],
             [
              0.8888888888888888,
              "#fdca26"
             ],
             [
              1,
              "#f0f921"
             ]
            ],
            "type": "contour"
           }
          ],
          "contourcarpet": [
           {
            "colorbar": {
             "outlinewidth": 0,
             "ticks": ""
            },
            "type": "contourcarpet"
           }
          ],
          "heatmap": [
           {
            "colorbar": {
             "outlinewidth": 0,
             "ticks": ""
            },
            "colorscale": [
             [
              0,
              "#0d0887"
             ],
             [
              0.1111111111111111,
              "#46039f"
             ],
             [
              0.2222222222222222,
              "#7201a8"
             ],
             [
              0.3333333333333333,
              "#9c179e"
             ],
             [
              0.4444444444444444,
              "#bd3786"
             ],
             [
              0.5555555555555556,
              "#d8576b"
             ],
             [
              0.6666666666666666,
              "#ed7953"
             ],
             [
              0.7777777777777778,
              "#fb9f3a"
             ],
             [
              0.8888888888888888,
              "#fdca26"
             ],
             [
              1,
              "#f0f921"
             ]
            ],
            "type": "heatmap"
           }
          ],
          "heatmapgl": [
           {
            "colorbar": {
             "outlinewidth": 0,
             "ticks": ""
            },
            "colorscale": [
             [
              0,
              "#0d0887"
             ],
             [
              0.1111111111111111,
              "#46039f"
             ],
             [
              0.2222222222222222,
              "#7201a8"
             ],
             [
              0.3333333333333333,
              "#9c179e"
             ],
             [
              0.4444444444444444,
              "#bd3786"
             ],
             [
              0.5555555555555556,
              "#d8576b"
             ],
             [
              0.6666666666666666,
              "#ed7953"
             ],
             [
              0.7777777777777778,
              "#fb9f3a"
             ],
             [
              0.8888888888888888,
              "#fdca26"
             ],
             [
              1,
              "#f0f921"
             ]
            ],
            "type": "heatmapgl"
           }
          ],
          "histogram": [
           {
            "marker": {
             "pattern": {
              "fillmode": "overlay",
              "size": 10,
              "solidity": 0.2
             }
            },
            "type": "histogram"
           }
          ],
          "histogram2d": [
           {
            "colorbar": {
             "outlinewidth": 0,
             "ticks": ""
            },
            "colorscale": [
             [
              0,
              "#0d0887"
             ],
             [
              0.1111111111111111,
              "#46039f"
             ],
             [
              0.2222222222222222,
              "#7201a8"
             ],
             [
              0.3333333333333333,
              "#9c179e"
             ],
             [
              0.4444444444444444,
              "#bd3786"
             ],
             [
              0.5555555555555556,
              "#d8576b"
             ],
             [
              0.6666666666666666,
              "#ed7953"
             ],
             [
              0.7777777777777778,
              "#fb9f3a"
             ],
             [
              0.8888888888888888,
              "#fdca26"
             ],
             [
              1,
              "#f0f921"
             ]
            ],
            "type": "histogram2d"
           }
          ],
          "histogram2dcontour": [
           {
            "colorbar": {
             "outlinewidth": 0,
             "ticks": ""
            },
            "colorscale": [
             [
              0,
              "#0d0887"
             ],
             [
              0.1111111111111111,
              "#46039f"
             ],
             [
              0.2222222222222222,
              "#7201a8"
             ],
             [
              0.3333333333333333,
              "#9c179e"
             ],
             [
              0.4444444444444444,
              "#bd3786"
             ],
             [
              0.5555555555555556,
              "#d8576b"
             ],
             [
              0.6666666666666666,
              "#ed7953"
             ],
             [
              0.7777777777777778,
              "#fb9f3a"
             ],
             [
              0.8888888888888888,
              "#fdca26"
             ],
             [
              1,
              "#f0f921"
             ]
            ],
            "type": "histogram2dcontour"
           }
          ],
          "mesh3d": [
           {
            "colorbar": {
             "outlinewidth": 0,
             "ticks": ""
            },
            "type": "mesh3d"
           }
          ],
          "parcoords": [
           {
            "line": {
             "colorbar": {
              "outlinewidth": 0,
              "ticks": ""
             }
            },
            "type": "parcoords"
           }
          ],
          "pie": [
           {
            "automargin": true,
            "type": "pie"
           }
          ],
          "scatter": [
           {
            "fillpattern": {
             "fillmode": "overlay",
             "size": 10,
             "solidity": 0.2
            },
            "type": "scatter"
           }
          ],
          "scatter3d": [
           {
            "line": {
             "colorbar": {
              "outlinewidth": 0,
              "ticks": ""
             }
            },
            "marker": {
             "colorbar": {
              "outlinewidth": 0,
              "ticks": ""
             }
            },
            "type": "scatter3d"
           }
          ],
          "scattercarpet": [
           {
            "marker": {
             "colorbar": {
              "outlinewidth": 0,
              "ticks": ""
             }
            },
            "type": "scattercarpet"
           }
          ],
          "scattergeo": [
           {
            "marker": {
             "colorbar": {
              "outlinewidth": 0,
              "ticks": ""
             }
            },
            "type": "scattergeo"
           }
          ],
          "scattergl": [
           {
            "marker": {
             "colorbar": {
              "outlinewidth": 0,
              "ticks": ""
             }
            },
            "type": "scattergl"
           }
          ],
          "scattermapbox": [
           {
            "marker": {
             "colorbar": {
              "outlinewidth": 0,
              "ticks": ""
             }
            },
            "type": "scattermapbox"
           }
          ],
          "scatterpolar": [
           {
            "marker": {
             "colorbar": {
              "outlinewidth": 0,
              "ticks": ""
             }
            },
            "type": "scatterpolar"
           }
          ],
          "scatterpolargl": [
           {
            "marker": {
             "colorbar": {
              "outlinewidth": 0,
              "ticks": ""
             }
            },
            "type": "scatterpolargl"
           }
          ],
          "scatterternary": [
           {
            "marker": {
             "colorbar": {
              "outlinewidth": 0,
              "ticks": ""
             }
            },
            "type": "scatterternary"
           }
          ],
          "surface": [
           {
            "colorbar": {
             "outlinewidth": 0,
             "ticks": ""
            },
            "colorscale": [
             [
              0,
              "#0d0887"
             ],
             [
              0.1111111111111111,
              "#46039f"
             ],
             [
              0.2222222222222222,
              "#7201a8"
             ],
             [
              0.3333333333333333,
              "#9c179e"
             ],
             [
              0.4444444444444444,
              "#bd3786"
             ],
             [
              0.5555555555555556,
              "#d8576b"
             ],
             [
              0.6666666666666666,
              "#ed7953"
             ],
             [
              0.7777777777777778,
              "#fb9f3a"
             ],
             [
              0.8888888888888888,
              "#fdca26"
             ],
             [
              1,
              "#f0f921"
             ]
            ],
            "type": "surface"
           }
          ],
          "table": [
           {
            "cells": {
             "fill": {
              "color": "#EBF0F8"
             },
             "line": {
              "color": "white"
             }
            },
            "header": {
             "fill": {
              "color": "#C8D4E3"
             },
             "line": {
              "color": "white"
             }
            },
            "type": "table"
           }
          ]
         },
         "layout": {
          "annotationdefaults": {
           "arrowcolor": "#2a3f5f",
           "arrowhead": 0,
           "arrowwidth": 1
          },
          "autotypenumbers": "strict",
          "coloraxis": {
           "colorbar": {
            "outlinewidth": 0,
            "ticks": ""
           }
          },
          "colorscale": {
           "diverging": [
            [
             0,
             "#8e0152"
            ],
            [
             0.1,
             "#c51b7d"
            ],
            [
             0.2,
             "#de77ae"
            ],
            [
             0.3,
             "#f1b6da"
            ],
            [
             0.4,
             "#fde0ef"
            ],
            [
             0.5,
             "#f7f7f7"
            ],
            [
             0.6,
             "#e6f5d0"
            ],
            [
             0.7,
             "#b8e186"
            ],
            [
             0.8,
             "#7fbc41"
            ],
            [
             0.9,
             "#4d9221"
            ],
            [
             1,
             "#276419"
            ]
           ],
           "sequential": [
            [
             0,
             "#0d0887"
            ],
            [
             0.1111111111111111,
             "#46039f"
            ],
            [
             0.2222222222222222,
             "#7201a8"
            ],
            [
             0.3333333333333333,
             "#9c179e"
            ],
            [
             0.4444444444444444,
             "#bd3786"
            ],
            [
             0.5555555555555556,
             "#d8576b"
            ],
            [
             0.6666666666666666,
             "#ed7953"
            ],
            [
             0.7777777777777778,
             "#fb9f3a"
            ],
            [
             0.8888888888888888,
             "#fdca26"
            ],
            [
             1,
             "#f0f921"
            ]
           ],
           "sequentialminus": [
            [
             0,
             "#0d0887"
            ],
            [
             0.1111111111111111,
             "#46039f"
            ],
            [
             0.2222222222222222,
             "#7201a8"
            ],
            [
             0.3333333333333333,
             "#9c179e"
            ],
            [
             0.4444444444444444,
             "#bd3786"
            ],
            [
             0.5555555555555556,
             "#d8576b"
            ],
            [
             0.6666666666666666,
             "#ed7953"
            ],
            [
             0.7777777777777778,
             "#fb9f3a"
            ],
            [
             0.8888888888888888,
             "#fdca26"
            ],
            [
             1,
             "#f0f921"
            ]
           ]
          },
          "colorway": [
           "#636efa",
           "#EF553B",
           "#00cc96",
           "#ab63fa",
           "#FFA15A",
           "#19d3f3",
           "#FF6692",
           "#B6E880",
           "#FF97FF",
           "#FECB52"
          ],
          "font": {
           "color": "#2a3f5f"
          },
          "geo": {
           "bgcolor": "white",
           "lakecolor": "white",
           "landcolor": "#E5ECF6",
           "showlakes": true,
           "showland": true,
           "subunitcolor": "white"
          },
          "hoverlabel": {
           "align": "left"
          },
          "hovermode": "closest",
          "mapbox": {
           "style": "light"
          },
          "paper_bgcolor": "white",
          "plot_bgcolor": "#E5ECF6",
          "polar": {
           "angularaxis": {
            "gridcolor": "white",
            "linecolor": "white",
            "ticks": ""
           },
           "bgcolor": "#E5ECF6",
           "radialaxis": {
            "gridcolor": "white",
            "linecolor": "white",
            "ticks": ""
           }
          },
          "scene": {
           "xaxis": {
            "backgroundcolor": "#E5ECF6",
            "gridcolor": "white",
            "gridwidth": 2,
            "linecolor": "white",
            "showbackground": true,
            "ticks": "",
            "zerolinecolor": "white"
           },
           "yaxis": {
            "backgroundcolor": "#E5ECF6",
            "gridcolor": "white",
            "gridwidth": 2,
            "linecolor": "white",
            "showbackground": true,
            "ticks": "",
            "zerolinecolor": "white"
           },
           "zaxis": {
            "backgroundcolor": "#E5ECF6",
            "gridcolor": "white",
            "gridwidth": 2,
            "linecolor": "white",
            "showbackground": true,
            "ticks": "",
            "zerolinecolor": "white"
           }
          },
          "shapedefaults": {
           "line": {
            "color": "#2a3f5f"
           }
          },
          "ternary": {
           "aaxis": {
            "gridcolor": "white",
            "linecolor": "white",
            "ticks": ""
           },
           "baxis": {
            "gridcolor": "white",
            "linecolor": "white",
            "ticks": ""
           },
           "bgcolor": "#E5ECF6",
           "caxis": {
            "gridcolor": "white",
            "linecolor": "white",
            "ticks": ""
           }
          },
          "title": {
           "x": 0.05
          },
          "xaxis": {
           "automargin": true,
           "gridcolor": "white",
           "linecolor": "white",
           "ticks": "",
           "title": {
            "standoff": 15
           },
           "zerolinecolor": "white",
           "zerolinewidth": 2
          },
          "yaxis": {
           "automargin": true,
           "gridcolor": "white",
           "linecolor": "white",
           "ticks": "",
           "title": {
            "standoff": 15
           },
           "zerolinecolor": "white",
           "zerolinewidth": 2
          }
         }
        },
        "title": {
         "text": "Emissions intensity in Indonesia from 2000-2022 (tCO2/Capita)"
        },
        "xaxis": {
         "anchor": "y",
         "autorange": true,
         "domain": [
          0,
          1
         ],
         "range": [
          1998.6564774381368,
          2023.3435225618632
         ],
         "title": {
          "text": "Year"
         },
         "type": "linear"
        },
        "yaxis": {
         "anchor": "x",
         "autorange": true,
         "domain": [
          0,
          1
         ],
         "range": [
          1.094116504854369,
          2.4618834951456314
         ],
         "title": {
          "text": "CO2 emissions per capita in tCO2/Capita"
         },
         "type": "linear"
        }
       }
      },
      "image/png": "[encoded data removed]",
      "text/html": [
       "<div>                            <div id=\"e171eb8f-0b9e-480b-9784-28d70281b581\" class=\"plotly-graph-div\" style=\"height:525px; width:100%;\"></div>            <script type=\"text/javascript\">                require([\"plotly\"], function(Plotly) {                    window.PLOTLYENV=window.PLOTLYENV || {};                                    if (document.getElementById(\"e171eb8f-0b9e-480b-9784-28d70281b581\")) {                    Plotly.newPlot(                        \"e171eb8f-0b9e-480b-9784-28d70281b581\",                        [{\"hovertemplate\":\"Year=%{x}\\u003cbr\\u003eCO2 emissions per capita in tCO2\\u002fCapita=%{y}\\u003cextra\\u003e\\u003c\\u002fextra\\u003e\",\"legendgroup\":\"\",\"marker\":{\"color\":\"#636efa\",\"symbol\":\"circle\"},\"mode\":\"markers\",\"name\":\"\",\"orientation\":\"v\",\"showlegend\":false,\"x\":[2000,2001,2002,2003,2004,2005,2006,2007,2008,2009,2010,2011,2012,2013,2014,2015,2016,2017,2018,2019,2020,2021,2022],\"xaxis\":\"x\",\"y\":[1.191,1.263,1.272,1.384,1.398,1.388,1.462,1.512,1.473,1.518,1.605,1.822,1.804,1.669,1.767,1.77,1.72,1.797,1.985,2.112,1.956,2.025,2.365],\"yaxis\":\"y\",\"type\":\"scatter\"},{\"hovertemplate\":\"\\u003cb\\u003eOLS trendline\\u003c\\u002fb\\u003e\\u003cbr\\u003eCO2 emissions per capita in tCO2\\u002fCapita = 0.0422747 * Year + -83.351\\u003cbr\\u003eR\\u003csup\\u003e2\\u003c\\u002fsup\\u003e=0.910355\\u003cbr\\u003e\\u003cbr\\u003eYear=%{x}\\u003cbr\\u003eCO2 emissions per capita in tCO2\\u002fCapita=%{y} \\u003cb\\u003e(trend)\\u003c\\u002fb\\u003e\\u003cextra\\u003e\\u003c\\u002fextra\\u003e\",\"legendgroup\":\"\",\"marker\":{\"color\":\"#636efa\",\"symbol\":\"circle\"},\"mode\":\"lines\",\"name\":\"\",\"showlegend\":false,\"x\":[2000,2001,2002,2003,2004,2005,2006,2007,2008,2009,2010,2011,2012,2013,2014,2015,2016,2017,2018,2019,2020,2021,2022],\"xaxis\":\"x\",\"y\":[1.198369565217348,1.240644268774659,1.28291897233197,1.325193675889281,1.3674683794466063,1.4097430830039173,1.4520177865612283,1.4942924901185393,1.5365671936758503,1.5788418972331613,1.6211166007904723,1.6633913043477833,1.7056660079051085,1.7479407114624195,1.7902154150197305,1.8324901185770415,1.8747648221343525,1.9170395256916635,1.9593142292489745,2.0015889328062855,2.0438636363636107,2.0861383399209217,2.1284130434782327],\"yaxis\":\"y\",\"type\":\"scatter\"}],                        {\"template\":{\"data\":{\"histogram2dcontour\":[{\"type\":\"histogram2dcontour\",\"colorbar\":{\"outlinewidth\":0,\"ticks\":\"\"},\"colorscale\":[[0.0,\"#0d0887\"],[0.1111111111111111,\"#46039f\"],[0.2222222222222222,\"#7201a8\"],[0.3333333333333333,\"#9c179e\"],[0.4444444444444444,\"#bd3786\"],[0.5555555555555556,\"#d8576b\"],[0.6666666666666666,\"#ed7953\"],[0.7777777777777778,\"#fb9f3a\"],[0.8888888888888888,\"#fdca26\"],[1.0,\"#f0f921\"]]}],\"choropleth\":[{\"type\":\"choropleth\",\"colorbar\":{\"outlinewidth\":0,\"ticks\":\"\"}}],\"histogram2d\":[{\"type\":\"histogram2d\",\"colorbar\":{\"outlinewidth\":0,\"ticks\":\"\"},\"colorscale\":[[0.0,\"#0d0887\"],[0.1111111111111111,\"#46039f\"],[0.2222222222222222,\"#7201a8\"],[0.3333333333333333,\"#9c179e\"],[0.4444444444444444,\"#bd3786\"],[0.5555555555555556,\"#d8576b\"],[0.6666666666666666,\"#ed7953\"],[0.7777777777777778,\"#fb9f3a\"],[0.8888888888888888,\"#fdca26\"],[1.0,\"#f0f921\"]]}],\"heatmap\":[{\"type\":\"heatmap\",\"colorbar\":{\"outlinewidth\":0,\"ticks\":\"\"},\"colorscale\":[[0.0,\"#0d0887\"],[0.1111111111111111,\"#46039f\"],[0.2222222222222222,\"#7201a8\"],[0.3333333333333333,\"#9c179e\"],[0.4444444444444444,\"#bd3786\"],[0.5555555555555556,\"#d8576b\"],[0.6666666666666666,\"#ed7953\"],[0.7777777777777778,\"#fb9f3a\"],[0.8888888888888888,\"#fdca26\"],[1.0,\"#f0f921\"]]}],\"heatmapgl\":[{\"type\":\"heatmapgl\",\"colorbar\":{\"outlinewidth\":0,\"ticks\":\"\"},\"colorscale\":[[0.0,\"#0d0887\"],[0.1111111111111111,\"#46039f\"],[0.2222222222222222,\"#7201a8\"],[0.3333333333333333,\"#9c179e\"],[0.4444444444444444,\"#bd3786\"],[0.5555555555555556,\"#d8576b\"],[0.6666666666666666,\"#ed7953\"],[0.7777777777777778,\"#fb9f3a\"],[0.8888888888888888,\"#fdca26\"],[1.0,\"#f0f921\"]]}],\"contourcarpet\":[{\"type\":\"contourcarpet\",\"colorbar\":{\"outlinewidth\":0,\"ticks\":\"\"}}],\"contour\":[{\"type\":\"contour\",\"colorbar\":{\"outlinewidth\":0,\"ticks\":\"\"},\"colorscale\":[[0.0,\"#0d0887\"],[0.1111111111111111,\"#46039f\"],[0.2222222222222222,\"#7201a8\"],[0.3333333333333333,\"#9c179e\"],[0.4444444444444444,\"#bd3786\"],[0.5555555555555556,\"#d8576b\"],[0.6666666666666666,\"#ed7953\"],[0.7777777777777778,\"#fb9f3a\"],[0.8888888888888888,\"#fdca26\"],[1.0,\"#f0f921\"]]}],\"surface\":[{\"type\":\"surface\",\"colorbar\":{\"outlinewidth\":0,\"ticks\":\"\"},\"colorscale\":[[0.0,\"#0d0887\"],[0.1111111111111111,\"#46039f\"],[0.2222222222222222,\"#7201a8\"],[0.3333333333333333,\"#9c179e\"],[0.4444444444444444,\"#bd3786\"],[0.5555555555555556,\"#d8576b\"],[0.6666666666666666,\"#ed7953\"],[0.7777777777777778,\"#fb9f3a\"],[0.8888888888888888,\"#fdca26\"],[1.0,\"#f0f921\"]]}],\"mesh3d\":[{\"type\":\"mesh3d\",\"colorbar\":{\"outlinewidth\":0,\"ticks\":\"\"}}],\"scatter\":[{\"fillpattern\":{\"fillmode\":\"overlay\",\"size\":10,\"solidity\":0.2},\"type\":\"scatter\"}],\"parcoords\":[{\"type\":\"parcoords\",\"line\":{\"colorbar\":{\"outlinewidth\":0,\"ticks\":\"\"}}}],\"scatterpolargl\":[{\"type\":\"scatterpolargl\",\"marker\":{\"colorbar\":{\"outlinewidth\":0,\"ticks\":\"\"}}}],\"bar\":[{\"error_x\":{\"color\":\"#2a3f5f\"},\"error_y\":{\"color\":\"#2a3f5f\"},\"marker\":{\"line\":{\"color\":\"#E5ECF6\",\"width\":0.5},\"pattern\":{\"fillmode\":\"overlay\",\"size\":10,\"solidity\":0.2}},\"type\":\"bar\"}],\"scattergeo\":[{\"type\":\"scattergeo\",\"marker\":{\"colorbar\":{\"outlinewidth\":0,\"ticks\":\"\"}}}],\"scatterpolar\":[{\"type\":\"scatterpolar\",\"marker\":{\"colorbar\":{\"outlinewidth\":0,\"ticks\":\"\"}}}],\"histogram\":[{\"marker\":{\"pattern\":{\"fillmode\":\"overlay\",\"size\":10,\"solidity\":0.2}},\"type\":\"histogram\"}],\"scattergl\":[{\"type\":\"scattergl\",\"marker\":{\"colorbar\":{\"outlinewidth\":0,\"ticks\":\"\"}}}],\"scatter3d\":[{\"type\":\"scatter3d\",\"line\":{\"colorbar\":{\"outlinewidth\":0,\"ticks\":\"\"}},\"marker\":{\"colorbar\":{\"outlinewidth\":0,\"ticks\":\"\"}}}],\"scattermapbox\":[{\"type\":\"scattermapbox\",\"marker\":{\"colorbar\":{\"outlinewidth\":0,\"ticks\":\"\"}}}],\"scatterternary\":[{\"type\":\"scatterternary\",\"marker\":{\"colorbar\":{\"outlinewidth\":0,\"ticks\":\"\"}}}],\"scattercarpet\":[{\"type\":\"scattercarpet\",\"marker\":{\"colorbar\":{\"outlinewidth\":0,\"ticks\":\"\"}}}],\"carpet\":[{\"aaxis\":{\"endlinecolor\":\"#2a3f5f\",\"gridcolor\":\"white\",\"linecolor\":\"white\",\"minorgridcolor\":\"white\",\"startlinecolor\":\"#2a3f5f\"},\"baxis\":{\"endlinecolor\":\"#2a3f5f\",\"gridcolor\":\"white\",\"linecolor\":\"white\",\"minorgridcolor\":\"white\",\"startlinecolor\":\"#2a3f5f\"},\"type\":\"carpet\"}],\"table\":[{\"cells\":{\"fill\":{\"color\":\"#EBF0F8\"},\"line\":{\"color\":\"white\"}},\"header\":{\"fill\":{\"color\":\"#C8D4E3\"},\"line\":{\"color\":\"white\"}},\"type\":\"table\"}],\"barpolar\":[{\"marker\":{\"line\":{\"color\":\"#E5ECF6\",\"width\":0.5},\"pattern\":{\"fillmode\":\"overlay\",\"size\":10,\"solidity\":0.2}},\"type\":\"barpolar\"}],\"pie\":[{\"automargin\":true,\"type\":\"pie\"}]},\"layout\":{\"autotypenumbers\":\"strict\",\"colorway\":[\"#636efa\",\"#EF553B\",\"#00cc96\",\"#ab63fa\",\"#FFA15A\",\"#19d3f3\",\"#FF6692\",\"#B6E880\",\"#FF97FF\",\"#FECB52\"],\"font\":{\"color\":\"#2a3f5f\"},\"hovermode\":\"closest\",\"hoverlabel\":{\"align\":\"left\"},\"paper_bgcolor\":\"white\",\"plot_bgcolor\":\"#E5ECF6\",\"polar\":{\"bgcolor\":\"#E5ECF6\",\"angularaxis\":{\"gridcolor\":\"white\",\"linecolor\":\"white\",\"ticks\":\"\"},\"radialaxis\":{\"gridcolor\":\"white\",\"linecolor\":\"white\",\"ticks\":\"\"}},\"ternary\":{\"bgcolor\":\"#E5ECF6\",\"aaxis\":{\"gridcolor\":\"white\",\"linecolor\":\"white\",\"ticks\":\"\"},\"baxis\":{\"gridcolor\":\"white\",\"linecolor\":\"white\",\"ticks\":\"\"},\"caxis\":{\"gridcolor\":\"white\",\"linecolor\":\"white\",\"ticks\":\"\"}},\"coloraxis\":{\"colorbar\":{\"outlinewidth\":0,\"ticks\":\"\"}},\"colorscale\":{\"sequential\":[[0.0,\"#0d0887\"],[0.1111111111111111,\"#46039f\"],[0.2222222222222222,\"#7201a8\"],[0.3333333333333333,\"#9c179e\"],[0.4444444444444444,\"#bd3786\"],[0.5555555555555556,\"#d8576b\"],[0.6666666666666666,\"#ed7953\"],[0.7777777777777778,\"#fb9f3a\"],[0.8888888888888888,\"#fdca26\"],[1.0,\"#f0f921\"]],\"sequentialminus\":[[0.0,\"#0d0887\"],[0.1111111111111111,\"#46039f\"],[0.2222222222222222,\"#7201a8\"],[0.3333333333333333,\"#9c179e\"],[0.4444444444444444,\"#bd3786\"],[0.5555555555555556,\"#d8576b\"],[0.6666666666666666,\"#ed7953\"],[0.7777777777777778,\"#fb9f3a\"],[0.8888888888888888,\"#fdca26\"],[1.0,\"#f0f921\"]],\"diverging\":[[0,\"#8e0152\"],[0.1,\"#c51b7d\"],[0.2,\"#de77ae\"],[0.3,\"#f1b6da\"],[0.4,\"#fde0ef\"],[0.5,\"#f7f7f7\"],[0.6,\"#e6f5d0\"],[0.7,\"#b8e186\"],[0.8,\"#7fbc41\"],[0.9,\"#4d9221\"],[1,\"#276419\"]]},\"xaxis\":{\"gridcolor\":\"white\",\"linecolor\":\"white\",\"ticks\":\"\",\"title\":{\"standoff\":15},\"zerolinecolor\":\"white\",\"automargin\":true,\"zerolinewidth\":2},\"yaxis\":{\"gridcolor\":\"white\",\"linecolor\":\"white\",\"ticks\":\"\",\"title\":{\"standoff\":15},\"zerolinecolor\":\"white\",\"automargin\":true,\"zerolinewidth\":2},\"scene\":{\"xaxis\":{\"backgroundcolor\":\"#E5ECF6\",\"gridcolor\":\"white\",\"linecolor\":\"white\",\"showbackground\":true,\"ticks\":\"\",\"zerolinecolor\":\"white\",\"gridwidth\":2},\"yaxis\":{\"backgroundcolor\":\"#E5ECF6\",\"gridcolor\":\"white\",\"linecolor\":\"white\",\"showbackground\":true,\"ticks\":\"\",\"zerolinecolor\":\"white\",\"gridwidth\":2},\"zaxis\":{\"backgroundcolor\":\"#E5ECF6\",\"gridcolor\":\"white\",\"linecolor\":\"white\",\"showbackground\":true,\"ticks\":\"\",\"zerolinecolor\":\"white\",\"gridwidth\":2}},\"shapedefaults\":{\"line\":{\"color\":\"#2a3f5f\"}},\"annotationdefaults\":{\"arrowcolor\":\"#2a3f5f\",\"arrowhead\":0,\"arrowwidth\":1},\"geo\":{\"bgcolor\":\"white\",\"landcolor\":\"#E5ECF6\",\"subunitcolor\":\"white\",\"showland\":true,\"showlakes\":true,\"lakecolor\":\"white\"},\"title\":{\"x\":0.05},\"mapbox\":{\"style\":\"light\"}}},\"xaxis\":{\"anchor\":\"y\",\"domain\":[0.0,1.0],\"title\":{\"text\":\"Year\"}},\"yaxis\":{\"anchor\":\"x\",\"domain\":[0.0,1.0],\"title\":{\"text\":\"CO2 emissions per capita in tCO2\\u002fCapita\"}},\"legend\":{\"tracegroupgap\":0},\"title\":{\"text\":\"Emissions intensity in Indonesia from 2000-2022 (tCO2\\u002fCapita)\"}},                        {\"responsive\": true}                    ).then(function(){\n",
       "                            \n",
       "var gd = document.getElementById('e171eb8f-0b9e-480b-9784-28d70281b581');\n",
       "var x = new MutationObserver(function (mutations, observer) {{\n",
       "        var display = window.getComputedStyle(gd).display;\n",
       "        if (!display || display === 'none') {{\n",
       "            console.log([gd, 'removed!']);\n",
       "            Plotly.purge(gd);\n",
       "            observer.disconnect();\n",
       "        }}\n",
       "}});\n",
       "\n",
       "// Listen for the removal of the full notebook cells\n",
       "var notebookContainer = gd.closest('#notebook-container');\n",
       "if (notebookContainer) {{\n",
       "    x.observe(notebookContainer, {childList: true});\n",
       "}}\n",
       "\n",
       "// Listen for the clearing of the current output cell\n",
       "var outputEl = gd.closest('.output');\n",
       "if (outputEl) {{\n",
       "    x.observe(outputEl, {childList: true});\n",
       "}}\n",
       "\n",
       "                        })                };                });            </script>        </div>"
      ]
     },
     "metadata": {},
     "output_type": "display_data"
    }
   ],
   "source": [
    "fig2 = px.scatter(\n",
    "    indo_data,\n",
    "    x='Year',\n",
    "    y='CO2 emissions per capita in tCO2/Capita',\n",
    "    title='Emissions intensity in Indonesia from 2000-2022 (tCO2/Capita)',\n",
    "    trendline=\"ols\",\n",
    ")\n",
    "\n",
    "fig2.show()"
   ]
  },
  {
   "cell_type": "markdown",
   "id": "d981513b-2bfc-4a12-b1f6-51aabef2f5d1",
   "metadata": {},
   "source": [
    "### 2. Visualization for combined dataset"
   ]
  },
  {
   "cell_type": "markdown",
   "id": "b7dac705-da4e-4fa5-be09-87046f667f91",
   "metadata": {},
   "source": [
    "I then plotted the two datasets against each other, also adjusting for better visual clarity and readability."
   ]
  },
  {
   "cell_type": "code",
   "execution_count": null,
   "id": "82f669ac-ad2a-4b06-879d-e01fad7d0166",
   "metadata": {},
   "outputs": [
    {
     "data": {
      "application/vnd.plotly.v1+json": {
       "config": {
        "plotlyServerURL": "https://plot.ly"
       },
       "data": [
        {
         "hovertemplate": "ODA received in USD millions=%{x}<br>CO2 emissions per capita in tCO2/Capita=%{y}<extra></extra>",
         "legendgroup": "",
         "line": {
          "color": "red"
         },
         "marker": {
          "color": "#636efa",
          "opacity": 0.7,
          "size": 10,
          "symbol": "circle"
         },
         "mode": "markers",
         "name": "",
         "orientation": "v",
         "showlegend": false,
         "type": "scatter",
         "x": [
          1532.88,
          -81.17,
          101.6,
          4622.5,
          389.86,
          8040.48,
          3146.74,
          1101.73,
          2055.3,
          3965.29,
          4978.58,
          10437.83,
          7436.663592,
          7075.354789,
          10973.031523,
          10191.435784,
          11987.128634,
          13135.601778,
          9042.144594,
          12995.457007,
          6984.326853,
          9773.469996,
          -221.416042
         ],
         "xaxis": "x",
         "y": [
          1.191,
          1.263,
          1.272,
          1.384,
          1.398,
          1.388,
          1.462,
          1.512,
          1.473,
          1.518,
          1.605,
          1.822,
          1.804,
          1.669,
          1.767,
          1.77,
          1.72,
          1.797,
          1.985,
          2.112,
          1.956,
          2.025,
          2.365
         ],
         "yaxis": "y"
        },
        {
         "hovertemplate": "<b>OLS trendline</b><br>CO2 emissions per capita in tCO2/Capita = 3.39802e-05 * ODA received in USD millions + 1.45705<br>R<sup>2</sup>=0.259272<br><br>ODA received in USD millions=%{x}<br>CO2 emissions per capita in tCO2/Capita=%{y} <b>(trend)</b><extra></extra>",
         "legendgroup": "",
         "line": {
          "color": "red"
         },
         "marker": {
          "color": "#636efa",
          "opacity": 0.7,
          "size": 10,
          "symbol": "circle"
         },
         "mode": "lines",
         "name": "",
         "showlegend": false,
         "type": "scatter",
         "x": [
          -221.416042,
          -81.17,
          101.6,
          389.86,
          1101.73,
          1532.88,
          2055.3,
          3146.74,
          3965.29,
          4622.5,
          4978.58,
          6984.326853,
          7075.354789,
          7436.663592,
          8040.48,
          9042.144594,
          9773.469996,
          10191.435784,
          10437.83,
          10973.031523,
          11987.128634,
          12995.457007,
          13135.601778
         ],
         "xaxis": "x",
         "y": [
          1.4495264373436991,
          1.4542920326463096,
          1.4605026025920775,
          1.470297748910221,
          1.4944872681272363,
          1.509137852096804,
          1.5268898133107236,
          1.5639772153001585,
          1.5917917473847918,
          1.6141239062405022,
          1.6262235929849846,
          1.6943793686815463,
          1.6974725205311216,
          1.7097498832988254,
          1.7302677146512706,
          1.7643045260712866,
          1.7891551446752034,
          1.8033577258499698,
          1.8117302624407707,
          1.8299165429773634,
          1.864375814409583,
          1.8986390626933218,
          1.9034012167822267
         ],
         "yaxis": "y"
        }
       ],
       "layout": {
        "height": 700,
        "legend": {
         "tracegroupgap": 0
        },
        "plot_bgcolor": "white",
        "template": {
         "data": {
          "bar": [
           {
            "error_x": {
             "color": "#2a3f5f"
            },
            "error_y": {
             "color": "#2a3f5f"
            },
            "marker": {
             "line": {
              "color": "#E5ECF6",
              "width": 0.5
             },
             "pattern": {
              "fillmode": "overlay",
              "size": 10,
              "solidity": 0.2
             }
            },
            "type": "bar"
           }
          ],
          "barpolar": [
           {
            "marker": {
             "line": {
              "color": "#E5ECF6",
              "width": 0.5
             },
             "pattern": {
              "fillmode": "overlay",
              "size": 10,
              "solidity": 0.2
             }
            },
            "type": "barpolar"
           }
          ],
          "carpet": [
           {
            "aaxis": {
             "endlinecolor": "#2a3f5f",
             "gridcolor": "white",
             "linecolor": "white",
             "minorgridcolor": "white",
             "startlinecolor": "#2a3f5f"
            },
            "baxis": {
             "endlinecolor": "#2a3f5f",
             "gridcolor": "white",
             "linecolor": "white",
             "minorgridcolor": "white",
             "startlinecolor": "#2a3f5f"
            },
            "type": "carpet"
           }
          ],
          "choropleth": [
           {
            "colorbar": {
             "outlinewidth": 0,
             "ticks": ""
            },
            "type": "choropleth"
           }
          ],
          "contour": [
           {
            "colorbar": {
             "outlinewidth": 0,
             "ticks": ""
            },
            "colorscale": [
             [
              0,
              "#0d0887"
             ],
             [
              0.1111111111111111,
              "#46039f"
             ],
             [
              0.2222222222222222,
              "#7201a8"
             ],
             [
              0.3333333333333333,
              "#9c179e"
             ],
             [
              0.4444444444444444,
              "#bd3786"
             ],
             [
              0.5555555555555556,
              "#d8576b"
             ],
             [
              0.6666666666666666,
              "#ed7953"
             ],
             [
              0.7777777777777778,
              "#fb9f3a"
             ],
             [
              0.8888888888888888,
              "#fdca26"
             ],
             [
              1,
              "#f0f921"
             ]
            ],
            "type": "contour"
           }
          ],
          "contourcarpet": [
           {
            "colorbar": {
             "outlinewidth": 0,
             "ticks": ""
            },
            "type": "contourcarpet"
           }
          ],
          "heatmap": [
           {
            "colorbar": {
             "outlinewidth": 0,
             "ticks": ""
            },
            "colorscale": [
             [
              0,
              "#0d0887"
             ],
             [
              0.1111111111111111,
              "#46039f"
             ],
             [
              0.2222222222222222,
              "#7201a8"
             ],
             [
              0.3333333333333333,
              "#9c179e"
             ],
             [
              0.4444444444444444,
              "#bd3786"
             ],
             [
              0.5555555555555556,
              "#d8576b"
             ],
             [
              0.6666666666666666,
              "#ed7953"
             ],
             [
              0.7777777777777778,
              "#fb9f3a"
             ],
             [
              0.8888888888888888,
              "#fdca26"
             ],
             [
              1,
              "#f0f921"
             ]
            ],
            "type": "heatmap"
           }
          ],
          "heatmapgl": [
           {
            "colorbar": {
             "outlinewidth": 0,
             "ticks": ""
            },
            "colorscale": [
             [
              0,
              "#0d0887"
             ],
             [
              0.1111111111111111,
              "#46039f"
             ],
             [
              0.2222222222222222,
              "#7201a8"
             ],
             [
              0.3333333333333333,
              "#9c179e"
             ],
             [
              0.4444444444444444,
              "#bd3786"
             ],
             [
              0.5555555555555556,
              "#d8576b"
             ],
             [
              0.6666666666666666,
              "#ed7953"
             ],
             [
              0.7777777777777778,
              "#fb9f3a"
             ],
             [
              0.8888888888888888,
              "#fdca26"
             ],
             [
              1,
              "#f0f921"
             ]
            ],
            "type": "heatmapgl"
           }
          ],
          "histogram": [
           {
            "marker": {
             "pattern": {
              "fillmode": "overlay",
              "size": 10,
              "solidity": 0.2
             }
            },
            "type": "histogram"
           }
          ],
          "histogram2d": [
           {
            "colorbar": {
             "outlinewidth": 0,
             "ticks": ""
            },
            "colorscale": [
             [
              0,
              "#0d0887"
             ],
             [
              0.1111111111111111,
              "#46039f"
             ],
             [
              0.2222222222222222,
              "#7201a8"
             ],
             [
              0.3333333333333333,
              "#9c179e"
             ],
             [
              0.4444444444444444,
              "#bd3786"
             ],
             [
              0.5555555555555556,
              "#d8576b"
             ],
             [
              0.6666666666666666,
              "#ed7953"
             ],
             [
              0.7777777777777778,
              "#fb9f3a"
             ],
             [
              0.8888888888888888,
              "#fdca26"
             ],
             [
              1,
              "#f0f921"
             ]
            ],
            "type": "histogram2d"
           }
          ],
          "histogram2dcontour": [
           {
            "colorbar": {
             "outlinewidth": 0,
             "ticks": ""
            },
            "colorscale": [
             [
              0,
              "#0d0887"
             ],
             [
              0.1111111111111111,
              "#46039f"
             ],
             [
              0.2222222222222222,
              "#7201a8"
             ],
             [
              0.3333333333333333,
              "#9c179e"
             ],
             [
              0.4444444444444444,
              "#bd3786"
             ],
             [
              0.5555555555555556,
              "#d8576b"
             ],
             [
              0.6666666666666666,
              "#ed7953"
             ],
             [
              0.7777777777777778,
              "#fb9f3a"
             ],
             [
              0.8888888888888888,
              "#fdca26"
             ],
             [
              1,
              "#f0f921"
             ]
            ],
            "type": "histogram2dcontour"
           }
          ],
          "mesh3d": [
           {
            "colorbar": {
             "outlinewidth": 0,
             "ticks": ""
            },
            "type": "mesh3d"
           }
          ],
          "parcoords": [
           {
            "line": {
             "colorbar": {
              "outlinewidth": 0,
              "ticks": ""
             }
            },
            "type": "parcoords"
           }
          ],
          "pie": [
           {
            "automargin": true,
            "type": "pie"
           }
          ],
          "scatter": [
           {
            "fillpattern": {
             "fillmode": "overlay",
             "size": 10,
             "solidity": 0.2
            },
            "type": "scatter"
           }
          ],
          "scatter3d": [
           {
            "line": {
             "colorbar": {
              "outlinewidth": 0,
              "ticks": ""
             }
            },
            "marker": {
             "colorbar": {
              "outlinewidth": 0,
              "ticks": ""
             }
            },
            "type": "scatter3d"
           }
          ],
          "scattercarpet": [
           {
            "marker": {
             "colorbar": {
              "outlinewidth": 0,
              "ticks": ""
             }
            },
            "type": "scattercarpet"
           }
          ],
          "scattergeo": [
           {
            "marker": {
             "colorbar": {
              "outlinewidth": 0,
              "ticks": ""
             }
            },
            "type": "scattergeo"
           }
          ],
          "scattergl": [
           {
            "marker": {
             "colorbar": {
              "outlinewidth": 0,
              "ticks": ""
             }
            },
            "type": "scattergl"
           }
          ],
          "scattermapbox": [
           {
            "marker": {
             "colorbar": {
              "outlinewidth": 0,
              "ticks": ""
             }
            },
            "type": "scattermapbox"
           }
          ],
          "scatterpolar": [
           {
            "marker": {
             "colorbar": {
              "outlinewidth": 0,
              "ticks": ""
             }
            },
            "type": "scatterpolar"
           }
          ],
          "scatterpolargl": [
           {
            "marker": {
             "colorbar": {
              "outlinewidth": 0,
              "ticks": ""
             }
            },
            "type": "scatterpolargl"
           }
          ],
          "scatterternary": [
           {
            "marker": {
             "colorbar": {
              "outlinewidth": 0,
              "ticks": ""
             }
            },
            "type": "scatterternary"
           }
          ],
          "surface": [
           {
            "colorbar": {
             "outlinewidth": 0,
             "ticks": ""
            },
            "colorscale": [
             [
              0,
              "#0d0887"
             ],
             [
              0.1111111111111111,
              "#46039f"
             ],
             [
              0.2222222222222222,
              "#7201a8"
             ],
             [
              0.3333333333333333,
              "#9c179e"
             ],
             [
              0.4444444444444444,
              "#bd3786"
             ],
             [
              0.5555555555555556,
              "#d8576b"
             ],
             [
              0.6666666666666666,
              "#ed7953"
             ],
             [
              0.7777777777777778,
              "#fb9f3a"
             ],
             [
              0.8888888888888888,
              "#fdca26"
             ],
             [
              1,
              "#f0f921"
             ]
            ],
            "type": "surface"
           }
          ],
          "table": [
           {
            "cells": {
             "fill": {
              "color": "#EBF0F8"
             },
             "line": {
              "color": "white"
             }
            },
            "header": {
             "fill": {
              "color": "#C8D4E3"
             },
             "line": {
              "color": "white"
             }
            },
            "type": "table"
           }
          ]
         },
         "layout": {
          "annotationdefaults": {
           "arrowcolor": "#2a3f5f",
           "arrowhead": 0,
           "arrowwidth": 1
          },
          "autotypenumbers": "strict",
          "coloraxis": {
           "colorbar": {
            "outlinewidth": 0,
            "ticks": ""
           }
          },
          "colorscale": {
           "diverging": [
            [
             0,
             "#8e0152"
            ],
            [
             0.1,
             "#c51b7d"
            ],
            [
             0.2,
             "#de77ae"
            ],
            [
             0.3,
             "#f1b6da"
            ],
            [
             0.4,
             "#fde0ef"
            ],
            [
             0.5,
             "#f7f7f7"
            ],
            [
             0.6,
             "#e6f5d0"
            ],
            [
             0.7,
             "#b8e186"
            ],
            [
             0.8,
             "#7fbc41"
            ],
            [
             0.9,
             "#4d9221"
            ],
            [
             1,
             "#276419"
            ]
           ],
           "sequential": [
            [
             0,
             "#0d0887"
            ],
            [
             0.1111111111111111,
             "#46039f"
            ],
            [
             0.2222222222222222,
             "#7201a8"
            ],
            [
             0.3333333333333333,
             "#9c179e"
            ],
            [
             0.4444444444444444,
             "#bd3786"
            ],
            [
             0.5555555555555556,
             "#d8576b"
            ],
            [
             0.6666666666666666,
             "#ed7953"
            ],
            [
             0.7777777777777778,
             "#fb9f3a"
            ],
            [
             0.8888888888888888,
             "#fdca26"
            ],
            [
             1,
             "#f0f921"
            ]
           ],
           "sequentialminus": [
            [
             0,
             "#0d0887"
            ],
            [
             0.1111111111111111,
             "#46039f"
            ],
            [
             0.2222222222222222,
             "#7201a8"
            ],
            [
             0.3333333333333333,
             "#9c179e"
            ],
            [
             0.4444444444444444,
             "#bd3786"
            ],
            [
             0.5555555555555556,
             "#d8576b"
            ],
            [
             0.6666666666666666,
             "#ed7953"
            ],
            [
             0.7777777777777778,
             "#fb9f3a"
            ],
            [
             0.8888888888888888,
             "#fdca26"
            ],
            [
             1,
             "#f0f921"
            ]
           ]
          },
          "colorway": [
           "#636efa",
           "#EF553B",
           "#00cc96",
           "#ab63fa",
           "#FFA15A",
           "#19d3f3",
           "#FF6692",
           "#B6E880",
           "#FF97FF",
           "#FECB52"
          ],
          "font": {
           "color": "#2a3f5f"
          },
          "geo": {
           "bgcolor": "white",
           "lakecolor": "white",
           "landcolor": "#E5ECF6",
           "showlakes": true,
           "showland": true,
           "subunitcolor": "white"
          },
          "hoverlabel": {
           "align": "left"
          },
          "hovermode": "closest",
          "mapbox": {
           "style": "light"
          },
          "paper_bgcolor": "white",
          "plot_bgcolor": "#E5ECF6",
          "polar": {
           "angularaxis": {
            "gridcolor": "white",
            "linecolor": "white",
            "ticks": ""
           },
           "bgcolor": "#E5ECF6",
           "radialaxis": {
            "gridcolor": "white",
            "linecolor": "white",
            "ticks": ""
           }
          },
          "scene": {
           "xaxis": {
            "backgroundcolor": "#E5ECF6",
            "gridcolor": "white",
            "gridwidth": 2,
            "linecolor": "white",
            "showbackground": true,
            "ticks": "",
            "zerolinecolor": "white"
           },
           "yaxis": {
            "backgroundcolor": "#E5ECF6",
            "gridcolor": "white",
            "gridwidth": 2,
            "linecolor": "white",
            "showbackground": true,
            "ticks": "",
            "zerolinecolor": "white"
           },
           "zaxis": {
            "backgroundcolor": "#E5ECF6",
            "gridcolor": "white",
            "gridwidth": 2,
            "linecolor": "white",
            "showbackground": true,
            "ticks": "",
            "zerolinecolor": "white"
           }
          },
          "shapedefaults": {
           "line": {
            "color": "#2a3f5f"
           }
          },
          "ternary": {
           "aaxis": {
            "gridcolor": "white",
            "linecolor": "white",
            "ticks": ""
           },
           "baxis": {
            "gridcolor": "white",
            "linecolor": "white",
            "ticks": ""
           },
           "bgcolor": "#E5ECF6",
           "caxis": {
            "gridcolor": "white",
            "linecolor": "white",
            "ticks": ""
           }
          },
          "title": {
           "x": 0.05
          },
          "xaxis": {
           "automargin": true,
           "gridcolor": "white",
           "linecolor": "white",
           "ticks": "",
           "title": {
            "standoff": 15
           },
           "zerolinecolor": "white",
           "zerolinewidth": 2
          },
          "yaxis": {
           "automargin": true,
           "gridcolor": "white",
           "linecolor": "white",
           "ticks": "",
           "title": {
            "standoff": 15
           },
           "zerolinecolor": "white",
           "zerolinewidth": 2
          }
         }
        },
        "title": {
         "text": "Relation between ODA and CO2 emissions per capita in Indonesia, 2000 - 2022"
        },
        "width": 700,
        "xaxis": {
         "anchor": "y",
         "autorange": true,
         "domain": [
          0,
          1
         ],
         "gridcolor": "lightgray",
         "range": [
          -1159.3692468891236,
          14073.554982889123
         ],
         "tickformat": ",",
         "title": {
          "font": {
           "size": 14
          },
          "text": "ODA received in USD millions"
         },
         "type": "linear"
        },
        "yaxis": {
         "anchor": "x",
         "autorange": true,
         "domain": [
          0,
          1
         ],
         "gridcolor": "lightgray",
         "range": [
          1.1078792535675084,
          2.448120746432492
         ],
         "tickformat": ".1f",
         "title": {
          "font": {
           "size": 14
          },
          "text": "CO2 emissions per capita in tCO2/Capita"
         },
         "type": "linear"
        }
       }
      },
      "image/png": "[encoded data removed]",
      "text/html": [
       "<div>                            <div id=\"8ee494b2-efc8-4cd1-a937-01994e7fad4b\" class=\"plotly-graph-div\" style=\"height:700px; width:700px;\"></div>            <script type=\"text/javascript\">                require([\"plotly\"], function(Plotly) {                    window.PLOTLYENV=window.PLOTLYENV || {};                                    if (document.getElementById(\"8ee494b2-efc8-4cd1-a937-01994e7fad4b\")) {                    Plotly.newPlot(                        \"8ee494b2-efc8-4cd1-a937-01994e7fad4b\",                        [{\"hovertemplate\":\"ODA received in USD millions=%{x}\\u003cbr\\u003eCO2 emissions per capita in tCO2\\u002fCapita=%{y}\\u003cextra\\u003e\\u003c\\u002fextra\\u003e\",\"legendgroup\":\"\",\"marker\":{\"color\":\"#636efa\",\"symbol\":\"circle\",\"opacity\":0.7,\"size\":10},\"mode\":\"markers\",\"name\":\"\",\"orientation\":\"v\",\"showlegend\":false,\"x\":[1532.88,-81.17,101.6,4622.5,389.86,8040.48,3146.74,1101.73,2055.3,3965.29,4978.58,10437.83,7436.663592,7075.354789,10973.031523,10191.435784,11987.128634,13135.601778,9042.144594,12995.457007,6984.326853,9773.469996,-221.416042],\"xaxis\":\"x\",\"y\":[1.191,1.263,1.272,1.384,1.398,1.388,1.462,1.512,1.473,1.518,1.605,1.822,1.804,1.669,1.767,1.77,1.72,1.797,1.985,2.112,1.956,2.025,2.365],\"yaxis\":\"y\",\"type\":\"scatter\",\"line\":{\"color\":\"red\"}},{\"hovertemplate\":\"\\u003cb\\u003eOLS trendline\\u003c\\u002fb\\u003e\\u003cbr\\u003eCO2 emissions per capita in tCO2\\u002fCapita = 3.39802e-05 * ODA received in USD millions + 1.45705\\u003cbr\\u003eR\\u003csup\\u003e2\\u003c\\u002fsup\\u003e=0.259272\\u003cbr\\u003e\\u003cbr\\u003eODA received in USD millions=%{x}\\u003cbr\\u003eCO2 emissions per capita in tCO2\\u002fCapita=%{y} \\u003cb\\u003e(trend)\\u003c\\u002fb\\u003e\\u003cextra\\u003e\\u003c\\u002fextra\\u003e\",\"legendgroup\":\"\",\"marker\":{\"color\":\"#636efa\",\"symbol\":\"circle\",\"opacity\":0.7,\"size\":10},\"mode\":\"lines\",\"name\":\"\",\"showlegend\":false,\"x\":[-221.416042,-81.17,101.6,389.86,1101.73,1532.88,2055.3,3146.74,3965.29,4622.5,4978.58,6984.326853,7075.354789,7436.663592,8040.48,9042.144594,9773.469996,10191.435784,10437.83,10973.031523,11987.128634,12995.457007,13135.601778],\"xaxis\":\"x\",\"y\":[1.4495264373436991,1.4542920326463096,1.4605026025920775,1.470297748910221,1.4944872681272363,1.509137852096804,1.5268898133107236,1.5639772153001585,1.5917917473847918,1.6141239062405022,1.6262235929849846,1.6943793686815463,1.6974725205311216,1.7097498832988254,1.7302677146512706,1.7643045260712866,1.7891551446752034,1.8033577258499698,1.8117302624407707,1.8299165429773634,1.864375814409583,1.8986390626933218,1.9034012167822267],\"yaxis\":\"y\",\"type\":\"scatter\",\"line\":{\"color\":\"red\"}}],                        {\"template\":{\"data\":{\"histogram2dcontour\":[{\"type\":\"histogram2dcontour\",\"colorbar\":{\"outlinewidth\":0,\"ticks\":\"\"},\"colorscale\":[[0.0,\"#0d0887\"],[0.1111111111111111,\"#46039f\"],[0.2222222222222222,\"#7201a8\"],[0.3333333333333333,\"#9c179e\"],[0.4444444444444444,\"#bd3786\"],[0.5555555555555556,\"#d8576b\"],[0.6666666666666666,\"#ed7953\"],[0.7777777777777778,\"#fb9f3a\"],[0.8888888888888888,\"#fdca26\"],[1.0,\"#f0f921\"]]}],\"choropleth\":[{\"type\":\"choropleth\",\"colorbar\":{\"outlinewidth\":0,\"ticks\":\"\"}}],\"histogram2d\":[{\"type\":\"histogram2d\",\"colorbar\":{\"outlinewidth\":0,\"ticks\":\"\"},\"colorscale\":[[0.0,\"#0d0887\"],[0.1111111111111111,\"#46039f\"],[0.2222222222222222,\"#7201a8\"],[0.3333333333333333,\"#9c179e\"],[0.4444444444444444,\"#bd3786\"],[0.5555555555555556,\"#d8576b\"],[0.6666666666666666,\"#ed7953\"],[0.7777777777777778,\"#fb9f3a\"],[0.8888888888888888,\"#fdca26\"],[1.0,\"#f0f921\"]]}],\"heatmap\":[{\"type\":\"heatmap\",\"colorbar\":{\"outlinewidth\":0,\"ticks\":\"\"},\"colorscale\":[[0.0,\"#0d0887\"],[0.1111111111111111,\"#46039f\"],[0.2222222222222222,\"#7201a8\"],[0.3333333333333333,\"#9c179e\"],[0.4444444444444444,\"#bd3786\"],[0.5555555555555556,\"#d8576b\"],[0.6666666666666666,\"#ed7953\"],[0.7777777777777778,\"#fb9f3a\"],[0.8888888888888888,\"#fdca26\"],[1.0,\"#f0f921\"]]}],\"heatmapgl\":[{\"type\":\"heatmapgl\",\"colorbar\":{\"outlinewidth\":0,\"ticks\":\"\"},\"colorscale\":[[0.0,\"#0d0887\"],[0.1111111111111111,\"#46039f\"],[0.2222222222222222,\"#7201a8\"],[0.3333333333333333,\"#9c179e\"],[0.4444444444444444,\"#bd3786\"],[0.5555555555555556,\"#d8576b\"],[0.6666666666666666,\"#ed7953\"],[0.7777777777777778,\"#fb9f3a\"],[0.8888888888888888,\"#fdca26\"],[1.0,\"#f0f921\"]]}],\"contourcarpet\":[{\"type\":\"contourcarpet\",\"colorbar\":{\"outlinewidth\":0,\"ticks\":\"\"}}],\"contour\":[{\"type\":\"contour\",\"colorbar\":{\"outlinewidth\":0,\"ticks\":\"\"},\"colorscale\":[[0.0,\"#0d0887\"],[0.1111111111111111,\"#46039f\"],[0.2222222222222222,\"#7201a8\"],[0.3333333333333333,\"#9c179e\"],[0.4444444444444444,\"#bd3786\"],[0.5555555555555556,\"#d8576b\"],[0.6666666666666666,\"#ed7953\"],[0.7777777777777778,\"#fb9f3a\"],[0.8888888888888888,\"#fdca26\"],[1.0,\"#f0f921\"]]}],\"surface\":[{\"type\":\"surface\",\"colorbar\":{\"outlinewidth\":0,\"ticks\":\"\"},\"colorscale\":[[0.0,\"#0d0887\"],[0.1111111111111111,\"#46039f\"],[0.2222222222222222,\"#7201a8\"],[0.3333333333333333,\"#9c179e\"],[0.4444444444444444,\"#bd3786\"],[0.5555555555555556,\"#d8576b\"],[0.6666666666666666,\"#ed7953\"],[0.7777777777777778,\"#fb9f3a\"],[0.8888888888888888,\"#fdca26\"],[1.0,\"#f0f921\"]]}],\"mesh3d\":[{\"type\":\"mesh3d\",\"colorbar\":{\"outlinewidth\":0,\"ticks\":\"\"}}],\"scatter\":[{\"fillpattern\":{\"fillmode\":\"overlay\",\"size\":10,\"solidity\":0.2},\"type\":\"scatter\"}],\"parcoords\":[{\"type\":\"parcoords\",\"line\":{\"colorbar\":{\"outlinewidth\":0,\"ticks\":\"\"}}}],\"scatterpolargl\":[{\"type\":\"scatterpolargl\",\"marker\":{\"colorbar\":{\"outlinewidth\":0,\"ticks\":\"\"}}}],\"bar\":[{\"error_x\":{\"color\":\"#2a3f5f\"},\"error_y\":{\"color\":\"#2a3f5f\"},\"marker\":{\"line\":{\"color\":\"#E5ECF6\",\"width\":0.5},\"pattern\":{\"fillmode\":\"overlay\",\"size\":10,\"solidity\":0.2}},\"type\":\"bar\"}],\"scattergeo\":[{\"type\":\"scattergeo\",\"marker\":{\"colorbar\":{\"outlinewidth\":0,\"ticks\":\"\"}}}],\"scatterpolar\":[{\"type\":\"scatterpolar\",\"marker\":{\"colorbar\":{\"outlinewidth\":0,\"ticks\":\"\"}}}],\"histogram\":[{\"marker\":{\"pattern\":{\"fillmode\":\"overlay\",\"size\":10,\"solidity\":0.2}},\"type\":\"histogram\"}],\"scattergl\":[{\"type\":\"scattergl\",\"marker\":{\"colorbar\":{\"outlinewidth\":0,\"ticks\":\"\"}}}],\"scatter3d\":[{\"type\":\"scatter3d\",\"line\":{\"colorbar\":{\"outlinewidth\":0,\"ticks\":\"\"}},\"marker\":{\"colorbar\":{\"outlinewidth\":0,\"ticks\":\"\"}}}],\"scattermapbox\":[{\"type\":\"scattermapbox\",\"marker\":{\"colorbar\":{\"outlinewidth\":0,\"ticks\":\"\"}}}],\"scatterternary\":[{\"type\":\"scatterternary\",\"marker\":{\"colorbar\":{\"outlinewidth\":0,\"ticks\":\"\"}}}],\"scattercarpet\":[{\"type\":\"scattercarpet\",\"marker\":{\"colorbar\":{\"outlinewidth\":0,\"ticks\":\"\"}}}],\"carpet\":[{\"aaxis\":{\"endlinecolor\":\"#2a3f5f\",\"gridcolor\":\"white\",\"linecolor\":\"white\",\"minorgridcolor\":\"white\",\"startlinecolor\":\"#2a3f5f\"},\"baxis\":{\"endlinecolor\":\"#2a3f5f\",\"gridcolor\":\"white\",\"linecolor\":\"white\",\"minorgridcolor\":\"white\",\"startlinecolor\":\"#2a3f5f\"},\"type\":\"carpet\"}],\"table\":[{\"cells\":{\"fill\":{\"color\":\"#EBF0F8\"},\"line\":{\"color\":\"white\"}},\"header\":{\"fill\":{\"color\":\"#C8D4E3\"},\"line\":{\"color\":\"white\"}},\"type\":\"table\"}],\"barpolar\":[{\"marker\":{\"line\":{\"color\":\"#E5ECF6\",\"width\":0.5},\"pattern\":{\"fillmode\":\"overlay\",\"size\":10,\"solidity\":0.2}},\"type\":\"barpolar\"}],\"pie\":[{\"automargin\":true,\"type\":\"pie\"}]},\"layout\":{\"autotypenumbers\":\"strict\",\"colorway\":[\"#636efa\",\"#EF553B\",\"#00cc96\",\"#ab63fa\",\"#FFA15A\",\"#19d3f3\",\"#FF6692\",\"#B6E880\",\"#FF97FF\",\"#FECB52\"],\"font\":{\"color\":\"#2a3f5f\"},\"hovermode\":\"closest\",\"hoverlabel\":{\"align\":\"left\"},\"paper_bgcolor\":\"white\",\"plot_bgcolor\":\"#E5ECF6\",\"polar\":{\"bgcolor\":\"#E5ECF6\",\"angularaxis\":{\"gridcolor\":\"white\",\"linecolor\":\"white\",\"ticks\":\"\"},\"radialaxis\":{\"gridcolor\":\"white\",\"linecolor\":\"white\",\"ticks\":\"\"}},\"ternary\":{\"bgcolor\":\"#E5ECF6\",\"aaxis\":{\"gridcolor\":\"white\",\"linecolor\":\"white\",\"ticks\":\"\"},\"baxis\":{\"gridcolor\":\"white\",\"linecolor\":\"white\",\"ticks\":\"\"},\"caxis\":{\"gridcolor\":\"white\",\"linecolor\":\"white\",\"ticks\":\"\"}},\"coloraxis\":{\"colorbar\":{\"outlinewidth\":0,\"ticks\":\"\"}},\"colorscale\":{\"sequential\":[[0.0,\"#0d0887\"],[0.1111111111111111,\"#46039f\"],[0.2222222222222222,\"#7201a8\"],[0.3333333333333333,\"#9c179e\"],[0.4444444444444444,\"#bd3786\"],[0.5555555555555556,\"#d8576b\"],[0.6666666666666666,\"#ed7953\"],[0.7777777777777778,\"#fb9f3a\"],[0.8888888888888888,\"#fdca26\"],[1.0,\"#f0f921\"]],\"sequentialminus\":[[0.0,\"#0d0887\"],[0.1111111111111111,\"#46039f\"],[0.2222222222222222,\"#7201a8\"],[0.3333333333333333,\"#9c179e\"],[0.4444444444444444,\"#bd3786\"],[0.5555555555555556,\"#d8576b\"],[0.6666666666666666,\"#ed7953\"],[0.7777777777777778,\"#fb9f3a\"],[0.8888888888888888,\"#fdca26\"],[1.0,\"#f0f921\"]],\"diverging\":[[0,\"#8e0152\"],[0.1,\"#c51b7d\"],[0.2,\"#de77ae\"],[0.3,\"#f1b6da\"],[0.4,\"#fde0ef\"],[0.5,\"#f7f7f7\"],[0.6,\"#e6f5d0\"],[0.7,\"#b8e186\"],[0.8,\"#7fbc41\"],[0.9,\"#4d9221\"],[1,\"#276419\"]]},\"xaxis\":{\"gridcolor\":\"white\",\"linecolor\":\"white\",\"ticks\":\"\",\"title\":{\"standoff\":15},\"zerolinecolor\":\"white\",\"automargin\":true,\"zerolinewidth\":2},\"yaxis\":{\"gridcolor\":\"white\",\"linecolor\":\"white\",\"ticks\":\"\",\"title\":{\"standoff\":15},\"zerolinecolor\":\"white\",\"automargin\":true,\"zerolinewidth\":2},\"scene\":{\"xaxis\":{\"backgroundcolor\":\"#E5ECF6\",\"gridcolor\":\"white\",\"linecolor\":\"white\",\"showbackground\":true,\"ticks\":\"\",\"zerolinecolor\":\"white\",\"gridwidth\":2},\"yaxis\":{\"backgroundcolor\":\"#E5ECF6\",\"gridcolor\":\"white\",\"linecolor\":\"white\",\"showbackground\":true,\"ticks\":\"\",\"zerolinecolor\":\"white\",\"gridwidth\":2},\"zaxis\":{\"backgroundcolor\":\"#E5ECF6\",\"gridcolor\":\"white\",\"linecolor\":\"white\",\"showbackground\":true,\"ticks\":\"\",\"zerolinecolor\":\"white\",\"gridwidth\":2}},\"shapedefaults\":{\"line\":{\"color\":\"#2a3f5f\"}},\"annotationdefaults\":{\"arrowcolor\":\"#2a3f5f\",\"arrowhead\":0,\"arrowwidth\":1},\"geo\":{\"bgcolor\":\"white\",\"landcolor\":\"#E5ECF6\",\"subunitcolor\":\"white\",\"showland\":true,\"showlakes\":true,\"lakecolor\":\"white\"},\"title\":{\"x\":0.05},\"mapbox\":{\"style\":\"light\"}}},\"xaxis\":{\"anchor\":\"y\",\"domain\":[0.0,1.0],\"title\":{\"text\":\"ODA received in USD millions\",\"font\":{\"size\":14}},\"tickformat\":\",\",\"gridcolor\":\"lightgray\"},\"yaxis\":{\"anchor\":\"x\",\"domain\":[0.0,1.0],\"title\":{\"text\":\"CO2 emissions per capita in tCO2\\u002fCapita\",\"font\":{\"size\":14}},\"tickformat\":\".1f\",\"gridcolor\":\"lightgray\"},\"legend\":{\"tracegroupgap\":0},\"title\":{\"text\":\"Relation between ODA and CO2 emissions per capita in Indonesia, 2000 - 2022\"},\"height\":700,\"width\":700,\"plot_bgcolor\":\"white\"},                        {\"responsive\": true}                    ).then(function(){\n",
       "                            \n",
       "var gd = document.getElementById('8ee494b2-efc8-4cd1-a937-01994e7fad4b');\n",
       "var x = new MutationObserver(function (mutations, observer) {{\n",
       "        var display = window.getComputedStyle(gd).display;\n",
       "        if (!display || display === 'none') {{\n",
       "            console.log([gd, 'removed!']);\n",
       "            Plotly.purge(gd);\n",
       "            observer.disconnect();\n",
       "        }}\n",
       "}});\n",
       "\n",
       "// Listen for the removal of the full notebook cells\n",
       "var notebookContainer = gd.closest('#notebook-container');\n",
       "if (notebookContainer) {{\n",
       "    x.observe(notebookContainer, {childList: true});\n",
       "}}\n",
       "\n",
       "// Listen for the clearing of the current output cell\n",
       "var outputEl = gd.closest('.output');\n",
       "if (outputEl) {{\n",
       "    x.observe(outputEl, {childList: true});\n",
       "}}\n",
       "\n",
       "                        })                };                });            </script>        </div>"
      ]
     },
     "metadata": {},
     "output_type": "display_data"
    }
   ],
   "source": [
    "fig3 = px.scatter(\n",
    "    indo_data,\n",
    "    x='ODA received in USD millions',\n",
    "    y='CO2 emissions per capita in tCO2/Capita',\n",
    "    title='Relation between ODA and CO2 emissions per capita in Indonesia, 2000 - 2022',\n",
    "    trendline=\"ols\",\n",
    "    height=700,  \n",
    "    width=700\n",
    ")\n",
    "\n",
    "fig3.update_traces(marker=dict(size=10, opacity=0.7), line=dict(color=\"red\")) \n",
    "\n",
    "fig3.update_layout(\n",
    "    xaxis=dict(\n",
    "        tickformat=\",\",  \n",
    "        title=dict(font=dict(size=14)),\n",
    "        gridcolor=\"lightgray\"\n",
    "    ),\n",
    "    yaxis=dict(\n",
    "        tickformat=\".1f\",  # One decimal point\n",
    "        title=dict(font=dict(size=14)),\n",
    "        gridcolor=\"lightgray\"\n",
    "    ),\n",
    "    plot_bgcolor=\"white\",  \n",
    ")\n",
    "\n",
    "fig3.show()"
   ]
  },
  {
   "cell_type": "markdown",
   "id": "3855434c-2dc2-495b-aa4b-bcb8994d7139",
   "metadata": {},
   "source": [
    "As expected, the two factors share a positive correlation, contributing (though not confirming) to my hypothesis."
   ]
  },
  {
   "cell_type": "markdown",
   "id": "1c141f0a-3a27-4cae-9df0-18dd4e735db1",
   "metadata": {},
   "source": [
    "# Extra research: Regional Comparison"
   ]
  },
  {
   "cell_type": "markdown",
   "id": "808846a5-416b-460e-ba49-11561d4b94c2",
   "metadata": {},
   "source": [
    "Plotting two factors against each other only shows correlation, not causation, so it’s hard to draw meaningful conclusions. To dig deeper, I want to compare ODA-CO2 data across different regions. My hypothesis is that in certain regions, such as higher-income ones, the relationship between ODA and CO2 emissions might be weaker due to greater resources for cleaner technologies, while in others, ODA might be more closely tied to emissions-intensive development activities."
   ]
  },
  {
   "cell_type": "markdown",
   "id": "980522bb-4f8f-452f-af03-fba92bdf97eb",
   "metadata": {},
   "source": [
    "## I. About the Data"
   ]
  },
  {
   "cell_type": "markdown",
   "id": "c04af002-5a40-4370-8fd7-8c07a78ffbbd",
   "metadata": {},
   "source": [
    "### Dataset 3: region_finance\n",
    "\n",
    "Contains data on total OECD-measured international finance receipts received by all recipient developing countries, grouped into 4 regions: Africa, Asia, Europe and America.\n",
    "\n",
    "Dataset link: https://data-explorer.oecd.org/vis?fs[0]=Topic%2C1%7CDevelopment%23DEV%23%7COfficial%20Development%20Assistance%20%28ODA%29%23DEV_ODA%23&fs[1]=Topic%2C2%7CDevelopment%23DEV%23%7COfficial%20Development%20Assistance%20%28ODA%29%23DEV_ODA%23%7CFlows%20by%20provider%20and%20recipient%23DEV_ODA_FPR%23&fs[2]=Measure%2C0%7CTotal%20receipts%23510%23&pg=0&fc=Measure&snb=1&vw=tb&df[ds]=dsDisseminateFinalDMZ&df[id]=DSD_DAC2%40DF_RECPTS&df[ag]=OECD.DCD.FSD&df[vs]=1.1&dq=DAC.S%2BA%2BF%2BE.510.USD.&pd=%2C&to[TIME_PERIOD]=false\n",
    "\n",
    "### Dataset 4: region_emissions\n",
    "\n",
    "Contains data on Carbon intensity of GDP (kg CO2e per 2021 PPP $ of GDP) per country/region, ungrouped.\n",
    "\n",
    "Dataset link: https://data.worldbank.org/indicator/EN.GHG.CO2.RT.GDP.PP.KD"
   ]
  },
  {
   "cell_type": "markdown",
   "id": "c7756e60-5745-48cc-bdf9-2849d80034f1",
   "metadata": {},
   "source": [
    "# II. Data Manipulation"
   ]
  },
  {
   "cell_type": "markdown",
   "id": "5d591f10-aaee-47b6-9ec8-0c2e90bd35e4",
   "metadata": {},
   "source": [
    "### 1. Import and read datasets"
   ]
  },
  {
   "cell_type": "code",
   "execution_count": null,
   "id": "1d91ede3-6b41-454f-b4b1-d8b56a7da451",
   "metadata": {},
   "outputs": [],
   "source": [
    "filepath3 = '/Users/wanqi/Desktop/region_finance.csv'\n",
    "filepath4 = '/Users/wanqi/Desktop/region_emissions.csv'\n",
    "\n",
    "region_finance = pd.read_csv(filepath3)\n",
    "region_emissions = pd.read_csv(filepath4)"
   ]
  },
  {
   "cell_type": "code",
   "execution_count": null,
   "id": "beb34d7e-49ca-4558-b109-ebb62c899074",
   "metadata": {},
   "outputs": [
    {
     "name": "stdout",
     "output_type": "stream",
     "text": [
      "<class 'pandas.core.frame.DataFrame'>\n",
      "RangeIndex: 252 entries, 0 to 251\n",
      "Data columns (total 26 columns):\n",
      " #   Column              Non-Null Count  Dtype  \n",
      "---  ------              --------------  -----  \n",
      " 0   STRUCTURE           252 non-null    object \n",
      " 1   STRUCTURE_ID        252 non-null    object \n",
      " 2   STRUCTURE_NAME      252 non-null    object \n",
      " 3   ACTION              252 non-null    object \n",
      " 4   DONOR               252 non-null    object \n",
      " 5   Donor               252 non-null    object \n",
      " 6   RECIPIENT           252 non-null    object \n",
      " 7   Recipient           252 non-null    object \n",
      " 8   MEASURE             252 non-null    int64  \n",
      " 9   Measure             252 non-null    object \n",
      " 10  UNIT_MEASURE        252 non-null    object \n",
      " 11  Unit of measure     252 non-null    object \n",
      " 12  PRICE_BASE          252 non-null    object \n",
      " 13  Price base          252 non-null    object \n",
      " 14  TIME_PERIOD         252 non-null    int64  \n",
      " 15  Time period         0 non-null      float64\n",
      " 16  OBS_VALUE           252 non-null    float64\n",
      " 17  Observation value   0 non-null      float64\n",
      " 18  BASE_PER            0 non-null      float64\n",
      " 19  Base period         0 non-null      float64\n",
      " 20  UNIT_MULT           252 non-null    int64  \n",
      " 21  Unit multiplier     252 non-null    object \n",
      " 22  FLOW_TYPE           252 non-null    object \n",
      " 23  Flow type           252 non-null    object \n",
      " 24  OBS_STATUS          252 non-null    object \n",
      " 25  Observation status  252 non-null    object \n",
      "dtypes: float64(5), int64(3), object(18)\n",
      "memory usage: 51.3+ KB\n"
     ]
    }
   ],
   "source": [
    "region_finance.info()"
   ]
  },
  {
   "cell_type": "code",
   "execution_count": null,
   "id": "7bee8f8c-40fe-4bd6-8236-6a7d8b1a5464",
   "metadata": {},
   "outputs": [
    {
     "name": "stdout",
     "output_type": "stream",
     "text": [
      "<class 'pandas.core.frame.DataFrame'>\n",
      "RangeIndex: 266 entries, 0 to 265\n",
      "Data columns (total 68 columns):\n",
      " #   Column          Non-Null Count  Dtype  \n",
      "---  ------          --------------  -----  \n",
      " 0   Country Name    266 non-null    object \n",
      " 1   Country Code    266 non-null    object \n",
      " 2   Indicator Name  266 non-null    object \n",
      " 3   Indicator Code  266 non-null    object \n",
      " 4   1960            0 non-null      float64\n",
      " 5   1961            0 non-null      float64\n",
      " 6   1962            0 non-null      float64\n",
      " 7   1963            0 non-null      float64\n",
      " 8   1964            0 non-null      float64\n",
      " 9   1965            0 non-null      float64\n",
      " 10  1966            0 non-null      float64\n",
      " 11  1967            0 non-null      float64\n",
      " 12  1968            0 non-null      float64\n",
      " 13  1969            0 non-null      float64\n",
      " 14  1970            0 non-null      float64\n",
      " 15  1971            0 non-null      float64\n",
      " 16  1972            0 non-null      float64\n",
      " 17  1973            0 non-null      float64\n",
      " 18  1974            0 non-null      float64\n",
      " 19  1975            0 non-null      float64\n",
      " 20  1976            0 non-null      float64\n",
      " 21  1977            0 non-null      float64\n",
      " 22  1978            0 non-null      float64\n",
      " 23  1979            0 non-null      float64\n",
      " 24  1980            0 non-null      float64\n",
      " 25  1981            0 non-null      float64\n",
      " 26  1982            0 non-null      float64\n",
      " 27  1983            0 non-null      float64\n",
      " 28  1984            0 non-null      float64\n",
      " 29  1985            0 non-null      float64\n",
      " 30  1986            0 non-null      float64\n",
      " 31  1987            0 non-null      float64\n",
      " 32  1988            0 non-null      float64\n",
      " 33  1989            0 non-null      float64\n",
      " 34  1990            231 non-null    float64\n",
      " 35  1991            232 non-null    float64\n",
      " 36  1992            232 non-null    float64\n",
      " 37  1993            232 non-null    float64\n",
      " 38  1994            232 non-null    float64\n",
      " 39  1995            232 non-null    float64\n",
      " 40  1996            232 non-null    float64\n",
      " 41  1997            232 non-null    float64\n",
      " 42  1998            232 non-null    float64\n",
      " 43  1999            232 non-null    float64\n",
      " 44  2000            233 non-null    float64\n",
      " 45  2001            233 non-null    float64\n",
      " 46  2002            234 non-null    float64\n",
      " 47  2003            234 non-null    float64\n",
      " 48  2004            234 non-null    float64\n",
      " 49  2005            234 non-null    float64\n",
      " 50  2006            235 non-null    float64\n",
      " 51  2007            235 non-null    float64\n",
      " 52  2008            236 non-null    float64\n",
      " 53  2009            236 non-null    float64\n",
      " 54  2010            236 non-null    float64\n",
      " 55  2011            237 non-null    float64\n",
      " 56  2012            237 non-null    float64\n",
      " 57  2013            238 non-null    float64\n",
      " 58  2014            238 non-null    float64\n",
      " 59  2015            238 non-null    float64\n",
      " 60  2016            238 non-null    float64\n",
      " 61  2017            238 non-null    float64\n",
      " 62  2018            238 non-null    float64\n",
      " 63  2019            238 non-null    float64\n",
      " 64  2020            238 non-null    float64\n",
      " 65  2021            238 non-null    float64\n",
      " 66  2022            235 non-null    float64\n",
      " 67  2023            0 non-null      float64\n",
      "dtypes: float64(64), object(4)\n",
      "memory usage: 141.4+ KB\n"
     ]
    }
   ],
   "source": [
    "region_emissions.info()"
   ]
  },
  {
   "cell_type": "markdown",
   "id": "c5b73ad5-a2b0-4e41-a354-b82c52ff01b8",
   "metadata": {},
   "source": [
    "## 2. Data cleaning for region_emissions dataset"
   ]
  },
  {
   "cell_type": "markdown",
   "id": "04fffe1b-e66e-4d47-af66-e107e936d9ab",
   "metadata": {},
   "source": [
    "I first want to tidy up the region_emissions dataset, because it contians both countries and region groups that, upon inspection, do not share the same grouping criteria as the four regions in the regions_finance dataset. I only want rows under column 'Country Name' that contains the region names in the regions_finance dataset."
   ]
  },
  {
   "cell_type": "code",
   "execution_count": null,
   "id": "f2039f11-993c-4820-9d01-d80966808efb",
   "metadata": {},
   "outputs": [
    {
     "data": {
      "text/plain": [
       "['Africa', 'Asia', 'Europe', 'America']"
      ]
     },
     "execution_count": 281,
     "metadata": {},
     "output_type": "execute_result"
    }
   ],
   "source": [
    "#Define region names in regions_finance dataset\n",
    "region_names = [i for i in region_finance['Recipient'].unique()]\n",
    "region_names"
   ]
  },
  {
   "cell_type": "code",
   "execution_count": null,
   "id": "d2d8ebca-e754-47b9-90da-94490c409b90",
   "metadata": {},
   "outputs": [
    {
     "data": {
      "text/html": [
       "<div>\n",
       "<style scoped>\n",
       "    .dataframe tbody tr th:only-of-type {\n",
       "        vertical-align: middle;\n",
       "    }\n",
       "\n",
       "    .dataframe tbody tr th {\n",
       "        vertical-align: top;\n",
       "    }\n",
       "\n",
       "    .dataframe thead th {\n",
       "        text-align: right;\n",
       "    }\n",
       "</style>\n",
       "<table border=\"1\" class=\"dataframe\">\n",
       "  <thead>\n",
       "    <tr style=\"text-align: right;\">\n",
       "      <th></th>\n",
       "      <th>Country Name</th>\n",
       "      <th>Country Code</th>\n",
       "      <th>Indicator Name</th>\n",
       "      <th>Indicator Code</th>\n",
       "      <th>1960</th>\n",
       "      <th>1961</th>\n",
       "      <th>1962</th>\n",
       "      <th>1963</th>\n",
       "      <th>1964</th>\n",
       "      <th>1965</th>\n",
       "      <th>...</th>\n",
       "      <th>2014</th>\n",
       "      <th>2015</th>\n",
       "      <th>2016</th>\n",
       "      <th>2017</th>\n",
       "      <th>2018</th>\n",
       "      <th>2019</th>\n",
       "      <th>2020</th>\n",
       "      <th>2021</th>\n",
       "      <th>2022</th>\n",
       "      <th>2023</th>\n",
       "    </tr>\n",
       "  </thead>\n",
       "  <tbody>\n",
       "    <tr>\n",
       "      <th>1</th>\n",
       "      <td>Africa Eastern and Southern</td>\n",
       "      <td>AFE</td>\n",
       "      <td>Carbon intensity of GDP (kg CO2e per 2021 PPP ...</td>\n",
       "      <td>EN.GHG.CO2.RT.GDP.PP.KD</td>\n",
       "      <td>NaN</td>\n",
       "      <td>NaN</td>\n",
       "      <td>NaN</td>\n",
       "      <td>NaN</td>\n",
       "      <td>NaN</td>\n",
       "      <td>NaN</td>\n",
       "      <td>...</td>\n",
       "      <td>0.267760</td>\n",
       "      <td>0.252774</td>\n",
       "      <td>0.248533</td>\n",
       "      <td>0.245539</td>\n",
       "      <td>0.241637</td>\n",
       "      <td>0.239519</td>\n",
       "      <td>0.218904</td>\n",
       "      <td>0.213645</td>\n",
       "      <td>0.203193</td>\n",
       "      <td>NaN</td>\n",
       "    </tr>\n",
       "    <tr>\n",
       "      <th>3</th>\n",
       "      <td>Africa Western and Central</td>\n",
       "      <td>AFW</td>\n",
       "      <td>Carbon intensity of GDP (kg CO2e per 2021 PPP ...</td>\n",
       "      <td>EN.GHG.CO2.RT.GDP.PP.KD</td>\n",
       "      <td>NaN</td>\n",
       "      <td>NaN</td>\n",
       "      <td>NaN</td>\n",
       "      <td>NaN</td>\n",
       "      <td>NaN</td>\n",
       "      <td>NaN</td>\n",
       "      <td>...</td>\n",
       "      <td>0.104012</td>\n",
       "      <td>0.100540</td>\n",
       "      <td>0.104685</td>\n",
       "      <td>0.102660</td>\n",
       "      <td>0.104986</td>\n",
       "      <td>0.106821</td>\n",
       "      <td>0.104690</td>\n",
       "      <td>0.107010</td>\n",
       "      <td>0.103558</td>\n",
       "      <td>NaN</td>\n",
       "    </tr>\n",
       "    <tr>\n",
       "      <th>11</th>\n",
       "      <td>American Samoa</td>\n",
       "      <td>ASM</td>\n",
       "      <td>Carbon intensity of GDP (kg CO2e per 2021 PPP ...</td>\n",
       "      <td>EN.GHG.CO2.RT.GDP.PP.KD</td>\n",
       "      <td>NaN</td>\n",
       "      <td>NaN</td>\n",
       "      <td>NaN</td>\n",
       "      <td>NaN</td>\n",
       "      <td>NaN</td>\n",
       "      <td>NaN</td>\n",
       "      <td>...</td>\n",
       "      <td>NaN</td>\n",
       "      <td>NaN</td>\n",
       "      <td>NaN</td>\n",
       "      <td>NaN</td>\n",
       "      <td>NaN</td>\n",
       "      <td>NaN</td>\n",
       "      <td>NaN</td>\n",
       "      <td>NaN</td>\n",
       "      <td>NaN</td>\n",
       "      <td>NaN</td>\n",
       "    </tr>\n",
       "    <tr>\n",
       "      <th>34</th>\n",
       "      <td>Central African Republic</td>\n",
       "      <td>CAF</td>\n",
       "      <td>Carbon intensity of GDP (kg CO2e per 2021 PPP ...</td>\n",
       "      <td>EN.GHG.CO2.RT.GDP.PP.KD</td>\n",
       "      <td>NaN</td>\n",
       "      <td>NaN</td>\n",
       "      <td>NaN</td>\n",
       "      <td>NaN</td>\n",
       "      <td>NaN</td>\n",
       "      <td>NaN</td>\n",
       "      <td>...</td>\n",
       "      <td>0.034997</td>\n",
       "      <td>0.048028</td>\n",
       "      <td>0.047864</td>\n",
       "      <td>0.047190</td>\n",
       "      <td>0.047670</td>\n",
       "      <td>0.048868</td>\n",
       "      <td>0.049150</td>\n",
       "      <td>0.050908</td>\n",
       "      <td>0.047618</td>\n",
       "      <td>NaN</td>\n",
       "    </tr>\n",
       "    <tr>\n",
       "      <th>36</th>\n",
       "      <td>Central Europe and the Baltics</td>\n",
       "      <td>CEB</td>\n",
       "      <td>Carbon intensity of GDP (kg CO2e per 2021 PPP ...</td>\n",
       "      <td>EN.GHG.CO2.RT.GDP.PP.KD</td>\n",
       "      <td>NaN</td>\n",
       "      <td>NaN</td>\n",
       "      <td>NaN</td>\n",
       "      <td>NaN</td>\n",
       "      <td>NaN</td>\n",
       "      <td>NaN</td>\n",
       "      <td>...</td>\n",
       "      <td>0.214625</td>\n",
       "      <td>0.209404</td>\n",
       "      <td>0.206844</td>\n",
       "      <td>0.204884</td>\n",
       "      <td>0.194127</td>\n",
       "      <td>0.177069</td>\n",
       "      <td>0.171182</td>\n",
       "      <td>0.174318</td>\n",
       "      <td>0.164749</td>\n",
       "      <td>NaN</td>\n",
       "    </tr>\n",
       "    <tr>\n",
       "      <th>61</th>\n",
       "      <td>East Asia &amp; Pacific (excluding high income)</td>\n",
       "      <td>EAP</td>\n",
       "      <td>Carbon intensity of GDP (kg CO2e per 2021 PPP ...</td>\n",
       "      <td>EN.GHG.CO2.RT.GDP.PP.KD</td>\n",
       "      <td>NaN</td>\n",
       "      <td>NaN</td>\n",
       "      <td>NaN</td>\n",
       "      <td>NaN</td>\n",
       "      <td>NaN</td>\n",
       "      <td>NaN</td>\n",
       "      <td>...</td>\n",
       "      <td>0.478857</td>\n",
       "      <td>0.446379</td>\n",
       "      <td>0.421172</td>\n",
       "      <td>0.405025</td>\n",
       "      <td>0.400630</td>\n",
       "      <td>0.390044</td>\n",
       "      <td>0.391718</td>\n",
       "      <td>0.384959</td>\n",
       "      <td>0.372799</td>\n",
       "      <td>NaN</td>\n",
       "    </tr>\n",
       "    <tr>\n",
       "      <th>63</th>\n",
       "      <td>East Asia &amp; Pacific</td>\n",
       "      <td>EAS</td>\n",
       "      <td>Carbon intensity of GDP (kg CO2e per 2021 PPP ...</td>\n",
       "      <td>EN.GHG.CO2.RT.GDP.PP.KD</td>\n",
       "      <td>NaN</td>\n",
       "      <td>NaN</td>\n",
       "      <td>NaN</td>\n",
       "      <td>NaN</td>\n",
       "      <td>NaN</td>\n",
       "      <td>NaN</td>\n",
       "      <td>...</td>\n",
       "      <td>0.410424</td>\n",
       "      <td>0.387468</td>\n",
       "      <td>0.370149</td>\n",
       "      <td>0.358258</td>\n",
       "      <td>0.354558</td>\n",
       "      <td>0.346672</td>\n",
       "      <td>0.348164</td>\n",
       "      <td>0.343052</td>\n",
       "      <td>0.333465</td>\n",
       "      <td>NaN</td>\n",
       "    </tr>\n",
       "    <tr>\n",
       "      <th>64</th>\n",
       "      <td>Europe &amp; Central Asia (excluding high income)</td>\n",
       "      <td>ECA</td>\n",
       "      <td>Carbon intensity of GDP (kg CO2e per 2021 PPP ...</td>\n",
       "      <td>EN.GHG.CO2.RT.GDP.PP.KD</td>\n",
       "      <td>NaN</td>\n",
       "      <td>NaN</td>\n",
       "      <td>NaN</td>\n",
       "      <td>NaN</td>\n",
       "      <td>NaN</td>\n",
       "      <td>NaN</td>\n",
       "      <td>...</td>\n",
       "      <td>0.271144</td>\n",
       "      <td>0.250897</td>\n",
       "      <td>0.255081</td>\n",
       "      <td>0.251302</td>\n",
       "      <td>0.247775</td>\n",
       "      <td>0.235393</td>\n",
       "      <td>0.236165</td>\n",
       "      <td>0.229371</td>\n",
       "      <td>0.225697</td>\n",
       "      <td>NaN</td>\n",
       "    </tr>\n",
       "    <tr>\n",
       "      <th>65</th>\n",
       "      <td>Europe &amp; Central Asia</td>\n",
       "      <td>ECS</td>\n",
       "      <td>Carbon intensity of GDP (kg CO2e per 2021 PPP ...</td>\n",
       "      <td>EN.GHG.CO2.RT.GDP.PP.KD</td>\n",
       "      <td>NaN</td>\n",
       "      <td>NaN</td>\n",
       "      <td>NaN</td>\n",
       "      <td>NaN</td>\n",
       "      <td>NaN</td>\n",
       "      <td>NaN</td>\n",
       "      <td>...</td>\n",
       "      <td>0.184823</td>\n",
       "      <td>0.181540</td>\n",
       "      <td>0.178506</td>\n",
       "      <td>0.175521</td>\n",
       "      <td>0.172103</td>\n",
       "      <td>0.165567</td>\n",
       "      <td>0.163128</td>\n",
       "      <td>0.163832</td>\n",
       "      <td>0.158530</td>\n",
       "      <td>NaN</td>\n",
       "    </tr>\n",
       "    <tr>\n",
       "      <th>73</th>\n",
       "      <td>European Union</td>\n",
       "      <td>EUU</td>\n",
       "      <td>Carbon intensity of GDP (kg CO2e per 2021 PPP ...</td>\n",
       "      <td>EN.GHG.CO2.RT.GDP.PP.KD</td>\n",
       "      <td>NaN</td>\n",
       "      <td>NaN</td>\n",
       "      <td>NaN</td>\n",
       "      <td>NaN</td>\n",
       "      <td>NaN</td>\n",
       "      <td>NaN</td>\n",
       "      <td>...</td>\n",
       "      <td>0.145753</td>\n",
       "      <td>0.145211</td>\n",
       "      <td>0.142720</td>\n",
       "      <td>0.139832</td>\n",
       "      <td>0.133870</td>\n",
       "      <td>0.125119</td>\n",
       "      <td>0.120290</td>\n",
       "      <td>0.121653</td>\n",
       "      <td>0.116623</td>\n",
       "      <td>NaN</td>\n",
       "    </tr>\n",
       "    <tr>\n",
       "      <th>128</th>\n",
       "      <td>Latin America &amp; Caribbean (excluding high income)</td>\n",
       "      <td>LAC</td>\n",
       "      <td>Carbon intensity of GDP (kg CO2e per 2021 PPP ...</td>\n",
       "      <td>EN.GHG.CO2.RT.GDP.PP.KD</td>\n",
       "      <td>NaN</td>\n",
       "      <td>NaN</td>\n",
       "      <td>NaN</td>\n",
       "      <td>NaN</td>\n",
       "      <td>NaN</td>\n",
       "      <td>NaN</td>\n",
       "      <td>...</td>\n",
       "      <td>0.150952</td>\n",
       "      <td>0.149911</td>\n",
       "      <td>0.148326</td>\n",
       "      <td>0.145079</td>\n",
       "      <td>0.138879</td>\n",
       "      <td>0.138209</td>\n",
       "      <td>0.134904</td>\n",
       "      <td>0.137896</td>\n",
       "      <td>0.135144</td>\n",
       "      <td>NaN</td>\n",
       "    </tr>\n",
       "    <tr>\n",
       "      <th>134</th>\n",
       "      <td>Latin America &amp; Caribbean</td>\n",
       "      <td>LCN</td>\n",
       "      <td>Carbon intensity of GDP (kg CO2e per 2021 PPP ...</td>\n",
       "      <td>EN.GHG.CO2.RT.GDP.PP.KD</td>\n",
       "      <td>NaN</td>\n",
       "      <td>NaN</td>\n",
       "      <td>NaN</td>\n",
       "      <td>NaN</td>\n",
       "      <td>NaN</td>\n",
       "      <td>NaN</td>\n",
       "      <td>...</td>\n",
       "      <td>0.151419</td>\n",
       "      <td>0.150752</td>\n",
       "      <td>0.149201</td>\n",
       "      <td>0.146167</td>\n",
       "      <td>0.140443</td>\n",
       "      <td>0.140444</td>\n",
       "      <td>0.137273</td>\n",
       "      <td>0.140063</td>\n",
       "      <td>0.136541</td>\n",
       "      <td>NaN</td>\n",
       "    </tr>\n",
       "    <tr>\n",
       "      <th>153</th>\n",
       "      <td>Middle East &amp; North Africa</td>\n",
       "      <td>MEA</td>\n",
       "      <td>Carbon intensity of GDP (kg CO2e per 2021 PPP ...</td>\n",
       "      <td>EN.GHG.CO2.RT.GDP.PP.KD</td>\n",
       "      <td>NaN</td>\n",
       "      <td>NaN</td>\n",
       "      <td>NaN</td>\n",
       "      <td>NaN</td>\n",
       "      <td>NaN</td>\n",
       "      <td>NaN</td>\n",
       "      <td>...</td>\n",
       "      <td>0.341145</td>\n",
       "      <td>0.337255</td>\n",
       "      <td>0.326631</td>\n",
       "      <td>0.327070</td>\n",
       "      <td>0.319202</td>\n",
       "      <td>0.313462</td>\n",
       "      <td>0.313608</td>\n",
       "      <td>0.315915</td>\n",
       "      <td>0.305379</td>\n",
       "      <td>NaN</td>\n",
       "    </tr>\n",
       "    <tr>\n",
       "      <th>161</th>\n",
       "      <td>Middle East &amp; North Africa (excluding high inc...</td>\n",
       "      <td>MNA</td>\n",
       "      <td>Carbon intensity of GDP (kg CO2e per 2021 PPP ...</td>\n",
       "      <td>EN.GHG.CO2.RT.GDP.PP.KD</td>\n",
       "      <td>NaN</td>\n",
       "      <td>NaN</td>\n",
       "      <td>NaN</td>\n",
       "      <td>NaN</td>\n",
       "      <td>NaN</td>\n",
       "      <td>NaN</td>\n",
       "      <td>...</td>\n",
       "      <td>0.323723</td>\n",
       "      <td>0.317483</td>\n",
       "      <td>0.305806</td>\n",
       "      <td>0.311579</td>\n",
       "      <td>0.312672</td>\n",
       "      <td>0.302382</td>\n",
       "      <td>0.297086</td>\n",
       "      <td>0.301934</td>\n",
       "      <td>0.293363</td>\n",
       "      <td>NaN</td>\n",
       "    </tr>\n",
       "    <tr>\n",
       "      <th>170</th>\n",
       "      <td>North America</td>\n",
       "      <td>NAC</td>\n",
       "      <td>Carbon intensity of GDP (kg CO2e per 2021 PPP ...</td>\n",
       "      <td>EN.GHG.CO2.RT.GDP.PP.KD</td>\n",
       "      <td>NaN</td>\n",
       "      <td>NaN</td>\n",
       "      <td>NaN</td>\n",
       "      <td>NaN</td>\n",
       "      <td>NaN</td>\n",
       "      <td>NaN</td>\n",
       "      <td>...</td>\n",
       "      <td>0.264230</td>\n",
       "      <td>0.252150</td>\n",
       "      <td>0.243218</td>\n",
       "      <td>0.234795</td>\n",
       "      <td>0.235046</td>\n",
       "      <td>0.222943</td>\n",
       "      <td>0.205983</td>\n",
       "      <td>0.207172</td>\n",
       "      <td>0.206922</td>\n",
       "      <td>NaN</td>\n",
       "    </tr>\n",
       "    <tr>\n",
       "      <th>204</th>\n",
       "      <td>South Asia</td>\n",
       "      <td>SAS</td>\n",
       "      <td>Carbon intensity of GDP (kg CO2e per 2021 PPP ...</td>\n",
       "      <td>EN.GHG.CO2.RT.GDP.PP.KD</td>\n",
       "      <td>NaN</td>\n",
       "      <td>NaN</td>\n",
       "      <td>NaN</td>\n",
       "      <td>NaN</td>\n",
       "      <td>NaN</td>\n",
       "      <td>NaN</td>\n",
       "      <td>...</td>\n",
       "      <td>0.246398</td>\n",
       "      <td>0.232993</td>\n",
       "      <td>0.222643</td>\n",
       "      <td>0.221513</td>\n",
       "      <td>0.218564</td>\n",
       "      <td>0.207451</td>\n",
       "      <td>0.199903</td>\n",
       "      <td>0.200069</td>\n",
       "      <td>0.197745</td>\n",
       "      <td>NaN</td>\n",
       "    </tr>\n",
       "    <tr>\n",
       "      <th>215</th>\n",
       "      <td>Sub-Saharan Africa (excluding high income)</td>\n",
       "      <td>SSA</td>\n",
       "      <td>Carbon intensity of GDP (kg CO2e per 2021 PPP ...</td>\n",
       "      <td>EN.GHG.CO2.RT.GDP.PP.KD</td>\n",
       "      <td>NaN</td>\n",
       "      <td>NaN</td>\n",
       "      <td>NaN</td>\n",
       "      <td>NaN</td>\n",
       "      <td>NaN</td>\n",
       "      <td>NaN</td>\n",
       "      <td>...</td>\n",
       "      <td>0.193541</td>\n",
       "      <td>0.183930</td>\n",
       "      <td>0.184233</td>\n",
       "      <td>0.181794</td>\n",
       "      <td>0.180645</td>\n",
       "      <td>0.179961</td>\n",
       "      <td>0.167108</td>\n",
       "      <td>0.165411</td>\n",
       "      <td>0.158089</td>\n",
       "      <td>NaN</td>\n",
       "    </tr>\n",
       "    <tr>\n",
       "      <th>217</th>\n",
       "      <td>Sub-Saharan Africa</td>\n",
       "      <td>SSF</td>\n",
       "      <td>Carbon intensity of GDP (kg CO2e per 2021 PPP ...</td>\n",
       "      <td>EN.GHG.CO2.RT.GDP.PP.KD</td>\n",
       "      <td>NaN</td>\n",
       "      <td>NaN</td>\n",
       "      <td>NaN</td>\n",
       "      <td>NaN</td>\n",
       "      <td>NaN</td>\n",
       "      <td>NaN</td>\n",
       "      <td>...</td>\n",
       "      <td>0.193654</td>\n",
       "      <td>0.184047</td>\n",
       "      <td>0.184353</td>\n",
       "      <td>0.181910</td>\n",
       "      <td>0.180730</td>\n",
       "      <td>0.180045</td>\n",
       "      <td>0.167220</td>\n",
       "      <td>0.165527</td>\n",
       "      <td>0.158195</td>\n",
       "      <td>NaN</td>\n",
       "    </tr>\n",
       "    <tr>\n",
       "      <th>230</th>\n",
       "      <td>East Asia &amp; Pacific (IDA &amp; IBRD countries)</td>\n",
       "      <td>TEA</td>\n",
       "      <td>Carbon intensity of GDP (kg CO2e per 2021 PPP ...</td>\n",
       "      <td>EN.GHG.CO2.RT.GDP.PP.KD</td>\n",
       "      <td>NaN</td>\n",
       "      <td>NaN</td>\n",
       "      <td>NaN</td>\n",
       "      <td>NaN</td>\n",
       "      <td>NaN</td>\n",
       "      <td>NaN</td>\n",
       "      <td>...</td>\n",
       "      <td>0.478899</td>\n",
       "      <td>0.446414</td>\n",
       "      <td>0.421204</td>\n",
       "      <td>0.405057</td>\n",
       "      <td>0.400662</td>\n",
       "      <td>0.390075</td>\n",
       "      <td>0.391749</td>\n",
       "      <td>0.384990</td>\n",
       "      <td>0.372829</td>\n",
       "      <td>NaN</td>\n",
       "    </tr>\n",
       "    <tr>\n",
       "      <th>231</th>\n",
       "      <td>Europe &amp; Central Asia (IDA &amp; IBRD countries)</td>\n",
       "      <td>TEC</td>\n",
       "      <td>Carbon intensity of GDP (kg CO2e per 2021 PPP ...</td>\n",
       "      <td>EN.GHG.CO2.RT.GDP.PP.KD</td>\n",
       "      <td>NaN</td>\n",
       "      <td>NaN</td>\n",
       "      <td>NaN</td>\n",
       "      <td>NaN</td>\n",
       "      <td>NaN</td>\n",
       "      <td>NaN</td>\n",
       "      <td>...</td>\n",
       "      <td>0.286952</td>\n",
       "      <td>0.281287</td>\n",
       "      <td>0.279164</td>\n",
       "      <td>0.276354</td>\n",
       "      <td>0.274457</td>\n",
       "      <td>0.268723</td>\n",
       "      <td>0.264727</td>\n",
       "      <td>0.265730</td>\n",
       "      <td>0.262031</td>\n",
       "      <td>NaN</td>\n",
       "    </tr>\n",
       "    <tr>\n",
       "      <th>236</th>\n",
       "      <td>Latin America &amp; the Caribbean (IDA &amp; IBRD coun...</td>\n",
       "      <td>TLA</td>\n",
       "      <td>Carbon intensity of GDP (kg CO2e per 2021 PPP ...</td>\n",
       "      <td>EN.GHG.CO2.RT.GDP.PP.KD</td>\n",
       "      <td>NaN</td>\n",
       "      <td>NaN</td>\n",
       "      <td>NaN</td>\n",
       "      <td>NaN</td>\n",
       "      <td>NaN</td>\n",
       "      <td>NaN</td>\n",
       "      <td>...</td>\n",
       "      <td>0.152676</td>\n",
       "      <td>0.151956</td>\n",
       "      <td>0.150419</td>\n",
       "      <td>0.147205</td>\n",
       "      <td>0.141081</td>\n",
       "      <td>0.141188</td>\n",
       "      <td>0.137921</td>\n",
       "      <td>0.140705</td>\n",
       "      <td>0.137145</td>\n",
       "      <td>NaN</td>\n",
       "    </tr>\n",
       "    <tr>\n",
       "      <th>238</th>\n",
       "      <td>Middle East &amp; North Africa (IDA &amp; IBRD countries)</td>\n",
       "      <td>TMN</td>\n",
       "      <td>Carbon intensity of GDP (kg CO2e per 2021 PPP ...</td>\n",
       "      <td>EN.GHG.CO2.RT.GDP.PP.KD</td>\n",
       "      <td>NaN</td>\n",
       "      <td>NaN</td>\n",
       "      <td>NaN</td>\n",
       "      <td>NaN</td>\n",
       "      <td>NaN</td>\n",
       "      <td>NaN</td>\n",
       "      <td>...</td>\n",
       "      <td>0.323723</td>\n",
       "      <td>0.317483</td>\n",
       "      <td>0.305806</td>\n",
       "      <td>0.311579</td>\n",
       "      <td>0.312672</td>\n",
       "      <td>0.302382</td>\n",
       "      <td>0.297086</td>\n",
       "      <td>0.301934</td>\n",
       "      <td>0.293363</td>\n",
       "      <td>NaN</td>\n",
       "    </tr>\n",
       "    <tr>\n",
       "      <th>240</th>\n",
       "      <td>South Asia (IDA &amp; IBRD)</td>\n",
       "      <td>TSA</td>\n",
       "      <td>Carbon intensity of GDP (kg CO2e per 2021 PPP ...</td>\n",
       "      <td>EN.GHG.CO2.RT.GDP.PP.KD</td>\n",
       "      <td>NaN</td>\n",
       "      <td>NaN</td>\n",
       "      <td>NaN</td>\n",
       "      <td>NaN</td>\n",
       "      <td>NaN</td>\n",
       "      <td>NaN</td>\n",
       "      <td>...</td>\n",
       "      <td>0.246398</td>\n",
       "      <td>0.232993</td>\n",
       "      <td>0.222643</td>\n",
       "      <td>0.221513</td>\n",
       "      <td>0.218564</td>\n",
       "      <td>0.207451</td>\n",
       "      <td>0.199903</td>\n",
       "      <td>0.200069</td>\n",
       "      <td>0.197745</td>\n",
       "      <td>NaN</td>\n",
       "    </tr>\n",
       "    <tr>\n",
       "      <th>241</th>\n",
       "      <td>Sub-Saharan Africa (IDA &amp; IBRD countries)</td>\n",
       "      <td>TSS</td>\n",
       "      <td>Carbon intensity of GDP (kg CO2e per 2021 PPP ...</td>\n",
       "      <td>EN.GHG.CO2.RT.GDP.PP.KD</td>\n",
       "      <td>NaN</td>\n",
       "      <td>NaN</td>\n",
       "      <td>NaN</td>\n",
       "      <td>NaN</td>\n",
       "      <td>NaN</td>\n",
       "      <td>NaN</td>\n",
       "      <td>...</td>\n",
       "      <td>0.193654</td>\n",
       "      <td>0.184047</td>\n",
       "      <td>0.184353</td>\n",
       "      <td>0.181910</td>\n",
       "      <td>0.180730</td>\n",
       "      <td>0.180045</td>\n",
       "      <td>0.167220</td>\n",
       "      <td>0.165527</td>\n",
       "      <td>0.158195</td>\n",
       "      <td>NaN</td>\n",
       "    </tr>\n",
       "    <tr>\n",
       "      <th>263</th>\n",
       "      <td>South Africa</td>\n",
       "      <td>ZAF</td>\n",
       "      <td>Carbon intensity of GDP (kg CO2e per 2021 PPP ...</td>\n",
       "      <td>EN.GHG.CO2.RT.GDP.PP.KD</td>\n",
       "      <td>NaN</td>\n",
       "      <td>NaN</td>\n",
       "      <td>NaN</td>\n",
       "      <td>NaN</td>\n",
       "      <td>NaN</td>\n",
       "      <td>NaN</td>\n",
       "      <td>...</td>\n",
       "      <td>0.593025</td>\n",
       "      <td>0.556168</td>\n",
       "      <td>0.553441</td>\n",
       "      <td>0.558542</td>\n",
       "      <td>0.554930</td>\n",
       "      <td>0.559532</td>\n",
       "      <td>0.522266</td>\n",
       "      <td>0.497738</td>\n",
       "      <td>0.472097</td>\n",
       "      <td>NaN</td>\n",
       "    </tr>\n",
       "  </tbody>\n",
       "</table>\n",
       "<p>25 rows × 68 columns</p>\n",
       "</div>"
      ],
      "text/plain": [
       "                                          Country Name Country Code  \\\n",
       "1                          Africa Eastern and Southern          AFE   \n",
       "3                           Africa Western and Central          AFW   \n",
       "11                                      American Samoa          ASM   \n",
       "34                            Central African Republic          CAF   \n",
       "36                      Central Europe and the Baltics          CEB   \n",
       "61         East Asia & Pacific (excluding high income)          EAP   \n",
       "63                                 East Asia & Pacific          EAS   \n",
       "64       Europe & Central Asia (excluding high income)          ECA   \n",
       "65                               Europe & Central Asia          ECS   \n",
       "73                                      European Union          EUU   \n",
       "128  Latin America & Caribbean (excluding high income)          LAC   \n",
       "134                          Latin America & Caribbean          LCN   \n",
       "153                         Middle East & North Africa          MEA   \n",
       "161  Middle East & North Africa (excluding high inc...          MNA   \n",
       "170                                      North America          NAC   \n",
       "204                                         South Asia          SAS   \n",
       "215         Sub-Saharan Africa (excluding high income)          SSA   \n",
       "217                                 Sub-Saharan Africa          SSF   \n",
       "230         East Asia & Pacific (IDA & IBRD countries)          TEA   \n",
       "231       Europe & Central Asia (IDA & IBRD countries)          TEC   \n",
       "236  Latin America & the Caribbean (IDA & IBRD coun...          TLA   \n",
       "238  Middle East & North Africa (IDA & IBRD countries)          TMN   \n",
       "240                            South Asia (IDA & IBRD)          TSA   \n",
       "241          Sub-Saharan Africa (IDA & IBRD countries)          TSS   \n",
       "263                                       South Africa          ZAF   \n",
       "\n",
       "                                        Indicator Name  \\\n",
       "1    Carbon intensity of GDP (kg CO2e per 2021 PPP ...   \n",
       "3    Carbon intensity of GDP (kg CO2e per 2021 PPP ...   \n",
       "11   Carbon intensity of GDP (kg CO2e per 2021 PPP ...   \n",
       "34   Carbon intensity of GDP (kg CO2e per 2021 PPP ...   \n",
       "36   Carbon intensity of GDP (kg CO2e per 2021 PPP ...   \n",
       "61   Carbon intensity of GDP (kg CO2e per 2021 PPP ...   \n",
       "63   Carbon intensity of GDP (kg CO2e per 2021 PPP ...   \n",
       "64   Carbon intensity of GDP (kg CO2e per 2021 PPP ...   \n",
       "65   Carbon intensity of GDP (kg CO2e per 2021 PPP ...   \n",
       "73   Carbon intensity of GDP (kg CO2e per 2021 PPP ...   \n",
       "128  Carbon intensity of GDP (kg CO2e per 2021 PPP ...   \n",
       "134  Carbon intensity of GDP (kg CO2e per 2021 PPP ...   \n",
       "153  Carbon intensity of GDP (kg CO2e per 2021 PPP ...   \n",
       "161  Carbon intensity of GDP (kg CO2e per 2021 PPP ...   \n",
       "170  Carbon intensity of GDP (kg CO2e per 2021 PPP ...   \n",
       "204  Carbon intensity of GDP (kg CO2e per 2021 PPP ...   \n",
       "215  Carbon intensity of GDP (kg CO2e per 2021 PPP ...   \n",
       "217  Carbon intensity of GDP (kg CO2e per 2021 PPP ...   \n",
       "230  Carbon intensity of GDP (kg CO2e per 2021 PPP ...   \n",
       "231  Carbon intensity of GDP (kg CO2e per 2021 PPP ...   \n",
       "236  Carbon intensity of GDP (kg CO2e per 2021 PPP ...   \n",
       "238  Carbon intensity of GDP (kg CO2e per 2021 PPP ...   \n",
       "240  Carbon intensity of GDP (kg CO2e per 2021 PPP ...   \n",
       "241  Carbon intensity of GDP (kg CO2e per 2021 PPP ...   \n",
       "263  Carbon intensity of GDP (kg CO2e per 2021 PPP ...   \n",
       "\n",
       "              Indicator Code  1960  1961  1962  1963  1964  1965  ...  \\\n",
       "1    EN.GHG.CO2.RT.GDP.PP.KD   NaN   NaN   NaN   NaN   NaN   NaN  ...   \n",
       "3    EN.GHG.CO2.RT.GDP.PP.KD   NaN   NaN   NaN   NaN   NaN   NaN  ...   \n",
       "11   EN.GHG.CO2.RT.GDP.PP.KD   NaN   NaN   NaN   NaN   NaN   NaN  ...   \n",
       "34   EN.GHG.CO2.RT.GDP.PP.KD   NaN   NaN   NaN   NaN   NaN   NaN  ...   \n",
       "36   EN.GHG.CO2.RT.GDP.PP.KD   NaN   NaN   NaN   NaN   NaN   NaN  ...   \n",
       "61   EN.GHG.CO2.RT.GDP.PP.KD   NaN   NaN   NaN   NaN   NaN   NaN  ...   \n",
       "63   EN.GHG.CO2.RT.GDP.PP.KD   NaN   NaN   NaN   NaN   NaN   NaN  ...   \n",
       "64   EN.GHG.CO2.RT.GDP.PP.KD   NaN   NaN   NaN   NaN   NaN   NaN  ...   \n",
       "65   EN.GHG.CO2.RT.GDP.PP.KD   NaN   NaN   NaN   NaN   NaN   NaN  ...   \n",
       "73   EN.GHG.CO2.RT.GDP.PP.KD   NaN   NaN   NaN   NaN   NaN   NaN  ...   \n",
       "128  EN.GHG.CO2.RT.GDP.PP.KD   NaN   NaN   NaN   NaN   NaN   NaN  ...   \n",
       "134  EN.GHG.CO2.RT.GDP.PP.KD   NaN   NaN   NaN   NaN   NaN   NaN  ...   \n",
       "153  EN.GHG.CO2.RT.GDP.PP.KD   NaN   NaN   NaN   NaN   NaN   NaN  ...   \n",
       "161  EN.GHG.CO2.RT.GDP.PP.KD   NaN   NaN   NaN   NaN   NaN   NaN  ...   \n",
       "170  EN.GHG.CO2.RT.GDP.PP.KD   NaN   NaN   NaN   NaN   NaN   NaN  ...   \n",
       "204  EN.GHG.CO2.RT.GDP.PP.KD   NaN   NaN   NaN   NaN   NaN   NaN  ...   \n",
       "215  EN.GHG.CO2.RT.GDP.PP.KD   NaN   NaN   NaN   NaN   NaN   NaN  ...   \n",
       "217  EN.GHG.CO2.RT.GDP.PP.KD   NaN   NaN   NaN   NaN   NaN   NaN  ...   \n",
       "230  EN.GHG.CO2.RT.GDP.PP.KD   NaN   NaN   NaN   NaN   NaN   NaN  ...   \n",
       "231  EN.GHG.CO2.RT.GDP.PP.KD   NaN   NaN   NaN   NaN   NaN   NaN  ...   \n",
       "236  EN.GHG.CO2.RT.GDP.PP.KD   NaN   NaN   NaN   NaN   NaN   NaN  ...   \n",
       "238  EN.GHG.CO2.RT.GDP.PP.KD   NaN   NaN   NaN   NaN   NaN   NaN  ...   \n",
       "240  EN.GHG.CO2.RT.GDP.PP.KD   NaN   NaN   NaN   NaN   NaN   NaN  ...   \n",
       "241  EN.GHG.CO2.RT.GDP.PP.KD   NaN   NaN   NaN   NaN   NaN   NaN  ...   \n",
       "263  EN.GHG.CO2.RT.GDP.PP.KD   NaN   NaN   NaN   NaN   NaN   NaN  ...   \n",
       "\n",
       "         2014      2015      2016      2017      2018      2019      2020  \\\n",
       "1    0.267760  0.252774  0.248533  0.245539  0.241637  0.239519  0.218904   \n",
       "3    0.104012  0.100540  0.104685  0.102660  0.104986  0.106821  0.104690   \n",
       "11        NaN       NaN       NaN       NaN       NaN       NaN       NaN   \n",
       "34   0.034997  0.048028  0.047864  0.047190  0.047670  0.048868  0.049150   \n",
       "36   0.214625  0.209404  0.206844  0.204884  0.194127  0.177069  0.171182   \n",
       "61   0.478857  0.446379  0.421172  0.405025  0.400630  0.390044  0.391718   \n",
       "63   0.410424  0.387468  0.370149  0.358258  0.354558  0.346672  0.348164   \n",
       "64   0.271144  0.250897  0.255081  0.251302  0.247775  0.235393  0.236165   \n",
       "65   0.184823  0.181540  0.178506  0.175521  0.172103  0.165567  0.163128   \n",
       "73   0.145753  0.145211  0.142720  0.139832  0.133870  0.125119  0.120290   \n",
       "128  0.150952  0.149911  0.148326  0.145079  0.138879  0.138209  0.134904   \n",
       "134  0.151419  0.150752  0.149201  0.146167  0.140443  0.140444  0.137273   \n",
       "153  0.341145  0.337255  0.326631  0.327070  0.319202  0.313462  0.313608   \n",
       "161  0.323723  0.317483  0.305806  0.311579  0.312672  0.302382  0.297086   \n",
       "170  0.264230  0.252150  0.243218  0.234795  0.235046  0.222943  0.205983   \n",
       "204  0.246398  0.232993  0.222643  0.221513  0.218564  0.207451  0.199903   \n",
       "215  0.193541  0.183930  0.184233  0.181794  0.180645  0.179961  0.167108   \n",
       "217  0.193654  0.184047  0.184353  0.181910  0.180730  0.180045  0.167220   \n",
       "230  0.478899  0.446414  0.421204  0.405057  0.400662  0.390075  0.391749   \n",
       "231  0.286952  0.281287  0.279164  0.276354  0.274457  0.268723  0.264727   \n",
       "236  0.152676  0.151956  0.150419  0.147205  0.141081  0.141188  0.137921   \n",
       "238  0.323723  0.317483  0.305806  0.311579  0.312672  0.302382  0.297086   \n",
       "240  0.246398  0.232993  0.222643  0.221513  0.218564  0.207451  0.199903   \n",
       "241  0.193654  0.184047  0.184353  0.181910  0.180730  0.180045  0.167220   \n",
       "263  0.593025  0.556168  0.553441  0.558542  0.554930  0.559532  0.522266   \n",
       "\n",
       "         2021      2022  2023  \n",
       "1    0.213645  0.203193   NaN  \n",
       "3    0.107010  0.103558   NaN  \n",
       "11        NaN       NaN   NaN  \n",
       "34   0.050908  0.047618   NaN  \n",
       "36   0.174318  0.164749   NaN  \n",
       "61   0.384959  0.372799   NaN  \n",
       "63   0.343052  0.333465   NaN  \n",
       "64   0.229371  0.225697   NaN  \n",
       "65   0.163832  0.158530   NaN  \n",
       "73   0.121653  0.116623   NaN  \n",
       "128  0.137896  0.135144   NaN  \n",
       "134  0.140063  0.136541   NaN  \n",
       "153  0.315915  0.305379   NaN  \n",
       "161  0.301934  0.293363   NaN  \n",
       "170  0.207172  0.206922   NaN  \n",
       "204  0.200069  0.197745   NaN  \n",
       "215  0.165411  0.158089   NaN  \n",
       "217  0.165527  0.158195   NaN  \n",
       "230  0.384990  0.372829   NaN  \n",
       "231  0.265730  0.262031   NaN  \n",
       "236  0.140705  0.137145   NaN  \n",
       "238  0.301934  0.293363   NaN  \n",
       "240  0.200069  0.197745   NaN  \n",
       "241  0.165527  0.158195   NaN  \n",
       "263  0.497738  0.472097   NaN  \n",
       "\n",
       "[25 rows x 68 columns]"
      ]
     },
     "execution_count": 282,
     "metadata": {},
     "output_type": "execute_result"
    }
   ],
   "source": [
    "#Filter region_emissions for rows where 'Country Name' contains any of the region names\n",
    "region_emissions_filtered = region_emissions[\n",
    "    region_emissions['Country Name'].str.contains('|'.join(region_names), case=False, na=False)\n",
    "]\n",
    "region_emissions_filtered"
   ]
  },
  {
   "cell_type": "markdown",
   "id": "642aa613-cc45-48ba-a63e-f2fe2903fe9b",
   "metadata": {},
   "source": [
    "I only want the regions with the phrase 'IDA and IBRD countries', as it is likely that this overlaps with the recipients that OECD tracks."
   ]
  },
  {
   "cell_type": "code",
   "execution_count": null,
   "id": "c6d8d56a-7b49-4d97-8e04-696123c9223b",
   "metadata": {},
   "outputs": [
    {
     "data": {
      "text/html": [
       "<div>\n",
       "<style scoped>\n",
       "    .dataframe tbody tr th:only-of-type {\n",
       "        vertical-align: middle;\n",
       "    }\n",
       "\n",
       "    .dataframe tbody tr th {\n",
       "        vertical-align: top;\n",
       "    }\n",
       "\n",
       "    .dataframe thead th {\n",
       "        text-align: right;\n",
       "    }\n",
       "</style>\n",
       "<table border=\"1\" class=\"dataframe\">\n",
       "  <thead>\n",
       "    <tr style=\"text-align: right;\">\n",
       "      <th></th>\n",
       "      <th>Country Name</th>\n",
       "      <th>Country Code</th>\n",
       "      <th>Indicator Name</th>\n",
       "      <th>Indicator Code</th>\n",
       "      <th>1960</th>\n",
       "      <th>1961</th>\n",
       "      <th>1962</th>\n",
       "      <th>1963</th>\n",
       "      <th>1964</th>\n",
       "      <th>1965</th>\n",
       "      <th>...</th>\n",
       "      <th>2014</th>\n",
       "      <th>2015</th>\n",
       "      <th>2016</th>\n",
       "      <th>2017</th>\n",
       "      <th>2018</th>\n",
       "      <th>2019</th>\n",
       "      <th>2020</th>\n",
       "      <th>2021</th>\n",
       "      <th>2022</th>\n",
       "      <th>2023</th>\n",
       "    </tr>\n",
       "  </thead>\n",
       "  <tbody>\n",
       "    <tr>\n",
       "      <th>230</th>\n",
       "      <td>East Asia &amp; Pacific (IDA &amp; IBRD countries)</td>\n",
       "      <td>TEA</td>\n",
       "      <td>Carbon intensity of GDP (kg CO2e per 2021 PPP ...</td>\n",
       "      <td>EN.GHG.CO2.RT.GDP.PP.KD</td>\n",
       "      <td>NaN</td>\n",
       "      <td>NaN</td>\n",
       "      <td>NaN</td>\n",
       "      <td>NaN</td>\n",
       "      <td>NaN</td>\n",
       "      <td>NaN</td>\n",
       "      <td>...</td>\n",
       "      <td>0.478899</td>\n",
       "      <td>0.446414</td>\n",
       "      <td>0.421204</td>\n",
       "      <td>0.405057</td>\n",
       "      <td>0.400662</td>\n",
       "      <td>0.390075</td>\n",
       "      <td>0.391749</td>\n",
       "      <td>0.384990</td>\n",
       "      <td>0.372829</td>\n",
       "      <td>NaN</td>\n",
       "    </tr>\n",
       "    <tr>\n",
       "      <th>231</th>\n",
       "      <td>Europe &amp; Central Asia (IDA &amp; IBRD countries)</td>\n",
       "      <td>TEC</td>\n",
       "      <td>Carbon intensity of GDP (kg CO2e per 2021 PPP ...</td>\n",
       "      <td>EN.GHG.CO2.RT.GDP.PP.KD</td>\n",
       "      <td>NaN</td>\n",
       "      <td>NaN</td>\n",
       "      <td>NaN</td>\n",
       "      <td>NaN</td>\n",
       "      <td>NaN</td>\n",
       "      <td>NaN</td>\n",
       "      <td>...</td>\n",
       "      <td>0.286952</td>\n",
       "      <td>0.281287</td>\n",
       "      <td>0.279164</td>\n",
       "      <td>0.276354</td>\n",
       "      <td>0.274457</td>\n",
       "      <td>0.268723</td>\n",
       "      <td>0.264727</td>\n",
       "      <td>0.265730</td>\n",
       "      <td>0.262031</td>\n",
       "      <td>NaN</td>\n",
       "    </tr>\n",
       "    <tr>\n",
       "      <th>236</th>\n",
       "      <td>Latin America &amp; the Caribbean (IDA &amp; IBRD coun...</td>\n",
       "      <td>TLA</td>\n",
       "      <td>Carbon intensity of GDP (kg CO2e per 2021 PPP ...</td>\n",
       "      <td>EN.GHG.CO2.RT.GDP.PP.KD</td>\n",
       "      <td>NaN</td>\n",
       "      <td>NaN</td>\n",
       "      <td>NaN</td>\n",
       "      <td>NaN</td>\n",
       "      <td>NaN</td>\n",
       "      <td>NaN</td>\n",
       "      <td>...</td>\n",
       "      <td>0.152676</td>\n",
       "      <td>0.151956</td>\n",
       "      <td>0.150419</td>\n",
       "      <td>0.147205</td>\n",
       "      <td>0.141081</td>\n",
       "      <td>0.141188</td>\n",
       "      <td>0.137921</td>\n",
       "      <td>0.140705</td>\n",
       "      <td>0.137145</td>\n",
       "      <td>NaN</td>\n",
       "    </tr>\n",
       "    <tr>\n",
       "      <th>238</th>\n",
       "      <td>Middle East &amp; North Africa (IDA &amp; IBRD countries)</td>\n",
       "      <td>TMN</td>\n",
       "      <td>Carbon intensity of GDP (kg CO2e per 2021 PPP ...</td>\n",
       "      <td>EN.GHG.CO2.RT.GDP.PP.KD</td>\n",
       "      <td>NaN</td>\n",
       "      <td>NaN</td>\n",
       "      <td>NaN</td>\n",
       "      <td>NaN</td>\n",
       "      <td>NaN</td>\n",
       "      <td>NaN</td>\n",
       "      <td>...</td>\n",
       "      <td>0.323723</td>\n",
       "      <td>0.317483</td>\n",
       "      <td>0.305806</td>\n",
       "      <td>0.311579</td>\n",
       "      <td>0.312672</td>\n",
       "      <td>0.302382</td>\n",
       "      <td>0.297086</td>\n",
       "      <td>0.301934</td>\n",
       "      <td>0.293363</td>\n",
       "      <td>NaN</td>\n",
       "    </tr>\n",
       "    <tr>\n",
       "      <th>241</th>\n",
       "      <td>Sub-Saharan Africa (IDA &amp; IBRD countries)</td>\n",
       "      <td>TSS</td>\n",
       "      <td>Carbon intensity of GDP (kg CO2e per 2021 PPP ...</td>\n",
       "      <td>EN.GHG.CO2.RT.GDP.PP.KD</td>\n",
       "      <td>NaN</td>\n",
       "      <td>NaN</td>\n",
       "      <td>NaN</td>\n",
       "      <td>NaN</td>\n",
       "      <td>NaN</td>\n",
       "      <td>NaN</td>\n",
       "      <td>...</td>\n",
       "      <td>0.193654</td>\n",
       "      <td>0.184047</td>\n",
       "      <td>0.184353</td>\n",
       "      <td>0.181910</td>\n",
       "      <td>0.180730</td>\n",
       "      <td>0.180045</td>\n",
       "      <td>0.167220</td>\n",
       "      <td>0.165527</td>\n",
       "      <td>0.158195</td>\n",
       "      <td>NaN</td>\n",
       "    </tr>\n",
       "  </tbody>\n",
       "</table>\n",
       "<p>5 rows × 68 columns</p>\n",
       "</div>"
      ],
      "text/plain": [
       "                                          Country Name Country Code  \\\n",
       "230         East Asia & Pacific (IDA & IBRD countries)          TEA   \n",
       "231       Europe & Central Asia (IDA & IBRD countries)          TEC   \n",
       "236  Latin America & the Caribbean (IDA & IBRD coun...          TLA   \n",
       "238  Middle East & North Africa (IDA & IBRD countries)          TMN   \n",
       "241          Sub-Saharan Africa (IDA & IBRD countries)          TSS   \n",
       "\n",
       "                                        Indicator Name  \\\n",
       "230  Carbon intensity of GDP (kg CO2e per 2021 PPP ...   \n",
       "231  Carbon intensity of GDP (kg CO2e per 2021 PPP ...   \n",
       "236  Carbon intensity of GDP (kg CO2e per 2021 PPP ...   \n",
       "238  Carbon intensity of GDP (kg CO2e per 2021 PPP ...   \n",
       "241  Carbon intensity of GDP (kg CO2e per 2021 PPP ...   \n",
       "\n",
       "              Indicator Code  1960  1961  1962  1963  1964  1965  ...  \\\n",
       "230  EN.GHG.CO2.RT.GDP.PP.KD   NaN   NaN   NaN   NaN   NaN   NaN  ...   \n",
       "231  EN.GHG.CO2.RT.GDP.PP.KD   NaN   NaN   NaN   NaN   NaN   NaN  ...   \n",
       "236  EN.GHG.CO2.RT.GDP.PP.KD   NaN   NaN   NaN   NaN   NaN   NaN  ...   \n",
       "238  EN.GHG.CO2.RT.GDP.PP.KD   NaN   NaN   NaN   NaN   NaN   NaN  ...   \n",
       "241  EN.GHG.CO2.RT.GDP.PP.KD   NaN   NaN   NaN   NaN   NaN   NaN  ...   \n",
       "\n",
       "         2014      2015      2016      2017      2018      2019      2020  \\\n",
       "230  0.478899  0.446414  0.421204  0.405057  0.400662  0.390075  0.391749   \n",
       "231  0.286952  0.281287  0.279164  0.276354  0.274457  0.268723  0.264727   \n",
       "236  0.152676  0.151956  0.150419  0.147205  0.141081  0.141188  0.137921   \n",
       "238  0.323723  0.317483  0.305806  0.311579  0.312672  0.302382  0.297086   \n",
       "241  0.193654  0.184047  0.184353  0.181910  0.180730  0.180045  0.167220   \n",
       "\n",
       "         2021      2022  2023  \n",
       "230  0.384990  0.372829   NaN  \n",
       "231  0.265730  0.262031   NaN  \n",
       "236  0.140705  0.137145   NaN  \n",
       "238  0.301934  0.293363   NaN  \n",
       "241  0.165527  0.158195   NaN  \n",
       "\n",
       "[5 rows x 68 columns]"
      ]
     },
     "execution_count": 283,
     "metadata": {},
     "output_type": "execute_result"
    }
   ],
   "source": [
    "final_emissions_data = region_emissions_filtered[\n",
    "     region_emissions_filtered['Country Name'].str.contains(r'\\(IDA & IBRD countries\\)', na=False)\n",
    "]\n",
    "final_emissions_data"
   ]
  },
  {
   "cell_type": "markdown",
   "id": "0f32a66e-ff95-4a95-aa8e-1bac3ef65b5a",
   "metadata": {},
   "source": [
    "Now, I will rename the regions to make it align with that in the region_finance dataset, assuming that the implications of the differences in grouping methodologies are negligible (in an ideal situation I would be getting a country-region matching list and sorting everything by myself but in the interest of time, sacrifices will have to be made). "
   ]
  },
  {
   "cell_type": "code",
   "execution_count": null,
   "id": "f67392dd-87c9-4b4b-b69b-95e5412a4aae",
   "metadata": {},
   "outputs": [
    {
     "data": {
      "text/html": [
       "<div>\n",
       "<style scoped>\n",
       "    .dataframe tbody tr th:only-of-type {\n",
       "        vertical-align: middle;\n",
       "    }\n",
       "\n",
       "    .dataframe tbody tr th {\n",
       "        vertical-align: top;\n",
       "    }\n",
       "\n",
       "    .dataframe thead th {\n",
       "        text-align: right;\n",
       "    }\n",
       "</style>\n",
       "<table border=\"1\" class=\"dataframe\">\n",
       "  <thead>\n",
       "    <tr style=\"text-align: right;\">\n",
       "      <th></th>\n",
       "      <th>Country Name</th>\n",
       "      <th>Country Code</th>\n",
       "      <th>Indicator Name</th>\n",
       "      <th>Indicator Code</th>\n",
       "      <th>1960</th>\n",
       "      <th>1961</th>\n",
       "      <th>1962</th>\n",
       "      <th>1963</th>\n",
       "      <th>1964</th>\n",
       "      <th>1965</th>\n",
       "      <th>...</th>\n",
       "      <th>2014</th>\n",
       "      <th>2015</th>\n",
       "      <th>2016</th>\n",
       "      <th>2017</th>\n",
       "      <th>2018</th>\n",
       "      <th>2019</th>\n",
       "      <th>2020</th>\n",
       "      <th>2021</th>\n",
       "      <th>2022</th>\n",
       "      <th>2023</th>\n",
       "    </tr>\n",
       "  </thead>\n",
       "  <tbody>\n",
       "    <tr>\n",
       "      <th>0</th>\n",
       "      <td>Africa</td>\n",
       "      <td>TMNTSS</td>\n",
       "      <td>Carbon intensity of GDP (kg CO2e per 2021 PPP ...</td>\n",
       "      <td>EN.GHG.CO2.RT.GDP.PP.KDEN.GHG.CO2.RT.GDP.PP.KD</td>\n",
       "      <td>0.0</td>\n",
       "      <td>0.0</td>\n",
       "      <td>0.0</td>\n",
       "      <td>0.0</td>\n",
       "      <td>0.0</td>\n",
       "      <td>0.0</td>\n",
       "      <td>...</td>\n",
       "      <td>0.517377</td>\n",
       "      <td>0.50153</td>\n",
       "      <td>0.490159</td>\n",
       "      <td>0.493488</td>\n",
       "      <td>0.493401</td>\n",
       "      <td>0.482427</td>\n",
       "      <td>0.464306</td>\n",
       "      <td>0.467461</td>\n",
       "      <td>0.451558</td>\n",
       "      <td>0.0</td>\n",
       "    </tr>\n",
       "  </tbody>\n",
       "</table>\n",
       "<p>1 rows × 68 columns</p>\n",
       "</div>"
      ],
      "text/plain": [
       "  Country Name Country Code  \\\n",
       "0       Africa       TMNTSS   \n",
       "\n",
       "                                      Indicator Name  \\\n",
       "0  Carbon intensity of GDP (kg CO2e per 2021 PPP ...   \n",
       "\n",
       "                                   Indicator Code  1960  1961  1962  1963  \\\n",
       "0  EN.GHG.CO2.RT.GDP.PP.KDEN.GHG.CO2.RT.GDP.PP.KD   0.0   0.0   0.0   0.0   \n",
       "\n",
       "   1964  1965  ...      2014     2015      2016      2017      2018      2019  \\\n",
       "0   0.0   0.0  ...  0.517377  0.50153  0.490159  0.493488  0.493401  0.482427   \n",
       "\n",
       "       2020      2021      2022  2023  \n",
       "0  0.464306  0.467461  0.451558   0.0  \n",
       "\n",
       "[1 rows x 68 columns]"
      ]
     },
     "execution_count": 284,
     "metadata": {},
     "output_type": "execute_result"
    }
   ],
   "source": [
    "# Filter rows for Middle East & North Africa and Sub-Saharan Africa\n",
    "africa_rows = final_emissions_data[\n",
    "    final_emissions_data['Country Name'].isin([\n",
    "        \"Middle East & North Africa (IDA & IBRD countries)\",\n",
    "        \"Sub-Saharan Africa (IDA & IBRD countries)\"\n",
    "    ])\n",
    "]\n",
    "\n",
    "# Combine the two rows into one by summing numeric columns\n",
    "combined_africa_row = africa_rows.drop(columns=['Country Name']).sum()\n",
    "\n",
    "# Add back the \"Country Name\" as \"Africa\"\n",
    "combined_africa_row['Country Name'] = \"Africa\"\n",
    "\n",
    "# Convert the combined row to a DataFrame with Country Name as first column\n",
    "combined_africa_row = pd.DataFrame([combined_africa_row])\n",
    "combined_africa_row = combined_africa_row[['Country Name'] + [col for col in combined_africa_row.columns if col != 'Country Name']]\n",
    "\n",
    "# Display the combined row\n",
    "combined_africa_row"
   ]
  },
  {
   "cell_type": "markdown",
   "id": "e00046ea-f348-4f7c-9586-c1b1ad713c02",
   "metadata": {},
   "source": [
    "Add Africa back to the final_emissions_data set and change names of other regions."
   ]
  },
  {
   "cell_type": "code",
   "execution_count": null,
   "id": "7097d083-3196-4fa7-ae1e-b17c2635bd84",
   "metadata": {},
   "outputs": [
    {
     "data": {
      "text/html": [
       "<div>\n",
       "<style scoped>\n",
       "    .dataframe tbody tr th:only-of-type {\n",
       "        vertical-align: middle;\n",
       "    }\n",
       "\n",
       "    .dataframe tbody tr th {\n",
       "        vertical-align: top;\n",
       "    }\n",
       "\n",
       "    .dataframe thead th {\n",
       "        text-align: right;\n",
       "    }\n",
       "</style>\n",
       "<table border=\"1\" class=\"dataframe\">\n",
       "  <thead>\n",
       "    <tr style=\"text-align: right;\">\n",
       "      <th></th>\n",
       "      <th>Country Name</th>\n",
       "      <th>Country Code</th>\n",
       "      <th>Indicator Name</th>\n",
       "      <th>Indicator Code</th>\n",
       "      <th>1960</th>\n",
       "      <th>1961</th>\n",
       "      <th>1962</th>\n",
       "      <th>1963</th>\n",
       "      <th>1964</th>\n",
       "      <th>1965</th>\n",
       "      <th>...</th>\n",
       "      <th>2014</th>\n",
       "      <th>2015</th>\n",
       "      <th>2016</th>\n",
       "      <th>2017</th>\n",
       "      <th>2018</th>\n",
       "      <th>2019</th>\n",
       "      <th>2020</th>\n",
       "      <th>2021</th>\n",
       "      <th>2022</th>\n",
       "      <th>2023</th>\n",
       "    </tr>\n",
       "  </thead>\n",
       "  <tbody>\n",
       "    <tr>\n",
       "      <th>0</th>\n",
       "      <td>Asia</td>\n",
       "      <td>TEA</td>\n",
       "      <td>Carbon intensity of GDP (kg CO2e per 2021 PPP ...</td>\n",
       "      <td>EN.GHG.CO2.RT.GDP.PP.KD</td>\n",
       "      <td>NaN</td>\n",
       "      <td>NaN</td>\n",
       "      <td>NaN</td>\n",
       "      <td>NaN</td>\n",
       "      <td>NaN</td>\n",
       "      <td>NaN</td>\n",
       "      <td>...</td>\n",
       "      <td>0.478899</td>\n",
       "      <td>0.446414</td>\n",
       "      <td>0.421204</td>\n",
       "      <td>0.405057</td>\n",
       "      <td>0.400662</td>\n",
       "      <td>0.390075</td>\n",
       "      <td>0.391749</td>\n",
       "      <td>0.384990</td>\n",
       "      <td>0.372829</td>\n",
       "      <td>NaN</td>\n",
       "    </tr>\n",
       "    <tr>\n",
       "      <th>1</th>\n",
       "      <td>Europe</td>\n",
       "      <td>TEC</td>\n",
       "      <td>Carbon intensity of GDP (kg CO2e per 2021 PPP ...</td>\n",
       "      <td>EN.GHG.CO2.RT.GDP.PP.KD</td>\n",
       "      <td>NaN</td>\n",
       "      <td>NaN</td>\n",
       "      <td>NaN</td>\n",
       "      <td>NaN</td>\n",
       "      <td>NaN</td>\n",
       "      <td>NaN</td>\n",
       "      <td>...</td>\n",
       "      <td>0.286952</td>\n",
       "      <td>0.281287</td>\n",
       "      <td>0.279164</td>\n",
       "      <td>0.276354</td>\n",
       "      <td>0.274457</td>\n",
       "      <td>0.268723</td>\n",
       "      <td>0.264727</td>\n",
       "      <td>0.265730</td>\n",
       "      <td>0.262031</td>\n",
       "      <td>NaN</td>\n",
       "    </tr>\n",
       "    <tr>\n",
       "      <th>2</th>\n",
       "      <td>America</td>\n",
       "      <td>TLA</td>\n",
       "      <td>Carbon intensity of GDP (kg CO2e per 2021 PPP ...</td>\n",
       "      <td>EN.GHG.CO2.RT.GDP.PP.KD</td>\n",
       "      <td>NaN</td>\n",
       "      <td>NaN</td>\n",
       "      <td>NaN</td>\n",
       "      <td>NaN</td>\n",
       "      <td>NaN</td>\n",
       "      <td>NaN</td>\n",
       "      <td>...</td>\n",
       "      <td>0.152676</td>\n",
       "      <td>0.151956</td>\n",
       "      <td>0.150419</td>\n",
       "      <td>0.147205</td>\n",
       "      <td>0.141081</td>\n",
       "      <td>0.141188</td>\n",
       "      <td>0.137921</td>\n",
       "      <td>0.140705</td>\n",
       "      <td>0.137145</td>\n",
       "      <td>NaN</td>\n",
       "    </tr>\n",
       "    <tr>\n",
       "      <th>3</th>\n",
       "      <td>Africa</td>\n",
       "      <td>TMNTSS</td>\n",
       "      <td>Carbon intensity of GDP (kg CO2e per 2021 PPP ...</td>\n",
       "      <td>EN.GHG.CO2.RT.GDP.PP.KDEN.GHG.CO2.RT.GDP.PP.KD</td>\n",
       "      <td>0.0</td>\n",
       "      <td>0.0</td>\n",
       "      <td>0.0</td>\n",
       "      <td>0.0</td>\n",
       "      <td>0.0</td>\n",
       "      <td>0.0</td>\n",
       "      <td>...</td>\n",
       "      <td>0.517377</td>\n",
       "      <td>0.501530</td>\n",
       "      <td>0.490159</td>\n",
       "      <td>0.493488</td>\n",
       "      <td>0.493401</td>\n",
       "      <td>0.482427</td>\n",
       "      <td>0.464306</td>\n",
       "      <td>0.467461</td>\n",
       "      <td>0.451558</td>\n",
       "      <td>0.0</td>\n",
       "    </tr>\n",
       "  </tbody>\n",
       "</table>\n",
       "<p>4 rows × 68 columns</p>\n",
       "</div>"
      ],
      "text/plain": [
       "  Country Name Country Code  \\\n",
       "0         Asia          TEA   \n",
       "1       Europe          TEC   \n",
       "2      America          TLA   \n",
       "3       Africa       TMNTSS   \n",
       "\n",
       "                                      Indicator Name  \\\n",
       "0  Carbon intensity of GDP (kg CO2e per 2021 PPP ...   \n",
       "1  Carbon intensity of GDP (kg CO2e per 2021 PPP ...   \n",
       "2  Carbon intensity of GDP (kg CO2e per 2021 PPP ...   \n",
       "3  Carbon intensity of GDP (kg CO2e per 2021 PPP ...   \n",
       "\n",
       "                                   Indicator Code  1960  1961  1962  1963  \\\n",
       "0                         EN.GHG.CO2.RT.GDP.PP.KD   NaN   NaN   NaN   NaN   \n",
       "1                         EN.GHG.CO2.RT.GDP.PP.KD   NaN   NaN   NaN   NaN   \n",
       "2                         EN.GHG.CO2.RT.GDP.PP.KD   NaN   NaN   NaN   NaN   \n",
       "3  EN.GHG.CO2.RT.GDP.PP.KDEN.GHG.CO2.RT.GDP.PP.KD   0.0   0.0   0.0   0.0   \n",
       "\n",
       "   1964  1965  ...      2014      2015      2016      2017      2018  \\\n",
       "0   NaN   NaN  ...  0.478899  0.446414  0.421204  0.405057  0.400662   \n",
       "1   NaN   NaN  ...  0.286952  0.281287  0.279164  0.276354  0.274457   \n",
       "2   NaN   NaN  ...  0.152676  0.151956  0.150419  0.147205  0.141081   \n",
       "3   0.0   0.0  ...  0.517377  0.501530  0.490159  0.493488  0.493401   \n",
       "\n",
       "       2019      2020      2021      2022  2023  \n",
       "0  0.390075  0.391749  0.384990  0.372829   NaN  \n",
       "1  0.268723  0.264727  0.265730  0.262031   NaN  \n",
       "2  0.141188  0.137921  0.140705  0.137145   NaN  \n",
       "3  0.482427  0.464306  0.467461  0.451558   0.0  \n",
       "\n",
       "[4 rows x 68 columns]"
      ]
     },
     "execution_count": 285,
     "metadata": {},
     "output_type": "execute_result"
    }
   ],
   "source": [
    "final_emissions_data = final_emissions_data.drop(index=[238, 241])\n",
    "\n",
    "# Append the combined Africa row\n",
    "final_emissions_data = pd.concat([final_emissions_data, combined_africa_row], ignore_index=True)\n",
    "\n",
    "# Change names of other regions\n",
    "final_emissions_data.loc[0, 'Country Name'] = \"Asia\"\n",
    "final_emissions_data.loc[1, 'Country Name'] = \"Europe\"\n",
    "final_emissions_data.loc[2, 'Country Name'] = \"America\"\n",
    "\n",
    "# Display the updated DataFrame\n",
    "final_emissions_data.head()"
   ]
  },
  {
   "cell_type": "markdown",
   "id": "119a2c8e-4352-41b8-aecf-68951011e937",
   "metadata": {},
   "source": [
    "Simplify dataset to only contain Name and carbon intensity values."
   ]
  },
  {
   "cell_type": "code",
   "execution_count": null,
   "id": "f894925d-2082-4fc4-9740-a51d3c63cc57",
   "metadata": {},
   "outputs": [
    {
     "data": {
      "text/html": [
       "<div>\n",
       "<style scoped>\n",
       "    .dataframe tbody tr th:only-of-type {\n",
       "        vertical-align: middle;\n",
       "    }\n",
       "\n",
       "    .dataframe tbody tr th {\n",
       "        vertical-align: top;\n",
       "    }\n",
       "\n",
       "    .dataframe thead th {\n",
       "        text-align: right;\n",
       "    }\n",
       "</style>\n",
       "<table border=\"1\" class=\"dataframe\">\n",
       "  <thead>\n",
       "    <tr style=\"text-align: right;\">\n",
       "      <th></th>\n",
       "      <th>Country Name</th>\n",
       "      <th>1960</th>\n",
       "      <th>1961</th>\n",
       "      <th>1962</th>\n",
       "      <th>1963</th>\n",
       "      <th>1964</th>\n",
       "      <th>1965</th>\n",
       "      <th>1966</th>\n",
       "      <th>1967</th>\n",
       "      <th>1968</th>\n",
       "      <th>...</th>\n",
       "      <th>2014</th>\n",
       "      <th>2015</th>\n",
       "      <th>2016</th>\n",
       "      <th>2017</th>\n",
       "      <th>2018</th>\n",
       "      <th>2019</th>\n",
       "      <th>2020</th>\n",
       "      <th>2021</th>\n",
       "      <th>2022</th>\n",
       "      <th>2023</th>\n",
       "    </tr>\n",
       "  </thead>\n",
       "  <tbody>\n",
       "    <tr>\n",
       "      <th>0</th>\n",
       "      <td>Asia</td>\n",
       "      <td>NaN</td>\n",
       "      <td>NaN</td>\n",
       "      <td>NaN</td>\n",
       "      <td>NaN</td>\n",
       "      <td>NaN</td>\n",
       "      <td>NaN</td>\n",
       "      <td>NaN</td>\n",
       "      <td>NaN</td>\n",
       "      <td>NaN</td>\n",
       "      <td>...</td>\n",
       "      <td>0.478899</td>\n",
       "      <td>0.446414</td>\n",
       "      <td>0.421204</td>\n",
       "      <td>0.405057</td>\n",
       "      <td>0.400662</td>\n",
       "      <td>0.390075</td>\n",
       "      <td>0.391749</td>\n",
       "      <td>0.384990</td>\n",
       "      <td>0.372829</td>\n",
       "      <td>NaN</td>\n",
       "    </tr>\n",
       "    <tr>\n",
       "      <th>1</th>\n",
       "      <td>Europe</td>\n",
       "      <td>NaN</td>\n",
       "      <td>NaN</td>\n",
       "      <td>NaN</td>\n",
       "      <td>NaN</td>\n",
       "      <td>NaN</td>\n",
       "      <td>NaN</td>\n",
       "      <td>NaN</td>\n",
       "      <td>NaN</td>\n",
       "      <td>NaN</td>\n",
       "      <td>...</td>\n",
       "      <td>0.286952</td>\n",
       "      <td>0.281287</td>\n",
       "      <td>0.279164</td>\n",
       "      <td>0.276354</td>\n",
       "      <td>0.274457</td>\n",
       "      <td>0.268723</td>\n",
       "      <td>0.264727</td>\n",
       "      <td>0.265730</td>\n",
       "      <td>0.262031</td>\n",
       "      <td>NaN</td>\n",
       "    </tr>\n",
       "    <tr>\n",
       "      <th>2</th>\n",
       "      <td>America</td>\n",
       "      <td>NaN</td>\n",
       "      <td>NaN</td>\n",
       "      <td>NaN</td>\n",
       "      <td>NaN</td>\n",
       "      <td>NaN</td>\n",
       "      <td>NaN</td>\n",
       "      <td>NaN</td>\n",
       "      <td>NaN</td>\n",
       "      <td>NaN</td>\n",
       "      <td>...</td>\n",
       "      <td>0.152676</td>\n",
       "      <td>0.151956</td>\n",
       "      <td>0.150419</td>\n",
       "      <td>0.147205</td>\n",
       "      <td>0.141081</td>\n",
       "      <td>0.141188</td>\n",
       "      <td>0.137921</td>\n",
       "      <td>0.140705</td>\n",
       "      <td>0.137145</td>\n",
       "      <td>NaN</td>\n",
       "    </tr>\n",
       "    <tr>\n",
       "      <th>3</th>\n",
       "      <td>Africa</td>\n",
       "      <td>0.0</td>\n",
       "      <td>0.0</td>\n",
       "      <td>0.0</td>\n",
       "      <td>0.0</td>\n",
       "      <td>0.0</td>\n",
       "      <td>0.0</td>\n",
       "      <td>0.0</td>\n",
       "      <td>0.0</td>\n",
       "      <td>0.0</td>\n",
       "      <td>...</td>\n",
       "      <td>0.517377</td>\n",
       "      <td>0.501530</td>\n",
       "      <td>0.490159</td>\n",
       "      <td>0.493488</td>\n",
       "      <td>0.493401</td>\n",
       "      <td>0.482427</td>\n",
       "      <td>0.464306</td>\n",
       "      <td>0.467461</td>\n",
       "      <td>0.451558</td>\n",
       "      <td>0.0</td>\n",
       "    </tr>\n",
       "  </tbody>\n",
       "</table>\n",
       "<p>4 rows × 65 columns</p>\n",
       "</div>"
      ],
      "text/plain": [
       "  Country Name  1960  1961  1962  1963  1964  1965  1966  1967  1968  ...  \\\n",
       "0         Asia   NaN   NaN   NaN   NaN   NaN   NaN   NaN   NaN   NaN  ...   \n",
       "1       Europe   NaN   NaN   NaN   NaN   NaN   NaN   NaN   NaN   NaN  ...   \n",
       "2      America   NaN   NaN   NaN   NaN   NaN   NaN   NaN   NaN   NaN  ...   \n",
       "3       Africa   0.0   0.0   0.0   0.0   0.0   0.0   0.0   0.0   0.0  ...   \n",
       "\n",
       "       2014      2015      2016      2017      2018      2019      2020  \\\n",
       "0  0.478899  0.446414  0.421204  0.405057  0.400662  0.390075  0.391749   \n",
       "1  0.286952  0.281287  0.279164  0.276354  0.274457  0.268723  0.264727   \n",
       "2  0.152676  0.151956  0.150419  0.147205  0.141081  0.141188  0.137921   \n",
       "3  0.517377  0.501530  0.490159  0.493488  0.493401  0.482427  0.464306   \n",
       "\n",
       "       2021      2022  2023  \n",
       "0  0.384990  0.372829   NaN  \n",
       "1  0.265730  0.262031   NaN  \n",
       "2  0.140705  0.137145   NaN  \n",
       "3  0.467461  0.451558   0.0  \n",
       "\n",
       "[4 rows x 65 columns]"
      ]
     },
     "execution_count": 286,
     "metadata": {},
     "output_type": "execute_result"
    }
   ],
   "source": [
    "final_emissions_data.columns = final_emissions_data.columns.str.strip()\n",
    "region_emissions = final_emissions_data.drop(columns=['Country Code', 'Indicator Name', 'Indicator Code'])\n",
    "region_emissions"
   ]
  },
  {
   "cell_type": "markdown",
   "id": "d9f315af-d872-42d3-81c3-227370a1c0fd",
   "metadata": {},
   "source": [
    "## 3. Data cleaning for region_finance dataset"
   ]
  },
  {
   "cell_type": "code",
   "execution_count": null,
   "id": "d1e478d2-4298-4cf1-bbf7-3aad0e75b0b4",
   "metadata": {},
   "outputs": [
    {
     "data": {
      "text/html": [
       "<div>\n",
       "<style scoped>\n",
       "    .dataframe tbody tr th:only-of-type {\n",
       "        vertical-align: middle;\n",
       "    }\n",
       "\n",
       "    .dataframe tbody tr th {\n",
       "        vertical-align: top;\n",
       "    }\n",
       "\n",
       "    .dataframe thead th {\n",
       "        text-align: right;\n",
       "    }\n",
       "</style>\n",
       "<table border=\"1\" class=\"dataframe\">\n",
       "  <thead>\n",
       "    <tr style=\"text-align: right;\">\n",
       "      <th></th>\n",
       "      <th>STRUCTURE</th>\n",
       "      <th>STRUCTURE_ID</th>\n",
       "      <th>STRUCTURE_NAME</th>\n",
       "      <th>ACTION</th>\n",
       "      <th>DONOR</th>\n",
       "      <th>Donor</th>\n",
       "      <th>RECIPIENT</th>\n",
       "      <th>Recipient</th>\n",
       "      <th>MEASURE</th>\n",
       "      <th>Measure</th>\n",
       "      <th>...</th>\n",
       "      <th>OBS_VALUE</th>\n",
       "      <th>Observation value</th>\n",
       "      <th>BASE_PER</th>\n",
       "      <th>Base period</th>\n",
       "      <th>UNIT_MULT</th>\n",
       "      <th>Unit multiplier</th>\n",
       "      <th>FLOW_TYPE</th>\n",
       "      <th>Flow type</th>\n",
       "      <th>OBS_STATUS</th>\n",
       "      <th>Observation status</th>\n",
       "    </tr>\n",
       "  </thead>\n",
       "  <tbody>\n",
       "    <tr>\n",
       "      <th>0</th>\n",
       "      <td>DATAFLOW</td>\n",
       "      <td>OECD.DCD.FSD:DSD_DAC2@DF_RECPTS(1.1)</td>\n",
       "      <td>Receipts by country and region</td>\n",
       "      <td>I</td>\n",
       "      <td>DAC</td>\n",
       "      <td>DAC countries</td>\n",
       "      <td>F</td>\n",
       "      <td>Africa</td>\n",
       "      <td>510</td>\n",
       "      <td>Total receipts</td>\n",
       "      <td>...</td>\n",
       "      <td>27756.812028</td>\n",
       "      <td>NaN</td>\n",
       "      <td>NaN</td>\n",
       "      <td>NaN</td>\n",
       "      <td>6</td>\n",
       "      <td>Millions</td>\n",
       "      <td>_Z</td>\n",
       "      <td>Not applicable</td>\n",
       "      <td>A</td>\n",
       "      <td>Normal value</td>\n",
       "    </tr>\n",
       "    <tr>\n",
       "      <th>1</th>\n",
       "      <td>DATAFLOW</td>\n",
       "      <td>OECD.DCD.FSD:DSD_DAC2@DF_RECPTS(1.1)</td>\n",
       "      <td>Receipts by country and region</td>\n",
       "      <td>I</td>\n",
       "      <td>DAC</td>\n",
       "      <td>DAC countries</td>\n",
       "      <td>F</td>\n",
       "      <td>Africa</td>\n",
       "      <td>510</td>\n",
       "      <td>Total receipts</td>\n",
       "      <td>...</td>\n",
       "      <td>55531.748681</td>\n",
       "      <td>NaN</td>\n",
       "      <td>NaN</td>\n",
       "      <td>NaN</td>\n",
       "      <td>6</td>\n",
       "      <td>Millions</td>\n",
       "      <td>_Z</td>\n",
       "      <td>Not applicable</td>\n",
       "      <td>A</td>\n",
       "      <td>Normal value</td>\n",
       "    </tr>\n",
       "    <tr>\n",
       "      <th>2</th>\n",
       "      <td>DATAFLOW</td>\n",
       "      <td>OECD.DCD.FSD:DSD_DAC2@DF_RECPTS(1.1)</td>\n",
       "      <td>Receipts by country and region</td>\n",
       "      <td>I</td>\n",
       "      <td>DAC</td>\n",
       "      <td>DAC countries</td>\n",
       "      <td>F</td>\n",
       "      <td>Africa</td>\n",
       "      <td>510</td>\n",
       "      <td>Total receipts</td>\n",
       "      <td>...</td>\n",
       "      <td>47592.312380</td>\n",
       "      <td>NaN</td>\n",
       "      <td>NaN</td>\n",
       "      <td>NaN</td>\n",
       "      <td>6</td>\n",
       "      <td>Millions</td>\n",
       "      <td>_Z</td>\n",
       "      <td>Not applicable</td>\n",
       "      <td>A</td>\n",
       "      <td>Normal value</td>\n",
       "    </tr>\n",
       "    <tr>\n",
       "      <th>3</th>\n",
       "      <td>DATAFLOW</td>\n",
       "      <td>OECD.DCD.FSD:DSD_DAC2@DF_RECPTS(1.1)</td>\n",
       "      <td>Receipts by country and region</td>\n",
       "      <td>I</td>\n",
       "      <td>DAC</td>\n",
       "      <td>DAC countries</td>\n",
       "      <td>F</td>\n",
       "      <td>Africa</td>\n",
       "      <td>510</td>\n",
       "      <td>Total receipts</td>\n",
       "      <td>...</td>\n",
       "      <td>10748.760000</td>\n",
       "      <td>NaN</td>\n",
       "      <td>NaN</td>\n",
       "      <td>NaN</td>\n",
       "      <td>6</td>\n",
       "      <td>Millions</td>\n",
       "      <td>_Z</td>\n",
       "      <td>Not applicable</td>\n",
       "      <td>A</td>\n",
       "      <td>Normal value</td>\n",
       "    </tr>\n",
       "    <tr>\n",
       "      <th>4</th>\n",
       "      <td>DATAFLOW</td>\n",
       "      <td>OECD.DCD.FSD:DSD_DAC2@DF_RECPTS(1.1)</td>\n",
       "      <td>Receipts by country and region</td>\n",
       "      <td>I</td>\n",
       "      <td>DAC</td>\n",
       "      <td>DAC countries</td>\n",
       "      <td>F</td>\n",
       "      <td>Africa</td>\n",
       "      <td>510</td>\n",
       "      <td>Total receipts</td>\n",
       "      <td>...</td>\n",
       "      <td>9881.810000</td>\n",
       "      <td>NaN</td>\n",
       "      <td>NaN</td>\n",
       "      <td>NaN</td>\n",
       "      <td>6</td>\n",
       "      <td>Millions</td>\n",
       "      <td>_Z</td>\n",
       "      <td>Not applicable</td>\n",
       "      <td>A</td>\n",
       "      <td>Normal value</td>\n",
       "    </tr>\n",
       "  </tbody>\n",
       "</table>\n",
       "<p>5 rows × 26 columns</p>\n",
       "</div>"
      ],
      "text/plain": [
       "  STRUCTURE                          STRUCTURE_ID  \\\n",
       "0  DATAFLOW  OECD.DCD.FSD:DSD_DAC2@DF_RECPTS(1.1)   \n",
       "1  DATAFLOW  OECD.DCD.FSD:DSD_DAC2@DF_RECPTS(1.1)   \n",
       "2  DATAFLOW  OECD.DCD.FSD:DSD_DAC2@DF_RECPTS(1.1)   \n",
       "3  DATAFLOW  OECD.DCD.FSD:DSD_DAC2@DF_RECPTS(1.1)   \n",
       "4  DATAFLOW  OECD.DCD.FSD:DSD_DAC2@DF_RECPTS(1.1)   \n",
       "\n",
       "                   STRUCTURE_NAME ACTION DONOR          Donor RECIPIENT  \\\n",
       "0  Receipts by country and region      I   DAC  DAC countries         F   \n",
       "1  Receipts by country and region      I   DAC  DAC countries         F   \n",
       "2  Receipts by country and region      I   DAC  DAC countries         F   \n",
       "3  Receipts by country and region      I   DAC  DAC countries         F   \n",
       "4  Receipts by country and region      I   DAC  DAC countries         F   \n",
       "\n",
       "  Recipient  MEASURE         Measure  ...     OBS_VALUE Observation value  \\\n",
       "0    Africa      510  Total receipts  ...  27756.812028               NaN   \n",
       "1    Africa      510  Total receipts  ...  55531.748681               NaN   \n",
       "2    Africa      510  Total receipts  ...  47592.312380               NaN   \n",
       "3    Africa      510  Total receipts  ...  10748.760000               NaN   \n",
       "4    Africa      510  Total receipts  ...   9881.810000               NaN   \n",
       "\n",
       "  BASE_PER Base period  UNIT_MULT  Unit multiplier  FLOW_TYPE       Flow type  \\\n",
       "0      NaN         NaN          6         Millions         _Z  Not applicable   \n",
       "1      NaN         NaN          6         Millions         _Z  Not applicable   \n",
       "2      NaN         NaN          6         Millions         _Z  Not applicable   \n",
       "3      NaN         NaN          6         Millions         _Z  Not applicable   \n",
       "4      NaN         NaN          6         Millions         _Z  Not applicable   \n",
       "\n",
       "   OBS_STATUS  Observation status  \n",
       "0           A        Normal value  \n",
       "1           A        Normal value  \n",
       "2           A        Normal value  \n",
       "3           A        Normal value  \n",
       "4           A        Normal value  \n",
       "\n",
       "[5 rows x 26 columns]"
      ]
     },
     "execution_count": 287,
     "metadata": {},
     "output_type": "execute_result"
    }
   ],
   "source": [
    "region_finance.head()"
   ]
  },
  {
   "cell_type": "code",
   "execution_count": null,
   "id": "25e07ad1-d29a-47c0-b11c-be101d145689",
   "metadata": {},
   "outputs": [
    {
     "data": {
      "text/html": [
       "<div>\n",
       "<style scoped>\n",
       "    .dataframe tbody tr th:only-of-type {\n",
       "        vertical-align: middle;\n",
       "    }\n",
       "\n",
       "    .dataframe tbody tr th {\n",
       "        vertical-align: top;\n",
       "    }\n",
       "\n",
       "    .dataframe thead th {\n",
       "        text-align: right;\n",
       "    }\n",
       "</style>\n",
       "<table border=\"1\" class=\"dataframe\">\n",
       "  <thead>\n",
       "    <tr style=\"text-align: right;\">\n",
       "      <th></th>\n",
       "      <th>Recipient</th>\n",
       "      <th>TIME_PERIOD</th>\n",
       "      <th>OBS_VALUE</th>\n",
       "    </tr>\n",
       "  </thead>\n",
       "  <tbody>\n",
       "    <tr>\n",
       "      <th>0</th>\n",
       "      <td>Africa</td>\n",
       "      <td>2020</td>\n",
       "      <td>27756.812028</td>\n",
       "    </tr>\n",
       "    <tr>\n",
       "      <th>34</th>\n",
       "      <td>Africa</td>\n",
       "      <td>2015</td>\n",
       "      <td>52247.451511</td>\n",
       "    </tr>\n",
       "    <tr>\n",
       "      <th>35</th>\n",
       "      <td>Africa</td>\n",
       "      <td>2016</td>\n",
       "      <td>39557.145833</td>\n",
       "    </tr>\n",
       "    <tr>\n",
       "      <th>36</th>\n",
       "      <td>Africa</td>\n",
       "      <td>2017</td>\n",
       "      <td>70766.736176</td>\n",
       "    </tr>\n",
       "    <tr>\n",
       "      <th>37</th>\n",
       "      <td>Africa</td>\n",
       "      <td>2018</td>\n",
       "      <td>43098.131652</td>\n",
       "    </tr>\n",
       "    <tr>\n",
       "      <th>...</th>\n",
       "      <td>...</td>\n",
       "      <td>...</td>\n",
       "      <td>...</td>\n",
       "    </tr>\n",
       "    <tr>\n",
       "      <th>160</th>\n",
       "      <td>Europe</td>\n",
       "      <td>2015</td>\n",
       "      <td>5723.882839</td>\n",
       "    </tr>\n",
       "    <tr>\n",
       "      <th>159</th>\n",
       "      <td>Europe</td>\n",
       "      <td>2014</td>\n",
       "      <td>10641.178021</td>\n",
       "    </tr>\n",
       "    <tr>\n",
       "      <th>158</th>\n",
       "      <td>Europe</td>\n",
       "      <td>2013</td>\n",
       "      <td>18473.768097</td>\n",
       "    </tr>\n",
       "    <tr>\n",
       "      <th>171</th>\n",
       "      <td>Europe</td>\n",
       "      <td>1973</td>\n",
       "      <td>1331.330000</td>\n",
       "    </tr>\n",
       "    <tr>\n",
       "      <th>188</th>\n",
       "      <td>Europe</td>\n",
       "      <td>1966</td>\n",
       "      <td>387.890000</td>\n",
       "    </tr>\n",
       "  </tbody>\n",
       "</table>\n",
       "<p>252 rows × 3 columns</p>\n",
       "</div>"
      ],
      "text/plain": [
       "    Recipient  TIME_PERIOD     OBS_VALUE\n",
       "0      Africa         2020  27756.812028\n",
       "34     Africa         2015  52247.451511\n",
       "35     Africa         2016  39557.145833\n",
       "36     Africa         2017  70766.736176\n",
       "37     Africa         2018  43098.131652\n",
       "..        ...          ...           ...\n",
       "160    Europe         2015   5723.882839\n",
       "159    Europe         2014  10641.178021\n",
       "158    Europe         2013  18473.768097\n",
       "171    Europe         1973   1331.330000\n",
       "188    Europe         1966    387.890000\n",
       "\n",
       "[252 rows x 3 columns]"
      ]
     },
     "execution_count": 291,
     "metadata": {},
     "output_type": "execute_result"
    }
   ],
   "source": [
    "selected_columns = ['Recipient','TIME_PERIOD', 'OBS_VALUE']\n",
    "region_finance = region_finance[selected_columns].sort_values('Recipient')\n",
    "region_finance"
   ]
  },
  {
   "cell_type": "markdown",
   "id": "e59f5cb6-7ea0-48cc-b1ab-f9b1d8676b0f",
   "metadata": {},
   "source": [
    "## 4. Data Merging"
   ]
  },
  {
   "cell_type": "code",
   "execution_count": null,
   "id": "a6bd4970-9acb-4f83-a200-6f7b6a05208f",
   "metadata": {},
   "outputs": [
    {
     "data": {
      "text/html": [
       "<div>\n",
       "<style scoped>\n",
       "    .dataframe tbody tr th:only-of-type {\n",
       "        vertical-align: middle;\n",
       "    }\n",
       "\n",
       "    .dataframe tbody tr th {\n",
       "        vertical-align: top;\n",
       "    }\n",
       "\n",
       "    .dataframe thead th {\n",
       "        text-align: right;\n",
       "    }\n",
       "</style>\n",
       "<table border=\"1\" class=\"dataframe\">\n",
       "  <thead>\n",
       "    <tr style=\"text-align: right;\">\n",
       "      <th></th>\n",
       "      <th>Region</th>\n",
       "      <th>Year</th>\n",
       "      <th>Receipts in USD millions</th>\n",
       "      <th>Emissions (kg CO2 per GDP)</th>\n",
       "    </tr>\n",
       "  </thead>\n",
       "  <tbody>\n",
       "    <tr>\n",
       "      <th>0</th>\n",
       "      <td>Africa</td>\n",
       "      <td>2020</td>\n",
       "      <td>27756.812028</td>\n",
       "      <td>0.464306</td>\n",
       "    </tr>\n",
       "    <tr>\n",
       "      <th>1</th>\n",
       "      <td>Africa</td>\n",
       "      <td>2015</td>\n",
       "      <td>52247.451511</td>\n",
       "      <td>0.501530</td>\n",
       "    </tr>\n",
       "    <tr>\n",
       "      <th>2</th>\n",
       "      <td>Africa</td>\n",
       "      <td>2016</td>\n",
       "      <td>39557.145833</td>\n",
       "      <td>0.490159</td>\n",
       "    </tr>\n",
       "    <tr>\n",
       "      <th>3</th>\n",
       "      <td>Africa</td>\n",
       "      <td>2017</td>\n",
       "      <td>70766.736176</td>\n",
       "      <td>0.493488</td>\n",
       "    </tr>\n",
       "    <tr>\n",
       "      <th>4</th>\n",
       "      <td>Africa</td>\n",
       "      <td>2018</td>\n",
       "      <td>43098.131652</td>\n",
       "      <td>0.493401</td>\n",
       "    </tr>\n",
       "    <tr>\n",
       "      <th>...</th>\n",
       "      <td>...</td>\n",
       "      <td>...</td>\n",
       "      <td>...</td>\n",
       "      <td>...</td>\n",
       "    </tr>\n",
       "    <tr>\n",
       "      <th>247</th>\n",
       "      <td>Europe</td>\n",
       "      <td>2015</td>\n",
       "      <td>5723.882839</td>\n",
       "      <td>0.281287</td>\n",
       "    </tr>\n",
       "    <tr>\n",
       "      <th>248</th>\n",
       "      <td>Europe</td>\n",
       "      <td>2014</td>\n",
       "      <td>10641.178021</td>\n",
       "      <td>0.286952</td>\n",
       "    </tr>\n",
       "    <tr>\n",
       "      <th>249</th>\n",
       "      <td>Europe</td>\n",
       "      <td>2013</td>\n",
       "      <td>18473.768097</td>\n",
       "      <td>0.300368</td>\n",
       "    </tr>\n",
       "    <tr>\n",
       "      <th>250</th>\n",
       "      <td>Europe</td>\n",
       "      <td>1973</td>\n",
       "      <td>1331.330000</td>\n",
       "      <td>NaN</td>\n",
       "    </tr>\n",
       "    <tr>\n",
       "      <th>251</th>\n",
       "      <td>Europe</td>\n",
       "      <td>1966</td>\n",
       "      <td>387.890000</td>\n",
       "      <td>NaN</td>\n",
       "    </tr>\n",
       "  </tbody>\n",
       "</table>\n",
       "<p>252 rows × 4 columns</p>\n",
       "</div>"
      ],
      "text/plain": [
       "     Region  Year  Receipts in USD millions  Emissions (kg CO2 per GDP)\n",
       "0    Africa  2020              27756.812028                    0.464306\n",
       "1    Africa  2015              52247.451511                    0.501530\n",
       "2    Africa  2016              39557.145833                    0.490159\n",
       "3    Africa  2017              70766.736176                    0.493488\n",
       "4    Africa  2018              43098.131652                    0.493401\n",
       "..      ...   ...                       ...                         ...\n",
       "247  Europe  2015               5723.882839                    0.281287\n",
       "248  Europe  2014              10641.178021                    0.286952\n",
       "249  Europe  2013              18473.768097                    0.300368\n",
       "250  Europe  1973               1331.330000                         NaN\n",
       "251  Europe  1966                387.890000                         NaN\n",
       "\n",
       "[252 rows x 4 columns]"
      ]
     },
     "execution_count": 301,
     "metadata": {},
     "output_type": "execute_result"
    }
   ],
   "source": [
    "# Ensure all column names are strings before stripping\n",
    "region_finance.columns = region_finance.columns.map(str).str.strip()\n",
    "emissions_long.columns = emissions_long.columns.map(str).str.strip()\n",
    "\n",
    "# Rename columns for alignment\n",
    "emissions_long = emissions_long.rename(columns={\"Year\": \"TIME_PERIOD\"})\n",
    "emissions_long = emissions_long.rename(columns={\"Country Name\": \"Recipient\"})\n",
    "\n",
    "region_finance[\"TIME_PERIOD\"] = region_finance[\"TIME_PERIOD\"].astype(str)\n",
    "emissions_long[\"TIME_PERIOD\"] = emissions_long[\"TIME_PERIOD\"].astype(str)\n",
    "\n",
    "region_data = pd.merge(\n",
    "    region_finance,\n",
    "    emissions_long,\n",
    "    on=[\"Recipient\", \"TIME_PERIOD\"],\n",
    "    how=\"inner\"\n",
    ")\n",
    "\n",
    "region_data = region_data.rename(columns={\n",
    "    \"Recipient\": \"Region\",\n",
    "    \"TIME_PERIOD\": \"Year\",\n",
    "    \"OBS_VALUE\": \"Receipts in USD millions\"\n",
    "})\n",
    "\n",
    "region_data"
   ]
  },
  {
   "cell_type": "markdown",
   "id": "05fca9cc-91a3-4838-943e-3988d1eeeddd",
   "metadata": {},
   "source": [
    "# 4. Data Visualization"
   ]
  },
  {
   "cell_type": "code",
   "execution_count": null,
   "id": "cc628da2-9939-4480-9a5e-1d0218323bc1",
   "metadata": {},
   "outputs": [
    {
     "data": {
      "application/vnd.plotly.v1+json": {
       "config": {
        "plotlyServerURL": "https://plot.ly"
       },
       "data": [
        {
         "customdata": [
          [
           "2020"
          ],
          [
           "2015"
          ],
          [
           "2016"
          ],
          [
           "2017"
          ],
          [
           "2018"
          ],
          [
           "2019"
          ],
          [
           "1967"
          ],
          [
           "1968"
          ],
          [
           "1969"
          ],
          [
           "1970"
          ],
          [
           "1971"
          ],
          [
           "1972"
          ],
          [
           "1973"
          ],
          [
           "1974"
          ],
          [
           "2014"
          ],
          [
           "1975"
          ],
          [
           "1977"
          ],
          [
           "1978"
          ],
          [
           "1979"
          ],
          [
           "1980"
          ],
          [
           "1981"
          ],
          [
           "1982"
          ],
          [
           "1983"
          ],
          [
           "1960"
          ],
          [
           "1961"
          ],
          [
           "1962"
          ],
          [
           "1963"
          ],
          [
           "1964"
          ],
          [
           "1965"
          ],
          [
           "1976"
          ],
          [
           "2013"
          ],
          [
           "1966"
          ],
          [
           "2011"
          ],
          [
           "2021"
          ],
          [
           "2022"
          ],
          [
           "1984"
          ],
          [
           "1985"
          ],
          [
           "1986"
          ],
          [
           "1987"
          ],
          [
           "1988"
          ],
          [
           "1989"
          ],
          [
           "2012"
          ],
          [
           "1991"
          ],
          [
           "1992"
          ],
          [
           "1993"
          ],
          [
           "1994"
          ],
          [
           "1995"
          ],
          [
           "1990"
          ],
          [
           "1997"
          ],
          [
           "1996"
          ],
          [
           "2009"
          ],
          [
           "2008"
          ],
          [
           "2007"
          ],
          [
           "2006"
          ],
          [
           "2005"
          ],
          [
           "2010"
          ],
          [
           "2003"
          ],
          [
           "2002"
          ],
          [
           "2001"
          ],
          [
           "2000"
          ],
          [
           "1999"
          ],
          [
           "1998"
          ],
          [
           "2004"
          ]
         ],
         "hovertemplate": "Region=Africa<br>Receipts (USD Millions)=%{x}<br>CO2 Emissions per GDP=%{y}<br>Year=%{customdata[0]}<extra></extra>",
         "legendgroup": "Africa",
         "marker": {
          "color": "#636efa",
          "symbol": "circle"
         },
         "mode": "markers",
         "name": "Africa",
         "orientation": "v",
         "showlegend": true,
         "type": "scatter",
         "x": [
          27756.812028,
          52247.451511,
          39557.145833,
          70766.736176,
          43098.131652,
          31065.59546,
          1506.29,
          1966.47,
          2079.26,
          2555.72,
          2927.02,
          2644.07,
          2970.16,
          3796.64,
          74031.095059,
          7276.89,
          9494.55,
          14036.68,
          13164.67,
          14795.91,
          14434.24,
          16421.63,
          13960.56,
          1286.13,
          1531.53,
          1591.3,
          1499.47,
          1516.65,
          1401.45,
          7542.01,
          43167.541236,
          1324.23,
          43279.93,
          55531.748681,
          47592.31238,
          10748.76,
          9881.81,
          10467.5,
          9757.87,
          15475.11,
          15683.73,
          48959.205268,
          17552.64,
          13024.33,
          14878.53,
          15911.48,
          18763.04,
          14187.95,
          17952.22,
          19581.95,
          49496.05,
          53069.9,
          67185.48,
          27805.67,
          45374.85,
          56085.96,
          35088.77,
          18649.99,
          16106.1,
          12171.4,
          15682.03,
          17947.8,
          36423.51
         ],
         "xaxis": "x",
         "y": [
          0.464305505,
          0.501530413,
          0.490158903,
          0.493488258,
          0.493401405,
          0.482426884,
          0,
          0,
          0,
          0,
          0,
          0,
          0,
          0,
          0.517376815,
          0,
          0,
          0,
          0,
          0,
          0,
          0,
          0,
          0,
          0,
          0,
          0,
          0,
          0,
          0,
          0.518371904,
          0,
          0.508556973,
          0.467460647,
          0.45155804899999996,
          0,
          0,
          0,
          0,
          0,
          0,
          0.516435033,
          0.5890912850000001,
          0.6070107140000001,
          0.619688785,
          0.638232345,
          0.6482486940000001,
          0.579954092,
          0.6386703490000001,
          0.637672682,
          0.529323393,
          0.543037175,
          0.544125292,
          0.558888557,
          0.5731446769999999,
          0.518096688,
          0.579304583,
          0.572324885,
          0.587865693,
          0.583353334,
          0.589497341,
          0.604685412,
          0.57179578
         ],
         "yaxis": "y"
        },
        {
         "hovertemplate": "<b>OLS trendline</b><br>Emissions (kg CO2 per GDP) = 9.11285e-06 * Receipts in USD millions + 0.0904837<br>R<sup>2</sup>=0.410820<br><br>Region=Africa<br>Receipts (USD Millions)=%{x}<br>CO2 Emissions per GDP=%{y} <b>(trend)</b><extra></extra>",
         "legendgroup": "Africa",
         "marker": {
          "color": "#636efa",
          "symbol": "circle"
         },
         "mode": "lines",
         "name": "Africa",
         "showlegend": false,
         "type": "scatter",
         "x": [
          1286.13,
          1324.23,
          1401.45,
          1499.47,
          1506.29,
          1516.65,
          1531.53,
          1591.3,
          1966.47,
          2079.26,
          2555.72,
          2644.07,
          2927.02,
          2970.16,
          3796.64,
          7276.89,
          7542.01,
          9494.55,
          9757.87,
          9881.81,
          10467.5,
          10748.76,
          12171.4,
          13024.33,
          13164.67,
          13960.56,
          14036.68,
          14187.95,
          14434.24,
          14795.91,
          14878.53,
          15475.11,
          15682.03,
          15683.73,
          15911.48,
          16106.1,
          16421.63,
          17552.64,
          17947.8,
          17952.22,
          18649.99,
          18763.04,
          19581.95,
          27756.812028,
          27805.67,
          31065.59546,
          35088.77,
          36423.51,
          39557.145833,
          43098.131652,
          43167.541236,
          43279.93,
          45374.85,
          47592.31238,
          48959.205268,
          49496.05,
          52247.451511,
          53069.9,
          55531.748681,
          56085.96,
          67185.48,
          70766.736176,
          74031.095059
         ],
         "xaxis": "x",
         "y": [
          0.10220404542721988,
          0.10255124491179461,
          0.10325493898525553,
          0.10414818028389111,
          0.10421032990291473,
          0.1043047390016075,
          0.10444033817038628,
          0.10498501305734251,
          0.10840388000295678,
          0.1094317180571611,
          0.11377362531229178,
          0.11457874537691587,
          0.11715722553860672,
          0.11755035377389686,
          0.12508193986343302,
          0.1567969269025728,
          0.15921292499576056,
          0.17700612398818982,
          0.17940571895612212,
          0.18053516525843688,
          0.18587246883115544,
          0.1884355482808009,
          0.20139984945495842,
          0.20917247035727676,
          0.21045136735636388,
          0.2177041914450302,
          0.21839786138639056,
          0.21977636180716797,
          0.2220207649844885,
          0.22531660849068652,
          0.22606951193991395,
          0.2315060544204283,
          0.23339168479702158,
          0.23340717663754065,
          0.23548262762472952,
          0.23725616997874358,
          0.24013154670755898,
          0.25043826820490467,
          0.25403930096932864,
          0.2540795797546783,
          0.2604382512599726,
          0.2614684586544916,
          0.268931060489481,
          0.34342733037376405,
          0.3438725656151227,
          0.37357976875066234,
          0.4102423442530823,
          0.4224056261439297,
          0.4509619711849408,
          0.4832304344721652,
          0.48386295341676744,
          0.4848871350685468,
          0.5039778212686861,
          0.524185217473407,
          0.5366415037249155,
          0.5415336878258883,
          0.5666067898331677,
          0.574101637378314,
          0.5965360886419411,
          0.6015865317994814,
          0.7027347633749925,
          0.7353702042788586,
          0.7651178085214979
         ],
         "yaxis": "y"
        },
        {
         "customdata": [
          [
           "1998"
          ],
          [
           "1999"
          ],
          [
           "2000"
          ],
          [
           "2001"
          ],
          [
           "2002"
          ],
          [
           "2006"
          ],
          [
           "2004"
          ],
          [
           "2005"
          ],
          [
           "2007"
          ],
          [
           "2008"
          ],
          [
           "2009"
          ],
          [
           "2003"
          ],
          [
           "1997"
          ],
          [
           "2021"
          ],
          [
           "1995"
          ],
          [
           "1994"
          ],
          [
           "1993"
          ],
          [
           "1992"
          ],
          [
           "1991"
          ],
          [
           "1990"
          ],
          [
           "1989"
          ],
          [
           "1988"
          ],
          [
           "1987"
          ],
          [
           "1986"
          ],
          [
           "1985"
          ],
          [
           "1984"
          ],
          [
           "2022"
          ],
          [
           "2010"
          ],
          [
           "1996"
          ],
          [
           "2011"
          ],
          [
           "1973"
          ],
          [
           "2013"
          ],
          [
           "2020"
          ],
          [
           "1964"
          ],
          [
           "1963"
          ],
          [
           "1962"
          ],
          [
           "1961"
          ],
          [
           "1960"
          ],
          [
           "1983"
          ],
          [
           "1982"
          ],
          [
           "1981"
          ],
          [
           "1980"
          ],
          [
           "1979"
          ],
          [
           "1978"
          ],
          [
           "1977"
          ],
          [
           "2012"
          ],
          [
           "1976"
          ],
          [
           "1974"
          ],
          [
           "1972"
          ],
          [
           "1971"
          ],
          [
           "1970"
          ],
          [
           "1969"
          ],
          [
           "1968"
          ],
          [
           "1967"
          ],
          [
           "2019"
          ],
          [
           "2018"
          ],
          [
           "2017"
          ],
          [
           "2016"
          ],
          [
           "2015"
          ],
          [
           "2014"
          ],
          [
           "1975"
          ],
          [
           "1965"
          ],
          [
           "1966"
          ]
         ],
         "hovertemplate": "Region=America<br>Receipts (USD Millions)=%{x}<br>CO2 Emissions per GDP=%{y}<br>Year=%{customdata[0]}<extra></extra>",
         "legendgroup": "America",
         "marker": {
          "color": "#EF553B",
          "symbol": "circle"
         },
         "mode": "markers",
         "name": "America",
         "orientation": "v",
         "showlegend": true,
         "type": "scatter",
         "x": [
          68664.19,
          91954.76,
          65947.98,
          46224.36,
          3587.99,
          86237.08,
          21282.81,
          66514.08,
          121481.56,
          51434.37,
          89618.61,
          10722.34,
          71864.16,
          77305.704824,
          41169.82,
          40627.6,
          37633.69,
          24010.59,
          11982.05,
          -1104.59,
          13829.34,
          10610.34,
          12502.83,
          13203.68,
          3839.54,
          29411.91,
          73188.374747,
          165384.7,
          57773.55,
          145401.2,
          6214.72,
          104245.150136,
          -5603.228866,
          681.21,
          810.31,
          787.4,
          816.67,
          278.17,
          17536.7,
          26587.72,
          27555.5,
          19594.05,
          19590.01,
          17124.85,
          9927.66,
          133172.318549,
          8726.04,
          8406.7,
          4180.73,
          3061.31,
          3418.77,
          2867.6,
          2784.78,
          729.48,
          52915.462144,
          16689.578799,
          74636.981477,
          23186.273988,
          44281.408029,
          179400.264338,
          8467.64,
          837.4,
          814.83
         ],
         "xaxis": "x",
         "y": [
          0.165652227,
          0.164247657,
          0.164019565,
          0.163418634,
          0.162897609,
          0.1581828,
          0.1626432,
          0.161016376,
          0.156105986,
          0.154178132,
          0.152544009,
          0.163364184,
          0.162876918,
          0.14070512,
          0.15811626,
          0.15632117,
          0.156269154,
          0.157980153,
          0.158291799,
          0.157206096,
          null,
          null,
          null,
          null,
          null,
          null,
          0.137144503,
          0.153477043,
          0.161853909,
          0.15307446,
          null,
          0.153851764,
          0.137920835,
          null,
          null,
          null,
          null,
          null,
          null,
          null,
          null,
          null,
          null,
          null,
          null,
          0.155000644,
          null,
          null,
          null,
          null,
          null,
          null,
          null,
          null,
          0.141187646,
          0.141081475,
          0.14720465,
          0.150419137,
          0.151955814,
          0.152675759,
          null,
          null,
          null
         ],
         "yaxis": "y"
        },
        {
         "hovertemplate": "<b>OLS trendline</b><br>Emissions (kg CO2 per GDP) = -4.8526e-09 * Receipts in USD millions + 0.155244<br>R<sup>2</sup>=0.000814<br><br>Region=America<br>Receipts (USD Millions)=%{x}<br>CO2 Emissions per GDP=%{y} <b>(trend)</b><extra></extra>",
         "legendgroup": "America",
         "marker": {
          "color": "#EF553B",
          "symbol": "circle"
         },
         "mode": "lines",
         "name": "America",
         "showlegend": false,
         "type": "scatter",
         "x": [
          -5603.228866,
          -1104.59,
          3587.99,
          10722.34,
          11982.05,
          16689.578799,
          21282.81,
          23186.273988,
          24010.59,
          37633.69,
          40627.6,
          41169.82,
          44281.408029,
          46224.36,
          51434.37,
          52915.462144,
          57773.55,
          65947.98,
          66514.08,
          68664.19,
          71864.16,
          73188.374747,
          74636.981477,
          77305.704824,
          86237.08,
          89618.61,
          91954.76,
          104245.150136,
          121481.56,
          133172.318549,
          145401.2,
          165384.7,
          179400.264338
         ],
         "xaxis": "x",
         "y": [
          0.15527069080235664,
          0.15524886068582433,
          0.15522608944961525,
          0.15519146926859578,
          0.15518535639380943,
          0.15516251261698663,
          0.15514022348123593,
          0.1551309867227606,
          0.15512698664292815,
          0.15506087912254488,
          0.15504635086052296,
          0.155043719681151,
          0.1550286203741613,
          0.1550191919961103,
          0.1549939098766021,
          0.15498672272176225,
          0.1549631483413375,
          0.15492348106312281,
          0.15492073400354836,
          0.1549103003694525,
          0.15489477217968653,
          0.1548883462888556,
          0.15488131677289146,
          0.15486836651318117,
          0.15482502607917586,
          0.1548086168504833,
          0.15479728043779137,
          0.15473764003168455,
          0.15465399854652928,
          0.1545972679155368,
          0.15453792598676974,
          0.15444095395884813,
          0.1543729419641364
         ],
         "yaxis": "y"
        },
        {
         "customdata": [
          [
           "1966"
          ],
          [
           "2013"
          ],
          [
           "2014"
          ],
          [
           "2015"
          ],
          [
           "2016"
          ],
          [
           "2017"
          ],
          [
           "2018"
          ],
          [
           "2019"
          ],
          [
           "1967"
          ],
          [
           "1968"
          ],
          [
           "1969"
          ],
          [
           "1970"
          ],
          [
           "1971"
          ],
          [
           "1972"
          ],
          [
           "2012"
          ],
          [
           "1973"
          ],
          [
           "1975"
          ],
          [
           "1976"
          ],
          [
           "1977"
          ],
          [
           "1978"
          ],
          [
           "1979"
          ],
          [
           "1980"
          ],
          [
           "1981"
          ],
          [
           "1982"
          ],
          [
           "1983"
          ],
          [
           "1960"
          ],
          [
           "1961"
          ],
          [
           "1962"
          ],
          [
           "1963"
          ],
          [
           "1974"
          ],
          [
           "1964"
          ],
          [
           "2011"
          ],
          [
           "2009"
          ],
          [
           "2020"
          ],
          [
           "2021"
          ],
          [
           "2022"
          ],
          [
           "1984"
          ],
          [
           "1985"
          ],
          [
           "1986"
          ],
          [
           "1987"
          ],
          [
           "1988"
          ],
          [
           "1989"
          ],
          [
           "1990"
          ],
          [
           "1991"
          ],
          [
           "1992"
          ],
          [
           "1993"
          ],
          [
           "2010"
          ],
          [
           "1994"
          ],
          [
           "1996"
          ],
          [
           "1997"
          ],
          [
           "1998"
          ],
          [
           "1999"
          ],
          [
           "2000"
          ],
          [
           "2001"
          ],
          [
           "2002"
          ],
          [
           "2003"
          ],
          [
           "2004"
          ],
          [
           "2005"
          ],
          [
           "2006"
          ],
          [
           "2007"
          ],
          [
           "2008"
          ],
          [
           "1995"
          ],
          [
           "1965"
          ]
         ],
         "hovertemplate": "Region=Asia<br>Receipts (USD Millions)=%{x}<br>CO2 Emissions per GDP=%{y}<br>Year=%{customdata[0]}<extra></extra>",
         "legendgroup": "Asia",
         "marker": {
          "color": "#00cc96",
          "symbol": "circle"
         },
         "mode": "markers",
         "name": "Asia",
         "orientation": "v",
         "showlegend": true,
         "type": "scatter",
         "x": [
          2853.14,
          155942.973849,
          216358.439058,
          78309.498662,
          125916.210431,
          140365.946726,
          100412.912382,
          189305.873454,
          3311.93,
          4262.51,
          4960.63,
          4895.3,
          5371.79,
          5240.85,
          108214.3093,
          5970.62,
          11332.36,
          10509.19,
          9251.52,
          13032.69,
          14579.08,
          8014.79,
          17881.34,
          12900.85,
          14210.06,
          2144.77,
          2089.53,
          2185.54,
          2530.61,
          361.91,
          2628.65,
          143723.1,
          75518.55,
          36871.777057,
          182916.640951,
          135441.360149,
          18303.57,
          9689.44,
          12416.04,
          17233.18,
          24025.46,
          28080.85,
          29091.16,
          33510.18,
          34602.15,
          43978.51,
          157011.61,
          73492.05,
          68895.12,
          51096.95,
          49729.11,
          49122.12,
          11492.83,
          14947.84,
          14715.95,
          27869.57,
          54090.53,
          103063.8,
          88722.33,
          119188.91,
          29094.25,
          67278.88,
          2770.73
         ],
         "xaxis": "x",
         "y": [
          null,
          0.502760528,
          0.478898513,
          0.446414351,
          0.421204469,
          0.405057196,
          0.400661958,
          0.3900753,
          null,
          null,
          null,
          null,
          null,
          null,
          0.51566332,
          null,
          null,
          null,
          null,
          null,
          null,
          null,
          null,
          null,
          null,
          null,
          null,
          null,
          null,
          null,
          null,
          0.537134711,
          0.535195599,
          0.391748827,
          0.384989632,
          0.372829438,
          null,
          null,
          null,
          null,
          null,
          null,
          0.702854037,
          0.692996506,
          0.65929578,
          0.64872727,
          0.533458499,
          0.623524613,
          0.584387956,
          0.568233066,
          0.573413462,
          0.536628476,
          0.528655264,
          0.521182178,
          0.520343491,
          0.546803305,
          0.572593744,
          0.586732965,
          0.584511974,
          0.567073233,
          0.539432533,
          0.631196013,
          null
         ],
         "yaxis": "y"
        },
        {
         "hovertemplate": "<b>OLS trendline</b><br>Emissions (kg CO2 per GDP) = -8.60644e-07 * Receipts in USD millions + 0.603738<br>R<sup>2</sup>=0.284092<br><br>Region=Asia<br>Receipts (USD Millions)=%{x}<br>CO2 Emissions per GDP=%{y} <b>(trend)</b><extra></extra>",
         "legendgroup": "Asia",
         "marker": {
          "color": "#00cc96",
          "symbol": "circle"
         },
         "mode": "lines",
         "name": "Asia",
         "showlegend": false,
         "type": "scatter",
         "x": [
          11492.83,
          14715.95,
          14947.84,
          27869.57,
          29091.16,
          29094.25,
          33510.18,
          34602.15,
          36871.777057,
          43978.51,
          49122.12,
          49729.11,
          51096.95,
          54090.53,
          67278.88,
          68895.12,
          73492.05,
          75518.55,
          78309.498662,
          88722.33,
          100412.912382,
          103063.8,
          108214.3093,
          119188.91,
          125916.210431,
          135441.360149,
          140365.946726,
          143723.1,
          155942.973849,
          157011.61,
          182916.640951,
          189305.873454,
          216358.439058
         ],
         "xaxis": "x",
         "y": [
          0.5938462747557439,
          0.5910723169892559,
          0.5908727423328761,
          0.5797517374401133,
          0.5787003837617011,
          0.5786977243728175,
          0.5748971822522115,
          0.5739573852039254,
          0.572004045085718,
          0.5658876804943931,
          0.5614608652013585,
          0.560938463111247,
          0.5597612402987817,
          0.5571848346760921,
          0.5458343649729279,
          0.5444433582773942,
          0.5404870396558406,
          0.5387429452957833,
          0.5363409330477676,
          0.5273791958610743,
          0.5173177703499803,
          0.5150363007503259,
          0.5106035476185455,
          0.5011583271967586,
          0.49536851878811394,
          0.48717075915235497,
          0.4829324449778868,
          0.4800431323250215,
          0.4695261754729845,
          0.4686064605537087,
          0.4463114601200793,
          0.4408126077274924,
          0.4175299888797167
         ],
         "yaxis": "y"
        },
        {
         "customdata": [
          [
           "2020"
          ],
          [
           "1964"
          ],
          [
           "2008"
          ],
          [
           "2007"
          ],
          [
           "2006"
          ],
          [
           "2005"
          ],
          [
           "2004"
          ],
          [
           "2003"
          ],
          [
           "2002"
          ],
          [
           "2001"
          ],
          [
           "2000"
          ],
          [
           "1999"
          ],
          [
           "1998"
          ],
          [
           "1997"
          ],
          [
           "1996"
          ],
          [
           "1995"
          ],
          [
           "1994"
          ],
          [
           "1993"
          ],
          [
           "1992"
          ],
          [
           "1991"
          ],
          [
           "1990"
          ],
          [
           "1989"
          ],
          [
           "1988"
          ],
          [
           "1987"
          ],
          [
           "1986"
          ],
          [
           "1985"
          ],
          [
           "1984"
          ],
          [
           "2022"
          ],
          [
           "2021"
          ],
          [
           "2009"
          ],
          [
           "2010"
          ],
          [
           "2011"
          ],
          [
           "2012"
          ],
          [
           "1963"
          ],
          [
           "1962"
          ],
          [
           "1961"
          ],
          [
           "1960"
          ],
          [
           "1983"
          ],
          [
           "1982"
          ],
          [
           "1981"
          ],
          [
           "1980"
          ],
          [
           "1979"
          ],
          [
           "1978"
          ],
          [
           "1977"
          ],
          [
           "1976"
          ],
          [
           "1975"
          ],
          [
           "1965"
          ],
          [
           "1974"
          ],
          [
           "1972"
          ],
          [
           "1971"
          ],
          [
           "1970"
          ],
          [
           "1969"
          ],
          [
           "1968"
          ],
          [
           "1967"
          ],
          [
           "2019"
          ],
          [
           "2018"
          ],
          [
           "2017"
          ],
          [
           "2016"
          ],
          [
           "2015"
          ],
          [
           "2014"
          ],
          [
           "2013"
          ],
          [
           "1973"
          ],
          [
           "1966"
          ]
         ],
         "hovertemplate": "Region=Europe<br>Receipts (USD Millions)=%{x}<br>CO2 Emissions per GDP=%{y}<br>Year=%{customdata[0]}<extra></extra>",
         "legendgroup": "Europe",
         "marker": {
          "color": "#ab63fa",
          "symbol": "circle"
         },
         "mode": "markers",
         "name": "Europe",
         "orientation": "v",
         "showlegend": true,
         "type": "scatter",
         "x": [
          -6.127636,
          320.56,
          26376.47,
          55489.54,
          40143.18,
          31155.92,
          5314.1,
          7587.88,
          4594.11,
          3806.71,
          12514.58,
          10535.13,
          6735.42,
          10303.51,
          6555.88,
          2764.24,
          5387.94,
          10535.44,
          6842.42,
          4660.45,
          3145.2,
          3888.62,
          4705.35,
          2417.14,
          246.59,
          1234.38,
          2231.92,
          23654.322988,
          9114.689944,
          8622.33,
          12405.07,
          26367.54,
          21622.557343,
          452.45,
          463.93,
          570.23,
          385.56,
          2688.5,
          3731.79,
          5942.55,
          6464.51,
          6507.62,
          4621.58,
          3795.79,
          2663.9,
          2333.75,
          336.63,
          1973.05,
          1222.36,
          1139.99,
          915.14,
          1047.47,
          827.81,
          322.6,
          -182.008105,
          6451.003846,
          18582.353889,
          6251.927243,
          5723.882839,
          10641.178021,
          18473.768097,
          1331.33,
          387.89
         ],
         "xaxis": "x",
         "y": [
          0.264726967,
          null,
          0.336317289,
          0.350378902,
          0.372847832,
          0.388241405,
          0.412167625,
          0.445201457,
          0.453355737,
          0.474442784,
          0.493068201,
          0.521089678,
          0.537903125,
          0.536191716,
          0.575171557,
          0.589765913,
          0.591652208,
          0.589091613,
          0.601522546,
          0.583760437,
          0.565580938,
          null,
          null,
          null,
          null,
          null,
          null,
          0.262030629,
          0.265729961,
          0.330571585,
          0.332019649,
          0.329790655,
          0.315849596,
          null,
          null,
          null,
          null,
          null,
          null,
          null,
          null,
          null,
          null,
          null,
          null,
          null,
          null,
          null,
          null,
          null,
          null,
          null,
          null,
          null,
          0.268723467,
          0.274457315,
          0.27635377,
          0.279163702,
          0.281287208,
          0.286951982,
          0.300367818,
          null,
          null
         ],
         "yaxis": "y"
        },
        {
         "hovertemplate": "<b>OLS trendline</b><br>Emissions (kg CO2 per GDP) = -2.87403e-06 * Receipts in USD millions + 0.445428<br>R<sup>2</sup>=0.078821<br><br>Region=Europe<br>Receipts (USD Millions)=%{x}<br>CO2 Emissions per GDP=%{y} <b>(trend)</b><extra></extra>",
         "legendgroup": "Europe",
         "marker": {
          "color": "#ab63fa",
          "symbol": "circle"
         },
         "mode": "lines",
         "name": "Europe",
         "showlegend": false,
         "type": "scatter",
         "x": [
          -182.008105,
          -6.127636,
          2764.24,
          3145.2,
          3806.71,
          4594.11,
          4660.45,
          5314.1,
          5387.94,
          5723.882839,
          6251.927243,
          6451.003846,
          6555.88,
          6735.42,
          6842.42,
          7587.88,
          8622.33,
          9114.689944,
          10303.51,
          10535.13,
          10535.44,
          10641.178021,
          12405.07,
          12514.58,
          18473.768097,
          18582.353889,
          21622.557343,
          23654.322988,
          26367.54,
          26376.47,
          31155.92,
          40143.18,
          55489.54
         ],
         "xaxis": "x",
         "y": [
          0.4459505998144456,
          0.44544511351964333,
          0.4374829851518716,
          0.43638809349071794,
          0.4344868918349805,
          0.43222387814852425,
          0.43203321479068896,
          0.43015460303535225,
          0.429942384429043,
          0.4289768735800158,
          0.4274592564688796,
          0.42688710371647653,
          0.4265856861753476,
          0.42606968226721154,
          0.4257621607223159,
          0.42361968398532623,
          0.42064664041413663,
          0.4192315816232618,
          0.415814873396869,
          0.41514918984332955,
          0.41514829889305926,
          0.4148444043176188,
          0.40977492033246843,
          0.4094601849644169,
          0.3923332809465375,
          0.3920212017828968,
          0.3832835563345687,
          0.3774441945587157,
          0.3696463189777125,
          0.3696206538618628,
          0.3558843562193262,
          0.33005467323260934,
          0.2859487261697635
         ],
         "yaxis": "y"
        }
       ],
       "layout": {
        "height": 700,
        "legend": {
         "title": {
          "text": "Region"
         },
         "tracegroupgap": 0
        },
        "template": {
         "data": {
          "bar": [
           {
            "error_x": {
             "color": "#2a3f5f"
            },
            "error_y": {
             "color": "#2a3f5f"
            },
            "marker": {
             "line": {
              "color": "#E5ECF6",
              "width": 0.5
             },
             "pattern": {
              "fillmode": "overlay",
              "size": 10,
              "solidity": 0.2
             }
            },
            "type": "bar"
           }
          ],
          "barpolar": [
           {
            "marker": {
             "line": {
              "color": "#E5ECF6",
              "width": 0.5
             },
             "pattern": {
              "fillmode": "overlay",
              "size": 10,
              "solidity": 0.2
             }
            },
            "type": "barpolar"
           }
          ],
          "carpet": [
           {
            "aaxis": {
             "endlinecolor": "#2a3f5f",
             "gridcolor": "white",
             "linecolor": "white",
             "minorgridcolor": "white",
             "startlinecolor": "#2a3f5f"
            },
            "baxis": {
             "endlinecolor": "#2a3f5f",
             "gridcolor": "white",
             "linecolor": "white",
             "minorgridcolor": "white",
             "startlinecolor": "#2a3f5f"
            },
            "type": "carpet"
           }
          ],
          "choropleth": [
           {
            "colorbar": {
             "outlinewidth": 0,
             "ticks": ""
            },
            "type": "choropleth"
           }
          ],
          "contour": [
           {
            "colorbar": {
             "outlinewidth": 0,
             "ticks": ""
            },
            "colorscale": [
             [
              0,
              "#0d0887"
             ],
             [
              0.1111111111111111,
              "#46039f"
             ],
             [
              0.2222222222222222,
              "#7201a8"
             ],
             [
              0.3333333333333333,
              "#9c179e"
             ],
             [
              0.4444444444444444,
              "#bd3786"
             ],
             [
              0.5555555555555556,
              "#d8576b"
             ],
             [
              0.6666666666666666,
              "#ed7953"
             ],
             [
              0.7777777777777778,
              "#fb9f3a"
             ],
             [
              0.8888888888888888,
              "#fdca26"
             ],
             [
              1,
              "#f0f921"
             ]
            ],
            "type": "contour"
           }
          ],
          "contourcarpet": [
           {
            "colorbar": {
             "outlinewidth": 0,
             "ticks": ""
            },
            "type": "contourcarpet"
           }
          ],
          "heatmap": [
           {
            "colorbar": {
             "outlinewidth": 0,
             "ticks": ""
            },
            "colorscale": [
             [
              0,
              "#0d0887"
             ],
             [
              0.1111111111111111,
              "#46039f"
             ],
             [
              0.2222222222222222,
              "#7201a8"
             ],
             [
              0.3333333333333333,
              "#9c179e"
             ],
             [
              0.4444444444444444,
              "#bd3786"
             ],
             [
              0.5555555555555556,
              "#d8576b"
             ],
             [
              0.6666666666666666,
              "#ed7953"
             ],
             [
              0.7777777777777778,
              "#fb9f3a"
             ],
             [
              0.8888888888888888,
              "#fdca26"
             ],
             [
              1,
              "#f0f921"
             ]
            ],
            "type": "heatmap"
           }
          ],
          "heatmapgl": [
           {
            "colorbar": {
             "outlinewidth": 0,
             "ticks": ""
            },
            "colorscale": [
             [
              0,
              "#0d0887"
             ],
             [
              0.1111111111111111,
              "#46039f"
             ],
             [
              0.2222222222222222,
              "#7201a8"
             ],
             [
              0.3333333333333333,
              "#9c179e"
             ],
             [
              0.4444444444444444,
              "#bd3786"
             ],
             [
              0.5555555555555556,
              "#d8576b"
             ],
             [
              0.6666666666666666,
              "#ed7953"
             ],
             [
              0.7777777777777778,
              "#fb9f3a"
             ],
             [
              0.8888888888888888,
              "#fdca26"
             ],
             [
              1,
              "#f0f921"
             ]
            ],
            "type": "heatmapgl"
           }
          ],
          "histogram": [
           {
            "marker": {
             "pattern": {
              "fillmode": "overlay",
              "size": 10,
              "solidity": 0.2
             }
            },
            "type": "histogram"
           }
          ],
          "histogram2d": [
           {
            "colorbar": {
             "outlinewidth": 0,
             "ticks": ""
            },
            "colorscale": [
             [
              0,
              "#0d0887"
             ],
             [
              0.1111111111111111,
              "#46039f"
             ],
             [
              0.2222222222222222,
              "#7201a8"
             ],
             [
              0.3333333333333333,
              "#9c179e"
             ],
             [
              0.4444444444444444,
              "#bd3786"
             ],
             [
              0.5555555555555556,
              "#d8576b"
             ],
             [
              0.6666666666666666,
              "#ed7953"
             ],
             [
              0.7777777777777778,
              "#fb9f3a"
             ],
             [
              0.8888888888888888,
              "#fdca26"
             ],
             [
              1,
              "#f0f921"
             ]
            ],
            "type": "histogram2d"
           }
          ],
          "histogram2dcontour": [
           {
            "colorbar": {
             "outlinewidth": 0,
             "ticks": ""
            },
            "colorscale": [
             [
              0,
              "#0d0887"
             ],
             [
              0.1111111111111111,
              "#46039f"
             ],
             [
              0.2222222222222222,
              "#7201a8"
             ],
             [
              0.3333333333333333,
              "#9c179e"
             ],
             [
              0.4444444444444444,
              "#bd3786"
             ],
             [
              0.5555555555555556,
              "#d8576b"
             ],
             [
              0.6666666666666666,
              "#ed7953"
             ],
             [
              0.7777777777777778,
              "#fb9f3a"
             ],
             [
              0.8888888888888888,
              "#fdca26"
             ],
             [
              1,
              "#f0f921"
             ]
            ],
            "type": "histogram2dcontour"
           }
          ],
          "mesh3d": [
           {
            "colorbar": {
             "outlinewidth": 0,
             "ticks": ""
            },
            "type": "mesh3d"
           }
          ],
          "parcoords": [
           {
            "line": {
             "colorbar": {
              "outlinewidth": 0,
              "ticks": ""
             }
            },
            "type": "parcoords"
           }
          ],
          "pie": [
           {
            "automargin": true,
            "type": "pie"
           }
          ],
          "scatter": [
           {
            "fillpattern": {
             "fillmode": "overlay",
             "size": 10,
             "solidity": 0.2
            },
            "type": "scatter"
           }
          ],
          "scatter3d": [
           {
            "line": {
             "colorbar": {
              "outlinewidth": 0,
              "ticks": ""
             }
            },
            "marker": {
             "colorbar": {
              "outlinewidth": 0,
              "ticks": ""
             }
            },
            "type": "scatter3d"
           }
          ],
          "scattercarpet": [
           {
            "marker": {
             "colorbar": {
              "outlinewidth": 0,
              "ticks": ""
             }
            },
            "type": "scattercarpet"
           }
          ],
          "scattergeo": [
           {
            "marker": {
             "colorbar": {
              "outlinewidth": 0,
              "ticks": ""
             }
            },
            "type": "scattergeo"
           }
          ],
          "scattergl": [
           {
            "marker": {
             "colorbar": {
              "outlinewidth": 0,
              "ticks": ""
             }
            },
            "type": "scattergl"
           }
          ],
          "scattermapbox": [
           {
            "marker": {
             "colorbar": {
              "outlinewidth": 0,
              "ticks": ""
             }
            },
            "type": "scattermapbox"
           }
          ],
          "scatterpolar": [
           {
            "marker": {
             "colorbar": {
              "outlinewidth": 0,
              "ticks": ""
             }
            },
            "type": "scatterpolar"
           }
          ],
          "scatterpolargl": [
           {
            "marker": {
             "colorbar": {
              "outlinewidth": 0,
              "ticks": ""
             }
            },
            "type": "scatterpolargl"
           }
          ],
          "scatterternary": [
           {
            "marker": {
             "colorbar": {
              "outlinewidth": 0,
              "ticks": ""
             }
            },
            "type": "scatterternary"
           }
          ],
          "surface": [
           {
            "colorbar": {
             "outlinewidth": 0,
             "ticks": ""
            },
            "colorscale": [
             [
              0,
              "#0d0887"
             ],
             [
              0.1111111111111111,
              "#46039f"
             ],
             [
              0.2222222222222222,
              "#7201a8"
             ],
             [
              0.3333333333333333,
              "#9c179e"
             ],
             [
              0.4444444444444444,
              "#bd3786"
             ],
             [
              0.5555555555555556,
              "#d8576b"
             ],
             [
              0.6666666666666666,
              "#ed7953"
             ],
             [
              0.7777777777777778,
              "#fb9f3a"
             ],
             [
              0.8888888888888888,
              "#fdca26"
             ],
             [
              1,
              "#f0f921"
             ]
            ],
            "type": "surface"
           }
          ],
          "table": [
           {
            "cells": {
             "fill": {
              "color": "#EBF0F8"
             },
             "line": {
              "color": "white"
             }
            },
            "header": {
             "fill": {
              "color": "#C8D4E3"
             },
             "line": {
              "color": "white"
             }
            },
            "type": "table"
           }
          ]
         },
         "layout": {
          "annotationdefaults": {
           "arrowcolor": "#2a3f5f",
           "arrowhead": 0,
           "arrowwidth": 1
          },
          "autotypenumbers": "strict",
          "coloraxis": {
           "colorbar": {
            "outlinewidth": 0,
            "ticks": ""
           }
          },
          "colorscale": {
           "diverging": [
            [
             0,
             "#8e0152"
            ],
            [
             0.1,
             "#c51b7d"
            ],
            [
             0.2,
             "#de77ae"
            ],
            [
             0.3,
             "#f1b6da"
            ],
            [
             0.4,
             "#fde0ef"
            ],
            [
             0.5,
             "#f7f7f7"
            ],
            [
             0.6,
             "#e6f5d0"
            ],
            [
             0.7,
             "#b8e186"
            ],
            [
             0.8,
             "#7fbc41"
            ],
            [
             0.9,
             "#4d9221"
            ],
            [
             1,
             "#276419"
            ]
           ],
           "sequential": [
            [
             0,
             "#0d0887"
            ],
            [
             0.1111111111111111,
             "#46039f"
            ],
            [
             0.2222222222222222,
             "#7201a8"
            ],
            [
             0.3333333333333333,
             "#9c179e"
            ],
            [
             0.4444444444444444,
             "#bd3786"
            ],
            [
             0.5555555555555556,
             "#d8576b"
            ],
            [
             0.6666666666666666,
             "#ed7953"
            ],
            [
             0.7777777777777778,
             "#fb9f3a"
            ],
            [
             0.8888888888888888,
             "#fdca26"
            ],
            [
             1,
             "#f0f921"
            ]
           ],
           "sequentialminus": [
            [
             0,
             "#0d0887"
            ],
            [
             0.1111111111111111,
             "#46039f"
            ],
            [
             0.2222222222222222,
             "#7201a8"
            ],
            [
             0.3333333333333333,
             "#9c179e"
            ],
            [
             0.4444444444444444,
             "#bd3786"
            ],
            [
             0.5555555555555556,
             "#d8576b"
            ],
            [
             0.6666666666666666,
             "#ed7953"
            ],
            [
             0.7777777777777778,
             "#fb9f3a"
            ],
            [
             0.8888888888888888,
             "#fdca26"
            ],
            [
             1,
             "#f0f921"
            ]
           ]
          },
          "colorway": [
           "#636efa",
           "#EF553B",
           "#00cc96",
           "#ab63fa",
           "#FFA15A",
           "#19d3f3",
           "#FF6692",
           "#B6E880",
           "#FF97FF",
           "#FECB52"
          ],
          "font": {
           "color": "#2a3f5f"
          },
          "geo": {
           "bgcolor": "white",
           "lakecolor": "white",
           "landcolor": "#E5ECF6",
           "showlakes": true,
           "showland": true,
           "subunitcolor": "white"
          },
          "hoverlabel": {
           "align": "left"
          },
          "hovermode": "closest",
          "mapbox": {
           "style": "light"
          },
          "paper_bgcolor": "white",
          "plot_bgcolor": "#E5ECF6",
          "polar": {
           "angularaxis": {
            "gridcolor": "white",
            "linecolor": "white",
            "ticks": ""
           },
           "bgcolor": "#E5ECF6",
           "radialaxis": {
            "gridcolor": "white",
            "linecolor": "white",
            "ticks": ""
           }
          },
          "scene": {
           "xaxis": {
            "backgroundcolor": "#E5ECF6",
            "gridcolor": "white",
            "gridwidth": 2,
            "linecolor": "white",
            "showbackground": true,
            "ticks": "",
            "zerolinecolor": "white"
           },
           "yaxis": {
            "backgroundcolor": "#E5ECF6",
            "gridcolor": "white",
            "gridwidth": 2,
            "linecolor": "white",
            "showbackground": true,
            "ticks": "",
            "zerolinecolor": "white"
           },
           "zaxis": {
            "backgroundcolor": "#E5ECF6",
            "gridcolor": "white",
            "gridwidth": 2,
            "linecolor": "white",
            "showbackground": true,
            "ticks": "",
            "zerolinecolor": "white"
           }
          },
          "shapedefaults": {
           "line": {
            "color": "#2a3f5f"
           }
          },
          "ternary": {
           "aaxis": {
            "gridcolor": "white",
            "linecolor": "white",
            "ticks": ""
           },
           "baxis": {
            "gridcolor": "white",
            "linecolor": "white",
            "ticks": ""
           },
           "bgcolor": "#E5ECF6",
           "caxis": {
            "gridcolor": "white",
            "linecolor": "white",
            "ticks": ""
           }
          },
          "title": {
           "x": 0.05
          },
          "xaxis": {
           "automargin": true,
           "gridcolor": "white",
           "linecolor": "white",
           "ticks": "",
           "title": {
            "standoff": 15
           },
           "zerolinecolor": "white",
           "zerolinewidth": 2
          },
          "yaxis": {
           "automargin": true,
           "gridcolor": "white",
           "linecolor": "white",
           "ticks": "",
           "title": {
            "standoff": 15
           },
           "zerolinecolor": "white",
           "zerolinewidth": 2
          }
         }
        },
        "title": {
         "text": "Emissions vs Receipts by Region"
        },
        "width": 700,
        "xaxis": {
         "anchor": "y",
         "autorange": true,
         "domain": [
          0,
          1
         ],
         "range": [
          -20007.60072522394,
          230762.81091722392
         ],
         "title": {
          "text": "Receipts (USD Millions)"
         },
         "type": "linear"
        },
        "yaxis": {
         "anchor": "x",
         "autorange": true,
         "domain": [
          0,
          1
         ],
         "range": [
          -0.049030166512686185,
          0.8079677019443497
         ],
         "title": {
          "text": "CO2 Emissions per GDP"
         },
         "type": "linear"
        }
       }
      },
      "image/png": "[encoded data removed]",
      "text/html": [
       "<div>                            <div id=\"12abba8d-27d7-4ba2-8510-3c38baaac186\" class=\"plotly-graph-div\" style=\"height:700px; width:700px;\"></div>            <script type=\"text/javascript\">                require([\"plotly\"], function(Plotly) {                    window.PLOTLYENV=window.PLOTLYENV || {};                                    if (document.getElementById(\"12abba8d-27d7-4ba2-8510-3c38baaac186\")) {                    Plotly.newPlot(                        \"12abba8d-27d7-4ba2-8510-3c38baaac186\",                        [{\"customdata\":[[\"2020\"],[\"2015\"],[\"2016\"],[\"2017\"],[\"2018\"],[\"2019\"],[\"1967\"],[\"1968\"],[\"1969\"],[\"1970\"],[\"1971\"],[\"1972\"],[\"1973\"],[\"1974\"],[\"2014\"],[\"1975\"],[\"1977\"],[\"1978\"],[\"1979\"],[\"1980\"],[\"1981\"],[\"1982\"],[\"1983\"],[\"1960\"],[\"1961\"],[\"1962\"],[\"1963\"],[\"1964\"],[\"1965\"],[\"1976\"],[\"2013\"],[\"1966\"],[\"2011\"],[\"2021\"],[\"2022\"],[\"1984\"],[\"1985\"],[\"1986\"],[\"1987\"],[\"1988\"],[\"1989\"],[\"2012\"],[\"1991\"],[\"1992\"],[\"1993\"],[\"1994\"],[\"1995\"],[\"1990\"],[\"1997\"],[\"1996\"],[\"2009\"],[\"2008\"],[\"2007\"],[\"2006\"],[\"2005\"],[\"2010\"],[\"2003\"],[\"2002\"],[\"2001\"],[\"2000\"],[\"1999\"],[\"1998\"],[\"2004\"]],\"hovertemplate\":\"Region=Africa\\u003cbr\\u003eReceipts (USD Millions)=%{x}\\u003cbr\\u003eCO2 Emissions per GDP=%{y}\\u003cbr\\u003eYear=%{customdata[0]}\\u003cextra\\u003e\\u003c\\u002fextra\\u003e\",\"legendgroup\":\"Africa\",\"marker\":{\"color\":\"#636efa\",\"symbol\":\"circle\"},\"mode\":\"markers\",\"name\":\"Africa\",\"orientation\":\"v\",\"showlegend\":true,\"x\":[27756.812028,52247.451511,39557.145833,70766.736176,43098.131652,31065.59546,1506.29,1966.47,2079.26,2555.72,2927.02,2644.07,2970.16,3796.64,74031.095059,7276.89,9494.55,14036.68,13164.67,14795.91,14434.24,16421.63,13960.56,1286.13,1531.53,1591.3,1499.47,1516.65,1401.45,7542.01,43167.541236,1324.23,43279.93,55531.748681,47592.31238,10748.76,9881.81,10467.5,9757.87,15475.11,15683.73,48959.205268,17552.64,13024.33,14878.53,15911.48,18763.04,14187.95,17952.22,19581.95,49496.05,53069.9,67185.48,27805.67,45374.85,56085.96,35088.77,18649.99,16106.1,12171.4,15682.03,17947.8,36423.51],\"xaxis\":\"x\",\"y\":[0.464305505,0.501530413,0.490158903,0.493488258,0.493401405,0.482426884,0.0,0.0,0.0,0.0,0.0,0.0,0.0,0.0,0.517376815,0.0,0.0,0.0,0.0,0.0,0.0,0.0,0.0,0.0,0.0,0.0,0.0,0.0,0.0,0.0,0.518371904,0.0,0.508556973,0.467460647,0.45155804899999996,0.0,0.0,0.0,0.0,0.0,0.0,0.516435033,0.5890912850000001,0.6070107140000001,0.619688785,0.638232345,0.6482486940000001,0.579954092,0.6386703490000001,0.637672682,0.529323393,0.543037175,0.544125292,0.558888557,0.5731446769999999,0.518096688,0.579304583,0.572324885,0.587865693,0.583353334,0.589497341,0.604685412,0.57179578],\"yaxis\":\"y\",\"type\":\"scatter\"},{\"hovertemplate\":\"\\u003cb\\u003eOLS trendline\\u003c\\u002fb\\u003e\\u003cbr\\u003eEmissions (kg CO2 per GDP) = 9.11285e-06 * Receipts in USD millions + 0.0904837\\u003cbr\\u003eR\\u003csup\\u003e2\\u003c\\u002fsup\\u003e=0.410820\\u003cbr\\u003e\\u003cbr\\u003eRegion=Africa\\u003cbr\\u003eReceipts (USD Millions)=%{x}\\u003cbr\\u003eCO2 Emissions per GDP=%{y} \\u003cb\\u003e(trend)\\u003c\\u002fb\\u003e\\u003cextra\\u003e\\u003c\\u002fextra\\u003e\",\"legendgroup\":\"Africa\",\"marker\":{\"color\":\"#636efa\",\"symbol\":\"circle\"},\"mode\":\"lines\",\"name\":\"Africa\",\"showlegend\":false,\"x\":[1286.13,1324.23,1401.45,1499.47,1506.29,1516.65,1531.53,1591.3,1966.47,2079.26,2555.72,2644.07,2927.02,2970.16,3796.64,7276.89,7542.01,9494.55,9757.87,9881.81,10467.5,10748.76,12171.4,13024.33,13164.67,13960.56,14036.68,14187.95,14434.24,14795.91,14878.53,15475.11,15682.03,15683.73,15911.48,16106.1,16421.63,17552.64,17947.8,17952.22,18649.99,18763.04,19581.95,27756.812028,27805.67,31065.59546,35088.77,36423.51,39557.145833,43098.131652,43167.541236,43279.93,45374.85,47592.31238,48959.205268,49496.05,52247.451511,53069.9,55531.748681,56085.96,67185.48,70766.736176,74031.095059],\"xaxis\":\"x\",\"y\":[0.10220404542721988,0.10255124491179461,0.10325493898525553,0.10414818028389111,0.10421032990291473,0.1043047390016075,0.10444033817038628,0.10498501305734251,0.10840388000295678,0.1094317180571611,0.11377362531229178,0.11457874537691587,0.11715722553860672,0.11755035377389686,0.12508193986343302,0.1567969269025728,0.15921292499576056,0.17700612398818982,0.17940571895612212,0.18053516525843688,0.18587246883115544,0.1884355482808009,0.20139984945495842,0.20917247035727676,0.21045136735636388,0.2177041914450302,0.21839786138639056,0.21977636180716797,0.2220207649844885,0.22531660849068652,0.22606951193991395,0.2315060544204283,0.23339168479702158,0.23340717663754065,0.23548262762472952,0.23725616997874358,0.24013154670755898,0.25043826820490467,0.25403930096932864,0.2540795797546783,0.2604382512599726,0.2614684586544916,0.268931060489481,0.34342733037376405,0.3438725656151227,0.37357976875066234,0.4102423442530823,0.4224056261439297,0.4509619711849408,0.4832304344721652,0.48386295341676744,0.4848871350685468,0.5039778212686861,0.524185217473407,0.5366415037249155,0.5415336878258883,0.5666067898331677,0.574101637378314,0.5965360886419411,0.6015865317994814,0.7027347633749925,0.7353702042788586,0.7651178085214979],\"yaxis\":\"y\",\"type\":\"scatter\"},{\"customdata\":[[\"1998\"],[\"1999\"],[\"2000\"],[\"2001\"],[\"2002\"],[\"2006\"],[\"2004\"],[\"2005\"],[\"2007\"],[\"2008\"],[\"2009\"],[\"2003\"],[\"1997\"],[\"2021\"],[\"1995\"],[\"1994\"],[\"1993\"],[\"1992\"],[\"1991\"],[\"1990\"],[\"1989\"],[\"1988\"],[\"1987\"],[\"1986\"],[\"1985\"],[\"1984\"],[\"2022\"],[\"2010\"],[\"1996\"],[\"2011\"],[\"1973\"],[\"2013\"],[\"2020\"],[\"1964\"],[\"1963\"],[\"1962\"],[\"1961\"],[\"1960\"],[\"1983\"],[\"1982\"],[\"1981\"],[\"1980\"],[\"1979\"],[\"1978\"],[\"1977\"],[\"2012\"],[\"1976\"],[\"1974\"],[\"1972\"],[\"1971\"],[\"1970\"],[\"1969\"],[\"1968\"],[\"1967\"],[\"2019\"],[\"2018\"],[\"2017\"],[\"2016\"],[\"2015\"],[\"2014\"],[\"1975\"],[\"1965\"],[\"1966\"]],\"hovertemplate\":\"Region=America\\u003cbr\\u003eReceipts (USD Millions)=%{x}\\u003cbr\\u003eCO2 Emissions per GDP=%{y}\\u003cbr\\u003eYear=%{customdata[0]}\\u003cextra\\u003e\\u003c\\u002fextra\\u003e\",\"legendgroup\":\"America\",\"marker\":{\"color\":\"#EF553B\",\"symbol\":\"circle\"},\"mode\":\"markers\",\"name\":\"America\",\"orientation\":\"v\",\"showlegend\":true,\"x\":[68664.19,91954.76,65947.98,46224.36,3587.99,86237.08,21282.81,66514.08,121481.56,51434.37,89618.61,10722.34,71864.16,77305.704824,41169.82,40627.6,37633.69,24010.59,11982.05,-1104.59,13829.34,10610.34,12502.83,13203.68,3839.54,29411.91,73188.374747,165384.7,57773.55,145401.2,6214.72,104245.150136,-5603.228866,681.21,810.31,787.4,816.67,278.17,17536.7,26587.72,27555.5,19594.05,19590.01,17124.85,9927.66,133172.318549,8726.04,8406.7,4180.73,3061.31,3418.77,2867.6,2784.78,729.48,52915.462144,16689.578799,74636.981477,23186.273988,44281.408029,179400.264338,8467.64,837.4,814.83],\"xaxis\":\"x\",\"y\":[0.165652227,0.164247657,0.164019565,0.163418634,0.162897609,0.1581828,0.1626432,0.161016376,0.156105986,0.154178132,0.152544009,0.163364184,0.162876918,0.14070512,0.15811626,0.15632117,0.156269154,0.157980153,0.158291799,0.157206096,null,null,null,null,null,null,0.137144503,0.153477043,0.161853909,0.15307446,null,0.153851764,0.137920835,null,null,null,null,null,null,null,null,null,null,null,null,0.155000644,null,null,null,null,null,null,null,null,0.141187646,0.141081475,0.14720465,0.150419137,0.151955814,0.152675759,null,null,null],\"yaxis\":\"y\",\"type\":\"scatter\"},{\"hovertemplate\":\"\\u003cb\\u003eOLS trendline\\u003c\\u002fb\\u003e\\u003cbr\\u003eEmissions (kg CO2 per GDP) = -4.8526e-09 * Receipts in USD millions + 0.155244\\u003cbr\\u003eR\\u003csup\\u003e2\\u003c\\u002fsup\\u003e=0.000814\\u003cbr\\u003e\\u003cbr\\u003eRegion=America\\u003cbr\\u003eReceipts (USD Millions)=%{x}\\u003cbr\\u003eCO2 Emissions per GDP=%{y} \\u003cb\\u003e(trend)\\u003c\\u002fb\\u003e\\u003cextra\\u003e\\u003c\\u002fextra\\u003e\",\"legendgroup\":\"America\",\"marker\":{\"color\":\"#EF553B\",\"symbol\":\"circle\"},\"mode\":\"lines\",\"name\":\"America\",\"showlegend\":false,\"x\":[-5603.228866,-1104.59,3587.99,10722.34,11982.05,16689.578799,21282.81,23186.273988,24010.59,37633.69,40627.6,41169.82,44281.408029,46224.36,51434.37,52915.462144,57773.55,65947.98,66514.08,68664.19,71864.16,73188.374747,74636.981477,77305.704824,86237.08,89618.61,91954.76,104245.150136,121481.56,133172.318549,145401.2,165384.7,179400.264338],\"xaxis\":\"x\",\"y\":[0.15527069080235664,0.15524886068582433,0.15522608944961525,0.15519146926859578,0.15518535639380943,0.15516251261698663,0.15514022348123593,0.1551309867227606,0.15512698664292815,0.15506087912254488,0.15504635086052296,0.155043719681151,0.1550286203741613,0.1550191919961103,0.1549939098766021,0.15498672272176225,0.1549631483413375,0.15492348106312281,0.15492073400354836,0.1549103003694525,0.15489477217968653,0.1548883462888556,0.15488131677289146,0.15486836651318117,0.15482502607917586,0.1548086168504833,0.15479728043779137,0.15473764003168455,0.15465399854652928,0.1545972679155368,0.15453792598676974,0.15444095395884813,0.1543729419641364],\"yaxis\":\"y\",\"type\":\"scatter\"},{\"customdata\":[[\"1966\"],[\"2013\"],[\"2014\"],[\"2015\"],[\"2016\"],[\"2017\"],[\"2018\"],[\"2019\"],[\"1967\"],[\"1968\"],[\"1969\"],[\"1970\"],[\"1971\"],[\"1972\"],[\"2012\"],[\"1973\"],[\"1975\"],[\"1976\"],[\"1977\"],[\"1978\"],[\"1979\"],[\"1980\"],[\"1981\"],[\"1982\"],[\"1983\"],[\"1960\"],[\"1961\"],[\"1962\"],[\"1963\"],[\"1974\"],[\"1964\"],[\"2011\"],[\"2009\"],[\"2020\"],[\"2021\"],[\"2022\"],[\"1984\"],[\"1985\"],[\"1986\"],[\"1987\"],[\"1988\"],[\"1989\"],[\"1990\"],[\"1991\"],[\"1992\"],[\"1993\"],[\"2010\"],[\"1994\"],[\"1996\"],[\"1997\"],[\"1998\"],[\"1999\"],[\"2000\"],[\"2001\"],[\"2002\"],[\"2003\"],[\"2004\"],[\"2005\"],[\"2006\"],[\"2007\"],[\"2008\"],[\"1995\"],[\"1965\"]],\"hovertemplate\":\"Region=Asia\\u003cbr\\u003eReceipts (USD Millions)=%{x}\\u003cbr\\u003eCO2 Emissions per GDP=%{y}\\u003cbr\\u003eYear=%{customdata[0]}\\u003cextra\\u003e\\u003c\\u002fextra\\u003e\",\"legendgroup\":\"Asia\",\"marker\":{\"color\":\"#00cc96\",\"symbol\":\"circle\"},\"mode\":\"markers\",\"name\":\"Asia\",\"orientation\":\"v\",\"showlegend\":true,\"x\":[2853.14,155942.973849,216358.439058,78309.498662,125916.210431,140365.946726,100412.912382,189305.873454,3311.93,4262.51,4960.63,4895.3,5371.79,5240.85,108214.3093,5970.62,11332.36,10509.19,9251.52,13032.69,14579.08,8014.79,17881.34,12900.85,14210.06,2144.77,2089.53,2185.54,2530.61,361.91,2628.65,143723.1,75518.55,36871.777057,182916.640951,135441.360149,18303.57,9689.44,12416.04,17233.18,24025.46,28080.85,29091.16,33510.18,34602.15,43978.51,157011.61,73492.05,68895.12,51096.95,49729.11,49122.12,11492.83,14947.84,14715.95,27869.57,54090.53,103063.8,88722.33,119188.91,29094.25,67278.88,2770.73],\"xaxis\":\"x\",\"y\":[null,0.502760528,0.478898513,0.446414351,0.421204469,0.405057196,0.400661958,0.3900753,null,null,null,null,null,null,0.51566332,null,null,null,null,null,null,null,null,null,null,null,null,null,null,null,null,0.537134711,0.535195599,0.391748827,0.384989632,0.372829438,null,null,null,null,null,null,0.702854037,0.692996506,0.65929578,0.64872727,0.533458499,0.623524613,0.584387956,0.568233066,0.573413462,0.536628476,0.528655264,0.521182178,0.520343491,0.546803305,0.572593744,0.586732965,0.584511974,0.567073233,0.539432533,0.631196013,null],\"yaxis\":\"y\",\"type\":\"scatter\"},{\"hovertemplate\":\"\\u003cb\\u003eOLS trendline\\u003c\\u002fb\\u003e\\u003cbr\\u003eEmissions (kg CO2 per GDP) = -8.60644e-07 * Receipts in USD millions + 0.603738\\u003cbr\\u003eR\\u003csup\\u003e2\\u003c\\u002fsup\\u003e=0.284092\\u003cbr\\u003e\\u003cbr\\u003eRegion=Asia\\u003cbr\\u003eReceipts (USD Millions)=%{x}\\u003cbr\\u003eCO2 Emissions per GDP=%{y} \\u003cb\\u003e(trend)\\u003c\\u002fb\\u003e\\u003cextra\\u003e\\u003c\\u002fextra\\u003e\",\"legendgroup\":\"Asia\",\"marker\":{\"color\":\"#00cc96\",\"symbol\":\"circle\"},\"mode\":\"lines\",\"name\":\"Asia\",\"showlegend\":false,\"x\":[11492.83,14715.95,14947.84,27869.57,29091.16,29094.25,33510.18,34602.15,36871.777057,43978.51,49122.12,49729.11,51096.95,54090.53,67278.88,68895.12,73492.05,75518.55,78309.498662,88722.33,100412.912382,103063.8,108214.3093,119188.91,125916.210431,135441.360149,140365.946726,143723.1,155942.973849,157011.61,182916.640951,189305.873454,216358.439058],\"xaxis\":\"x\",\"y\":[0.5938462747557439,0.5910723169892559,0.5908727423328761,0.5797517374401133,0.5787003837617011,0.5786977243728175,0.5748971822522115,0.5739573852039254,0.572004045085718,0.5658876804943931,0.5614608652013585,0.560938463111247,0.5597612402987817,0.5571848346760921,0.5458343649729279,0.5444433582773942,0.5404870396558406,0.5387429452957833,0.5363409330477676,0.5273791958610743,0.5173177703499803,0.5150363007503259,0.5106035476185455,0.5011583271967586,0.49536851878811394,0.48717075915235497,0.4829324449778868,0.4800431323250215,0.4695261754729845,0.4686064605537087,0.4463114601200793,0.4408126077274924,0.4175299888797167],\"yaxis\":\"y\",\"type\":\"scatter\"},{\"customdata\":[[\"2020\"],[\"1964\"],[\"2008\"],[\"2007\"],[\"2006\"],[\"2005\"],[\"2004\"],[\"2003\"],[\"2002\"],[\"2001\"],[\"2000\"],[\"1999\"],[\"1998\"],[\"1997\"],[\"1996\"],[\"1995\"],[\"1994\"],[\"1993\"],[\"1992\"],[\"1991\"],[\"1990\"],[\"1989\"],[\"1988\"],[\"1987\"],[\"1986\"],[\"1985\"],[\"1984\"],[\"2022\"],[\"2021\"],[\"2009\"],[\"2010\"],[\"2011\"],[\"2012\"],[\"1963\"],[\"1962\"],[\"1961\"],[\"1960\"],[\"1983\"],[\"1982\"],[\"1981\"],[\"1980\"],[\"1979\"],[\"1978\"],[\"1977\"],[\"1976\"],[\"1975\"],[\"1965\"],[\"1974\"],[\"1972\"],[\"1971\"],[\"1970\"],[\"1969\"],[\"1968\"],[\"1967\"],[\"2019\"],[\"2018\"],[\"2017\"],[\"2016\"],[\"2015\"],[\"2014\"],[\"2013\"],[\"1973\"],[\"1966\"]],\"hovertemplate\":\"Region=Europe\\u003cbr\\u003eReceipts (USD Millions)=%{x}\\u003cbr\\u003eCO2 Emissions per GDP=%{y}\\u003cbr\\u003eYear=%{customdata[0]}\\u003cextra\\u003e\\u003c\\u002fextra\\u003e\",\"legendgroup\":\"Europe\",\"marker\":{\"color\":\"#ab63fa\",\"symbol\":\"circle\"},\"mode\":\"markers\",\"name\":\"Europe\",\"orientation\":\"v\",\"showlegend\":true,\"x\":[-6.127636,320.56,26376.47,55489.54,40143.18,31155.92,5314.1,7587.88,4594.11,3806.71,12514.58,10535.13,6735.42,10303.51,6555.88,2764.24,5387.94,10535.44,6842.42,4660.45,3145.2,3888.62,4705.35,2417.14,246.59,1234.38,2231.92,23654.322988,9114.689944,8622.33,12405.07,26367.54,21622.557343,452.45,463.93,570.23,385.56,2688.5,3731.79,5942.55,6464.51,6507.62,4621.58,3795.79,2663.9,2333.75,336.63,1973.05,1222.36,1139.99,915.14,1047.47,827.81,322.6,-182.008105,6451.003846,18582.353889,6251.927243,5723.882839,10641.178021,18473.768097,1331.33,387.89],\"xaxis\":\"x\",\"y\":[0.264726967,null,0.336317289,0.350378902,0.372847832,0.388241405,0.412167625,0.445201457,0.453355737,0.474442784,0.493068201,0.521089678,0.537903125,0.536191716,0.575171557,0.589765913,0.591652208,0.589091613,0.601522546,0.583760437,0.565580938,null,null,null,null,null,null,0.262030629,0.265729961,0.330571585,0.332019649,0.329790655,0.315849596,null,null,null,null,null,null,null,null,null,null,null,null,null,null,null,null,null,null,null,null,null,0.268723467,0.274457315,0.27635377,0.279163702,0.281287208,0.286951982,0.300367818,null,null],\"yaxis\":\"y\",\"type\":\"scatter\"},{\"hovertemplate\":\"\\u003cb\\u003eOLS trendline\\u003c\\u002fb\\u003e\\u003cbr\\u003eEmissions (kg CO2 per GDP) = -2.87403e-06 * Receipts in USD millions + 0.445428\\u003cbr\\u003eR\\u003csup\\u003e2\\u003c\\u002fsup\\u003e=0.078821\\u003cbr\\u003e\\u003cbr\\u003eRegion=Europe\\u003cbr\\u003eReceipts (USD Millions)=%{x}\\u003cbr\\u003eCO2 Emissions per GDP=%{y} \\u003cb\\u003e(trend)\\u003c\\u002fb\\u003e\\u003cextra\\u003e\\u003c\\u002fextra\\u003e\",\"legendgroup\":\"Europe\",\"marker\":{\"color\":\"#ab63fa\",\"symbol\":\"circle\"},\"mode\":\"lines\",\"name\":\"Europe\",\"showlegend\":false,\"x\":[-182.008105,-6.127636,2764.24,3145.2,3806.71,4594.11,4660.45,5314.1,5387.94,5723.882839,6251.927243,6451.003846,6555.88,6735.42,6842.42,7587.88,8622.33,9114.689944,10303.51,10535.13,10535.44,10641.178021,12405.07,12514.58,18473.768097,18582.353889,21622.557343,23654.322988,26367.54,26376.47,31155.92,40143.18,55489.54],\"xaxis\":\"x\",\"y\":[0.4459505998144456,0.44544511351964333,0.4374829851518716,0.43638809349071794,0.4344868918349805,0.43222387814852425,0.43203321479068896,0.43015460303535225,0.429942384429043,0.4289768735800158,0.4274592564688796,0.42688710371647653,0.4265856861753476,0.42606968226721154,0.4257621607223159,0.42361968398532623,0.42064664041413663,0.4192315816232618,0.415814873396869,0.41514918984332955,0.41514829889305926,0.4148444043176188,0.40977492033246843,0.4094601849644169,0.3923332809465375,0.3920212017828968,0.3832835563345687,0.3774441945587157,0.3696463189777125,0.3696206538618628,0.3558843562193262,0.33005467323260934,0.2859487261697635],\"yaxis\":\"y\",\"type\":\"scatter\"}],                        {\"template\":{\"data\":{\"histogram2dcontour\":[{\"type\":\"histogram2dcontour\",\"colorbar\":{\"outlinewidth\":0,\"ticks\":\"\"},\"colorscale\":[[0.0,\"#0d0887\"],[0.1111111111111111,\"#46039f\"],[0.2222222222222222,\"#7201a8\"],[0.3333333333333333,\"#9c179e\"],[0.4444444444444444,\"#bd3786\"],[0.5555555555555556,\"#d8576b\"],[0.6666666666666666,\"#ed7953\"],[0.7777777777777778,\"#fb9f3a\"],[0.8888888888888888,\"#fdca26\"],[1.0,\"#f0f921\"]]}],\"choropleth\":[{\"type\":\"choropleth\",\"colorbar\":{\"outlinewidth\":0,\"ticks\":\"\"}}],\"histogram2d\":[{\"type\":\"histogram2d\",\"colorbar\":{\"outlinewidth\":0,\"ticks\":\"\"},\"colorscale\":[[0.0,\"#0d0887\"],[0.1111111111111111,\"#46039f\"],[0.2222222222222222,\"#7201a8\"],[0.3333333333333333,\"#9c179e\"],[0.4444444444444444,\"#bd3786\"],[0.5555555555555556,\"#d8576b\"],[0.6666666666666666,\"#ed7953\"],[0.7777777777777778,\"#fb9f3a\"],[0.8888888888888888,\"#fdca26\"],[1.0,\"#f0f921\"]]}],\"heatmap\":[{\"type\":\"heatmap\",\"colorbar\":{\"outlinewidth\":0,\"ticks\":\"\"},\"colorscale\":[[0.0,\"#0d0887\"],[0.1111111111111111,\"#46039f\"],[0.2222222222222222,\"#7201a8\"],[0.3333333333333333,\"#9c179e\"],[0.4444444444444444,\"#bd3786\"],[0.5555555555555556,\"#d8576b\"],[0.6666666666666666,\"#ed7953\"],[0.7777777777777778,\"#fb9f3a\"],[0.8888888888888888,\"#fdca26\"],[1.0,\"#f0f921\"]]}],\"heatmapgl\":[{\"type\":\"heatmapgl\",\"colorbar\":{\"outlinewidth\":0,\"ticks\":\"\"},\"colorscale\":[[0.0,\"#0d0887\"],[0.1111111111111111,\"#46039f\"],[0.2222222222222222,\"#7201a8\"],[0.3333333333333333,\"#9c179e\"],[0.4444444444444444,\"#bd3786\"],[0.5555555555555556,\"#d8576b\"],[0.6666666666666666,\"#ed7953\"],[0.7777777777777778,\"#fb9f3a\"],[0.8888888888888888,\"#fdca26\"],[1.0,\"#f0f921\"]]}],\"contourcarpet\":[{\"type\":\"contourcarpet\",\"colorbar\":{\"outlinewidth\":0,\"ticks\":\"\"}}],\"contour\":[{\"type\":\"contour\",\"colorbar\":{\"outlinewidth\":0,\"ticks\":\"\"},\"colorscale\":[[0.0,\"#0d0887\"],[0.1111111111111111,\"#46039f\"],[0.2222222222222222,\"#7201a8\"],[0.3333333333333333,\"#9c179e\"],[0.4444444444444444,\"#bd3786\"],[0.5555555555555556,\"#d8576b\"],[0.6666666666666666,\"#ed7953\"],[0.7777777777777778,\"#fb9f3a\"],[0.8888888888888888,\"#fdca26\"],[1.0,\"#f0f921\"]]}],\"surface\":[{\"type\":\"surface\",\"colorbar\":{\"outlinewidth\":0,\"ticks\":\"\"},\"colorscale\":[[0.0,\"#0d0887\"],[0.1111111111111111,\"#46039f\"],[0.2222222222222222,\"#7201a8\"],[0.3333333333333333,\"#9c179e\"],[0.4444444444444444,\"#bd3786\"],[0.5555555555555556,\"#d8576b\"],[0.6666666666666666,\"#ed7953\"],[0.7777777777777778,\"#fb9f3a\"],[0.8888888888888888,\"#fdca26\"],[1.0,\"#f0f921\"]]}],\"mesh3d\":[{\"type\":\"mesh3d\",\"colorbar\":{\"outlinewidth\":0,\"ticks\":\"\"}}],\"scatter\":[{\"fillpattern\":{\"fillmode\":\"overlay\",\"size\":10,\"solidity\":0.2},\"type\":\"scatter\"}],\"parcoords\":[{\"type\":\"parcoords\",\"line\":{\"colorbar\":{\"outlinewidth\":0,\"ticks\":\"\"}}}],\"scatterpolargl\":[{\"type\":\"scatterpolargl\",\"marker\":{\"colorbar\":{\"outlinewidth\":0,\"ticks\":\"\"}}}],\"bar\":[{\"error_x\":{\"color\":\"#2a3f5f\"},\"error_y\":{\"color\":\"#2a3f5f\"},\"marker\":{\"line\":{\"color\":\"#E5ECF6\",\"width\":0.5},\"pattern\":{\"fillmode\":\"overlay\",\"size\":10,\"solidity\":0.2}},\"type\":\"bar\"}],\"scattergeo\":[{\"type\":\"scattergeo\",\"marker\":{\"colorbar\":{\"outlinewidth\":0,\"ticks\":\"\"}}}],\"scatterpolar\":[{\"type\":\"scatterpolar\",\"marker\":{\"colorbar\":{\"outlinewidth\":0,\"ticks\":\"\"}}}],\"histogram\":[{\"marker\":{\"pattern\":{\"fillmode\":\"overlay\",\"size\":10,\"solidity\":0.2}},\"type\":\"histogram\"}],\"scattergl\":[{\"type\":\"scattergl\",\"marker\":{\"colorbar\":{\"outlinewidth\":0,\"ticks\":\"\"}}}],\"scatter3d\":[{\"type\":\"scatter3d\",\"line\":{\"colorbar\":{\"outlinewidth\":0,\"ticks\":\"\"}},\"marker\":{\"colorbar\":{\"outlinewidth\":0,\"ticks\":\"\"}}}],\"scattermapbox\":[{\"type\":\"scattermapbox\",\"marker\":{\"colorbar\":{\"outlinewidth\":0,\"ticks\":\"\"}}}],\"scatterternary\":[{\"type\":\"scatterternary\",\"marker\":{\"colorbar\":{\"outlinewidth\":0,\"ticks\":\"\"}}}],\"scattercarpet\":[{\"type\":\"scattercarpet\",\"marker\":{\"colorbar\":{\"outlinewidth\":0,\"ticks\":\"\"}}}],\"carpet\":[{\"aaxis\":{\"endlinecolor\":\"#2a3f5f\",\"gridcolor\":\"white\",\"linecolor\":\"white\",\"minorgridcolor\":\"white\",\"startlinecolor\":\"#2a3f5f\"},\"baxis\":{\"endlinecolor\":\"#2a3f5f\",\"gridcolor\":\"white\",\"linecolor\":\"white\",\"minorgridcolor\":\"white\",\"startlinecolor\":\"#2a3f5f\"},\"type\":\"carpet\"}],\"table\":[{\"cells\":{\"fill\":{\"color\":\"#EBF0F8\"},\"line\":{\"color\":\"white\"}},\"header\":{\"fill\":{\"color\":\"#C8D4E3\"},\"line\":{\"color\":\"white\"}},\"type\":\"table\"}],\"barpolar\":[{\"marker\":{\"line\":{\"color\":\"#E5ECF6\",\"width\":0.5},\"pattern\":{\"fillmode\":\"overlay\",\"size\":10,\"solidity\":0.2}},\"type\":\"barpolar\"}],\"pie\":[{\"automargin\":true,\"type\":\"pie\"}]},\"layout\":{\"autotypenumbers\":\"strict\",\"colorway\":[\"#636efa\",\"#EF553B\",\"#00cc96\",\"#ab63fa\",\"#FFA15A\",\"#19d3f3\",\"#FF6692\",\"#B6E880\",\"#FF97FF\",\"#FECB52\"],\"font\":{\"color\":\"#2a3f5f\"},\"hovermode\":\"closest\",\"hoverlabel\":{\"align\":\"left\"},\"paper_bgcolor\":\"white\",\"plot_bgcolor\":\"#E5ECF6\",\"polar\":{\"bgcolor\":\"#E5ECF6\",\"angularaxis\":{\"gridcolor\":\"white\",\"linecolor\":\"white\",\"ticks\":\"\"},\"radialaxis\":{\"gridcolor\":\"white\",\"linecolor\":\"white\",\"ticks\":\"\"}},\"ternary\":{\"bgcolor\":\"#E5ECF6\",\"aaxis\":{\"gridcolor\":\"white\",\"linecolor\":\"white\",\"ticks\":\"\"},\"baxis\":{\"gridcolor\":\"white\",\"linecolor\":\"white\",\"ticks\":\"\"},\"caxis\":{\"gridcolor\":\"white\",\"linecolor\":\"white\",\"ticks\":\"\"}},\"coloraxis\":{\"colorbar\":{\"outlinewidth\":0,\"ticks\":\"\"}},\"colorscale\":{\"sequential\":[[0.0,\"#0d0887\"],[0.1111111111111111,\"#46039f\"],[0.2222222222222222,\"#7201a8\"],[0.3333333333333333,\"#9c179e\"],[0.4444444444444444,\"#bd3786\"],[0.5555555555555556,\"#d8576b\"],[0.6666666666666666,\"#ed7953\"],[0.7777777777777778,\"#fb9f3a\"],[0.8888888888888888,\"#fdca26\"],[1.0,\"#f0f921\"]],\"sequentialminus\":[[0.0,\"#0d0887\"],[0.1111111111111111,\"#46039f\"],[0.2222222222222222,\"#7201a8\"],[0.3333333333333333,\"#9c179e\"],[0.4444444444444444,\"#bd3786\"],[0.5555555555555556,\"#d8576b\"],[0.6666666666666666,\"#ed7953\"],[0.7777777777777778,\"#fb9f3a\"],[0.8888888888888888,\"#fdca26\"],[1.0,\"#f0f921\"]],\"diverging\":[[0,\"#8e0152\"],[0.1,\"#c51b7d\"],[0.2,\"#de77ae\"],[0.3,\"#f1b6da\"],[0.4,\"#fde0ef\"],[0.5,\"#f7f7f7\"],[0.6,\"#e6f5d0\"],[0.7,\"#b8e186\"],[0.8,\"#7fbc41\"],[0.9,\"#4d9221\"],[1,\"#276419\"]]},\"xaxis\":{\"gridcolor\":\"white\",\"linecolor\":\"white\",\"ticks\":\"\",\"title\":{\"standoff\":15},\"zerolinecolor\":\"white\",\"automargin\":true,\"zerolinewidth\":2},\"yaxis\":{\"gridcolor\":\"white\",\"linecolor\":\"white\",\"ticks\":\"\",\"title\":{\"standoff\":15},\"zerolinecolor\":\"white\",\"automargin\":true,\"zerolinewidth\":2},\"scene\":{\"xaxis\":{\"backgroundcolor\":\"#E5ECF6\",\"gridcolor\":\"white\",\"linecolor\":\"white\",\"showbackground\":true,\"ticks\":\"\",\"zerolinecolor\":\"white\",\"gridwidth\":2},\"yaxis\":{\"backgroundcolor\":\"#E5ECF6\",\"gridcolor\":\"white\",\"linecolor\":\"white\",\"showbackground\":true,\"ticks\":\"\",\"zerolinecolor\":\"white\",\"gridwidth\":2},\"zaxis\":{\"backgroundcolor\":\"#E5ECF6\",\"gridcolor\":\"white\",\"linecolor\":\"white\",\"showbackground\":true,\"ticks\":\"\",\"zerolinecolor\":\"white\",\"gridwidth\":2}},\"shapedefaults\":{\"line\":{\"color\":\"#2a3f5f\"}},\"annotationdefaults\":{\"arrowcolor\":\"#2a3f5f\",\"arrowhead\":0,\"arrowwidth\":1},\"geo\":{\"bgcolor\":\"white\",\"landcolor\":\"#E5ECF6\",\"subunitcolor\":\"white\",\"showland\":true,\"showlakes\":true,\"lakecolor\":\"white\"},\"title\":{\"x\":0.05},\"mapbox\":{\"style\":\"light\"}}},\"xaxis\":{\"anchor\":\"y\",\"domain\":[0.0,1.0],\"title\":{\"text\":\"Receipts (USD Millions)\"}},\"yaxis\":{\"anchor\":\"x\",\"domain\":[0.0,1.0],\"title\":{\"text\":\"CO2 Emissions per GDP\"}},\"legend\":{\"title\":{\"text\":\"Region\"},\"tracegroupgap\":0},\"title\":{\"text\":\"Emissions vs Receipts by Region\"},\"height\":700,\"width\":700},                        {\"responsive\": true}                    ).then(function(){\n",
       "                            \n",
       "var gd = document.getElementById('12abba8d-27d7-4ba2-8510-3c38baaac186');\n",
       "var x = new MutationObserver(function (mutations, observer) {{\n",
       "        var display = window.getComputedStyle(gd).display;\n",
       "        if (!display || display === 'none') {{\n",
       "            console.log([gd, 'removed!']);\n",
       "            Plotly.purge(gd);\n",
       "            observer.disconnect();\n",
       "        }}\n",
       "}});\n",
       "\n",
       "// Listen for the removal of the full notebook cells\n",
       "var notebookContainer = gd.closest('#notebook-container');\n",
       "if (notebookContainer) {{\n",
       "    x.observe(notebookContainer, {childList: true});\n",
       "}}\n",
       "\n",
       "// Listen for the clearing of the current output cell\n",
       "var outputEl = gd.closest('.output');\n",
       "if (outputEl) {{\n",
       "    x.observe(outputEl, {childList: true});\n",
       "}}\n",
       "\n",
       "                        })                };                });            </script>        </div>"
      ]
     },
     "metadata": {},
     "output_type": "display_data"
    }
   ],
   "source": [
    "fig = px.scatter(\n",
    "    region_data,\n",
    "    x=\"Receipts in USD millions\",\n",
    "    y=\"Emissions (kg CO2 per GDP)\",\n",
    "    color=\"Region\",  \n",
    "    hover_data=[\"Year\"],  \n",
    "    title=\"Emissions vs Receipts by Region\",\n",
    "    labels={\n",
    "        \"Receipts in USD millions\": \"Receipts (USD Millions)\",\n",
    "        \"Emissions (kg CO2 per GDP)\": \"CO2 Emissions per GDP\"\n",
    "    },\n",
    "    trendline=\"ols\",\n",
    "    height=700,  \n",
    "    width=700\n",
    ")\n",
    "\n",
    "fig.show()"
   ]
  },
  {
   "cell_type": "markdown",
   "id": "df776c31-152d-4a88-a5a1-1f0f15a97119",
   "metadata": {},
   "source": [
    "This is surprising stuff, and the correlation shown here is markedly different from that show in Indonesia. In Africa, a strong positive correlation suggests that increased finance may be linked to emissions-intensive industrialization or fossil fuel use. Asia and Europe show negative correlations, indicating that higher finance aligns with lower emissions intensity, potentially due to investments in green technologies and energy efficiency. Meanwhile, America displays little correlation, reflecting a decoupling of finance and emissions intensity. These differences likely stem from varying economic development levels, policy priorities, and the types of projects funded across regions. However, again, it is hard to make causal conclusions based on visual representations alone. "
   ]
  },
  {
   "cell_type": "code",
   "execution_count": null,
   "id": "ceefb3a4-b556-42eb-9c26-12be9658156e",
   "metadata": {},
   "outputs": [],
   "source": []
  },
  {
   "cell_type": "code",
   "execution_count": null,
   "id": "a409cd19-1232-4d80-8cdd-c0a0bbc6ef71",
   "metadata": {},
   "outputs": [],
   "source": []
  }
 ],
 "metadata": {
  "kernelspec": {
   "display_name": "base",
   "language": "python",
   "name": "python3"
  },
  "language_info": {
   "codemirror_mode": {
    "name": "ipython",
    "version": 3
   },
   "file_extension": ".py",
   "mimetype": "text/x-python",
   "name": "python",
   "nbconvert_exporter": "python",
   "pygments_lexer": "ipython3",
   "version": "3.12.2"
  }
 },
 "nbformat": 4,
 "nbformat_minor": 5
}
